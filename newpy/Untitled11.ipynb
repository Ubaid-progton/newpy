{
 "cells": [
  {
   "cell_type": "code",
   "execution_count": 22,
   "metadata": {},
   "outputs": [
    {
     "name": "stderr",
     "output_type": "stream",
     "text": [
      "/home/ubaidullah/snap/jupyter/common/lib/python3.7/site-packages/urllib3/connectionpool.py:1052: InsecureRequestWarning: Unverified HTTPS request is being made to host 'pizza.a2zinc.net'. Adding certificate verification is strongly advised. See: https://urllib3.readthedocs.io/en/1.26.x/advanced-usage.html#ssl-warnings\n",
      "  InsecureRequestWarning,\n",
      "/home/ubaidullah/snap/jupyter/common/lib/python3.7/site-packages/urllib3/connectionpool.py:1052: InsecureRequestWarning: Unverified HTTPS request is being made to host 'pizza.a2zinc.net'. Adding certificate verification is strongly advised. See: https://urllib3.readthedocs.io/en/1.26.x/advanced-usage.html#ssl-warnings\n",
      "  InsecureRequestWarning,\n"
     ]
    },
    {
     "name": "stdout",
     "output_type": "stream",
     "text": [
      "[['7Shifts', 'https://pizza.a2zinc.net/PPNE2022/public/eBooth.aspx?IndexInList=0&FromPage=Exhibitors.aspx&ParentBoothID=&ListByBooth=true&BoothID=1374678', 'Canada', 'http://www.7shifts.com', '', 'Software;']]\n"
     ]
    },
    {
     "name": "stderr",
     "output_type": "stream",
     "text": [
      "/home/ubaidullah/snap/jupyter/common/lib/python3.7/site-packages/urllib3/connectionpool.py:1052: InsecureRequestWarning: Unverified HTTPS request is being made to host 'pizza.a2zinc.net'. Adding certificate verification is strongly advised. See: https://urllib3.readthedocs.io/en/1.26.x/advanced-usage.html#ssl-warnings\n",
      "  InsecureRequestWarning,\n"
     ]
    },
    {
     "name": "stdout",
     "output_type": "stream",
     "text": [
      "[['7Shifts', 'https://pizza.a2zinc.net/PPNE2022/public/eBooth.aspx?IndexInList=0&FromPage=Exhibitors.aspx&ParentBoothID=&ListByBooth=true&BoothID=1374678', 'Canada', 'http://www.7shifts.com', '', 'Software;'], ['All Seasonings Ingredients', 'https://pizza.a2zinc.net/PPNE2022/public/eBooth.aspx?IndexInList=1&FromPage=Exhibitors.aspx&ParentBoothID=&ListByBooth=true&BoothID=1442860', 'United States', 'http://www.allseasonings.com', '', 'Software;Garlic;Onions;Peppers;Salad Dressing/Vinegar;Spices/Seasonings;']]\n"
     ]
    },
    {
     "name": "stderr",
     "output_type": "stream",
     "text": [
      "/home/ubaidullah/snap/jupyter/common/lib/python3.7/site-packages/urllib3/connectionpool.py:1052: InsecureRequestWarning: Unverified HTTPS request is being made to host 'pizza.a2zinc.net'. Adding certificate verification is strongly advised. See: https://urllib3.readthedocs.io/en/1.26.x/advanced-usage.html#ssl-warnings\n",
      "  InsecureRequestWarning,\n"
     ]
    },
    {
     "name": "stdout",
     "output_type": "stream",
     "text": [
      "[['7Shifts', 'https://pizza.a2zinc.net/PPNE2022/public/eBooth.aspx?IndexInList=0&FromPage=Exhibitors.aspx&ParentBoothID=&ListByBooth=true&BoothID=1374678', 'Canada', 'http://www.7shifts.com', '', 'Software;'], ['All Seasonings Ingredients', 'https://pizza.a2zinc.net/PPNE2022/public/eBooth.aspx?IndexInList=1&FromPage=Exhibitors.aspx&ParentBoothID=&ListByBooth=true&BoothID=1442860', 'United States', 'http://www.allseasonings.com', '', 'Software;Garlic;Onions;Peppers;Salad Dressing/Vinegar;Spices/Seasonings;'], ['AM Manufacturing Company', 'https://pizza.a2zinc.net/PPNE2022/public/eBooth.aspx?IndexInList=2&FromPage=Exhibitors.aspx&ParentBoothID=&ListByBooth=true&BoothID=1423556', 'United States', 'http://www.ammfg.com', '', 'Software;Garlic;Onions;Peppers;Salad Dressing/Vinegar;Spices/Seasonings;Dough Dividers;Dough Dockers;Dough Proofers;Dough Rounders;Pizza Presses;']]\n"
     ]
    },
    {
     "name": "stderr",
     "output_type": "stream",
     "text": [
      "/home/ubaidullah/snap/jupyter/common/lib/python3.7/site-packages/urllib3/connectionpool.py:1052: InsecureRequestWarning: Unverified HTTPS request is being made to host 'pizza.a2zinc.net'. Adding certificate verification is strongly advised. See: https://urllib3.readthedocs.io/en/1.26.x/advanced-usage.html#ssl-warnings\n",
      "  InsecureRequestWarning,\n"
     ]
    },
    {
     "name": "stdout",
     "output_type": "stream",
     "text": [
      "[['7Shifts', 'https://pizza.a2zinc.net/PPNE2022/public/eBooth.aspx?IndexInList=0&FromPage=Exhibitors.aspx&ParentBoothID=&ListByBooth=true&BoothID=1374678', 'Canada', 'http://www.7shifts.com', '', 'Software;'], ['All Seasonings Ingredients', 'https://pizza.a2zinc.net/PPNE2022/public/eBooth.aspx?IndexInList=1&FromPage=Exhibitors.aspx&ParentBoothID=&ListByBooth=true&BoothID=1442860', 'United States', 'http://www.allseasonings.com', '', 'Software;Garlic;Onions;Peppers;Salad Dressing/Vinegar;Spices/Seasonings;'], ['AM Manufacturing Company', 'https://pizza.a2zinc.net/PPNE2022/public/eBooth.aspx?IndexInList=2&FromPage=Exhibitors.aspx&ParentBoothID=&ListByBooth=true&BoothID=1423556', 'United States', 'http://www.ammfg.com', '', 'Software;Garlic;Onions;Peppers;Salad Dressing/Vinegar;Spices/Seasonings;Dough Dividers;Dough Dockers;Dough Proofers;Dough Rounders;Pizza Presses;'], [\"Amoroso's Baking Co.\", 'https://pizza.a2zinc.net/PPNE2022/public/eBooth.aspx?IndexInList=3&FromPage=Exhibitors.aspx&ParentBoothID=&ListByBooth=true&BoothID=1375001', 'United States', 'http://AmorosoBaking.com', '', 'Software;Garlic;Onions;Peppers;Salad Dressing/Vinegar;Spices/Seasonings;Dough Dividers;Dough Dockers;Dough Proofers;Dough Rounders;Pizza Presses;Bread/Bread Products;Frozen Products;Sandwich Items;']]\n"
     ]
    },
    {
     "name": "stderr",
     "output_type": "stream",
     "text": [
      "/home/ubaidullah/snap/jupyter/common/lib/python3.7/site-packages/urllib3/connectionpool.py:1052: InsecureRequestWarning: Unverified HTTPS request is being made to host 'pizza.a2zinc.net'. Adding certificate verification is strongly advised. See: https://urllib3.readthedocs.io/en/1.26.x/advanced-usage.html#ssl-warnings\n",
      "  InsecureRequestWarning,\n"
     ]
    },
    {
     "name": "stdout",
     "output_type": "stream",
     "text": [
      "[['7Shifts', 'https://pizza.a2zinc.net/PPNE2022/public/eBooth.aspx?IndexInList=0&FromPage=Exhibitors.aspx&ParentBoothID=&ListByBooth=true&BoothID=1374678', 'Canada', 'http://www.7shifts.com', '', 'Software;'], ['All Seasonings Ingredients', 'https://pizza.a2zinc.net/PPNE2022/public/eBooth.aspx?IndexInList=1&FromPage=Exhibitors.aspx&ParentBoothID=&ListByBooth=true&BoothID=1442860', 'United States', 'http://www.allseasonings.com', '', 'Software;Garlic;Onions;Peppers;Salad Dressing/Vinegar;Spices/Seasonings;'], ['AM Manufacturing Company', 'https://pizza.a2zinc.net/PPNE2022/public/eBooth.aspx?IndexInList=2&FromPage=Exhibitors.aspx&ParentBoothID=&ListByBooth=true&BoothID=1423556', 'United States', 'http://www.ammfg.com', '', 'Software;Garlic;Onions;Peppers;Salad Dressing/Vinegar;Spices/Seasonings;Dough Dividers;Dough Dockers;Dough Proofers;Dough Rounders;Pizza Presses;'], [\"Amoroso's Baking Co.\", 'https://pizza.a2zinc.net/PPNE2022/public/eBooth.aspx?IndexInList=3&FromPage=Exhibitors.aspx&ParentBoothID=&ListByBooth=true&BoothID=1375001', 'United States', 'http://AmorosoBaking.com', '', 'Software;Garlic;Onions;Peppers;Salad Dressing/Vinegar;Spices/Seasonings;Dough Dividers;Dough Dockers;Dough Proofers;Dough Rounders;Pizza Presses;Bread/Bread Products;Frozen Products;Sandwich Items;'], ['Ankutsan Packaging', 'https://pizza.a2zinc.net/PPNE2022/public/eBooth.aspx?IndexInList=4&FromPage=Exhibitors.aspx&ParentBoothID=&ListByBooth=true&BoothID=1544079', 'Turkey', 'http://www.ankutsan.com/en', '', 'Software;Garlic;Onions;Peppers;Salad Dressing/Vinegar;Spices/Seasonings;Dough Dividers;Dough Dockers;Dough Proofers;Dough Rounders;Pizza Presses;Bread/Bread Products;Frozen Products;Sandwich Items;Packaging Supplies;Pizza Packaging;']]\n"
     ]
    },
    {
     "name": "stderr",
     "output_type": "stream",
     "text": [
      "/home/ubaidullah/snap/jupyter/common/lib/python3.7/site-packages/urllib3/connectionpool.py:1052: InsecureRequestWarning: Unverified HTTPS request is being made to host 'pizza.a2zinc.net'. Adding certificate verification is strongly advised. See: https://urllib3.readthedocs.io/en/1.26.x/advanced-usage.html#ssl-warnings\n",
      "  InsecureRequestWarning,\n"
     ]
    },
    {
     "name": "stdout",
     "output_type": "stream",
     "text": [
      "[['7Shifts', 'https://pizza.a2zinc.net/PPNE2022/public/eBooth.aspx?IndexInList=0&FromPage=Exhibitors.aspx&ParentBoothID=&ListByBooth=true&BoothID=1374678', 'Canada', 'http://www.7shifts.com', '', 'Software;'], ['All Seasonings Ingredients', 'https://pizza.a2zinc.net/PPNE2022/public/eBooth.aspx?IndexInList=1&FromPage=Exhibitors.aspx&ParentBoothID=&ListByBooth=true&BoothID=1442860', 'United States', 'http://www.allseasonings.com', '', 'Software;Garlic;Onions;Peppers;Salad Dressing/Vinegar;Spices/Seasonings;'], ['AM Manufacturing Company', 'https://pizza.a2zinc.net/PPNE2022/public/eBooth.aspx?IndexInList=2&FromPage=Exhibitors.aspx&ParentBoothID=&ListByBooth=true&BoothID=1423556', 'United States', 'http://www.ammfg.com', '', 'Software;Garlic;Onions;Peppers;Salad Dressing/Vinegar;Spices/Seasonings;Dough Dividers;Dough Dockers;Dough Proofers;Dough Rounders;Pizza Presses;'], [\"Amoroso's Baking Co.\", 'https://pizza.a2zinc.net/PPNE2022/public/eBooth.aspx?IndexInList=3&FromPage=Exhibitors.aspx&ParentBoothID=&ListByBooth=true&BoothID=1375001', 'United States', 'http://AmorosoBaking.com', '', 'Software;Garlic;Onions;Peppers;Salad Dressing/Vinegar;Spices/Seasonings;Dough Dividers;Dough Dockers;Dough Proofers;Dough Rounders;Pizza Presses;Bread/Bread Products;Frozen Products;Sandwich Items;'], ['Ankutsan Packaging', 'https://pizza.a2zinc.net/PPNE2022/public/eBooth.aspx?IndexInList=4&FromPage=Exhibitors.aspx&ParentBoothID=&ListByBooth=true&BoothID=1544079', 'Turkey', 'http://www.ankutsan.com/en', '', 'Software;Garlic;Onions;Peppers;Salad Dressing/Vinegar;Spices/Seasonings;Dough Dividers;Dough Dockers;Dough Proofers;Dough Rounders;Pizza Presses;Bread/Bread Products;Frozen Products;Sandwich Items;Packaging Supplies;Pizza Packaging;'], ['Arcobaleno Pasta Equipment', 'https://pizza.a2zinc.net/PPNE2022/public/eBooth.aspx?IndexInList=5&FromPage=Exhibitors.aspx&ParentBoothID=&ListByBooth=true&BoothID=1375049', 'United States', 'http://www.arcobalenollc.com', '', 'Software;Garlic;Onions;Peppers;Salad Dressing/Vinegar;Spices/Seasonings;Dough Dividers;Dough Dockers;Dough Proofers;Dough Rounders;Pizza Presses;Bread/Bread Products;Frozen Products;Sandwich Items;Packaging Supplies;Pizza Packaging;Dough Rollers/Sheeters;Dough Rounders;Ovens, Deck;Pasta;Pasta Equipment;Slicers/Dicers;']]\n"
     ]
    },
    {
     "name": "stderr",
     "output_type": "stream",
     "text": [
      "/home/ubaidullah/snap/jupyter/common/lib/python3.7/site-packages/urllib3/connectionpool.py:1052: InsecureRequestWarning: Unverified HTTPS request is being made to host 'pizza.a2zinc.net'. Adding certificate verification is strongly advised. See: https://urllib3.readthedocs.io/en/1.26.x/advanced-usage.html#ssl-warnings\n",
      "  InsecureRequestWarning,\n"
     ]
    },
    {
     "name": "stdout",
     "output_type": "stream",
     "text": [
      "[['7Shifts', 'https://pizza.a2zinc.net/PPNE2022/public/eBooth.aspx?IndexInList=0&FromPage=Exhibitors.aspx&ParentBoothID=&ListByBooth=true&BoothID=1374678', 'Canada', 'http://www.7shifts.com', '', 'Software;'], ['All Seasonings Ingredients', 'https://pizza.a2zinc.net/PPNE2022/public/eBooth.aspx?IndexInList=1&FromPage=Exhibitors.aspx&ParentBoothID=&ListByBooth=true&BoothID=1442860', 'United States', 'http://www.allseasonings.com', '', 'Software;Garlic;Onions;Peppers;Salad Dressing/Vinegar;Spices/Seasonings;'], ['AM Manufacturing Company', 'https://pizza.a2zinc.net/PPNE2022/public/eBooth.aspx?IndexInList=2&FromPage=Exhibitors.aspx&ParentBoothID=&ListByBooth=true&BoothID=1423556', 'United States', 'http://www.ammfg.com', '', 'Software;Garlic;Onions;Peppers;Salad Dressing/Vinegar;Spices/Seasonings;Dough Dividers;Dough Dockers;Dough Proofers;Dough Rounders;Pizza Presses;'], [\"Amoroso's Baking Co.\", 'https://pizza.a2zinc.net/PPNE2022/public/eBooth.aspx?IndexInList=3&FromPage=Exhibitors.aspx&ParentBoothID=&ListByBooth=true&BoothID=1375001', 'United States', 'http://AmorosoBaking.com', '', 'Software;Garlic;Onions;Peppers;Salad Dressing/Vinegar;Spices/Seasonings;Dough Dividers;Dough Dockers;Dough Proofers;Dough Rounders;Pizza Presses;Bread/Bread Products;Frozen Products;Sandwich Items;'], ['Ankutsan Packaging', 'https://pizza.a2zinc.net/PPNE2022/public/eBooth.aspx?IndexInList=4&FromPage=Exhibitors.aspx&ParentBoothID=&ListByBooth=true&BoothID=1544079', 'Turkey', 'http://www.ankutsan.com/en', '', 'Software;Garlic;Onions;Peppers;Salad Dressing/Vinegar;Spices/Seasonings;Dough Dividers;Dough Dockers;Dough Proofers;Dough Rounders;Pizza Presses;Bread/Bread Products;Frozen Products;Sandwich Items;Packaging Supplies;Pizza Packaging;'], ['Arcobaleno Pasta Equipment', 'https://pizza.a2zinc.net/PPNE2022/public/eBooth.aspx?IndexInList=5&FromPage=Exhibitors.aspx&ParentBoothID=&ListByBooth=true&BoothID=1375049', 'United States', 'http://www.arcobalenollc.com', '', 'Software;Garlic;Onions;Peppers;Salad Dressing/Vinegar;Spices/Seasonings;Dough Dividers;Dough Dockers;Dough Proofers;Dough Rounders;Pizza Presses;Bread/Bread Products;Frozen Products;Sandwich Items;Packaging Supplies;Pizza Packaging;Dough Rollers/Sheeters;Dough Rounders;Ovens, Deck;Pasta;Pasta Equipment;Slicers/Dicers;'], ['Arrow POS', 'https://pizza.a2zinc.net/PPNE2022/public/eBooth.aspx?IndexInList=6&FromPage=Exhibitors.aspx&ParentBoothID=&ListByBooth=true&BoothID=1374692', 'United States', 'http://www.ArrowPOS.com', '', 'Software;Garlic;Onions;Peppers;Salad Dressing/Vinegar;Spices/Seasonings;Dough Dividers;Dough Dockers;Dough Proofers;Dough Rounders;Pizza Presses;Bread/Bread Products;Frozen Products;Sandwich Items;Packaging Supplies;Pizza Packaging;Dough Rollers/Sheeters;Dough Rounders;Ovens, Deck;Pasta;Pasta Equipment;Slicers/Dicers;Call Center;Computer Accessories/Equipment;Online Ordering;POS/POP Systems;']]\n"
     ]
    },
    {
     "name": "stderr",
     "output_type": "stream",
     "text": [
      "/home/ubaidullah/snap/jupyter/common/lib/python3.7/site-packages/urllib3/connectionpool.py:1052: InsecureRequestWarning: Unverified HTTPS request is being made to host 'pizza.a2zinc.net'. Adding certificate verification is strongly advised. See: https://urllib3.readthedocs.io/en/1.26.x/advanced-usage.html#ssl-warnings\n",
      "  InsecureRequestWarning,\n"
     ]
    },
    {
     "name": "stdout",
     "output_type": "stream",
     "text": [
      "[['7Shifts', 'https://pizza.a2zinc.net/PPNE2022/public/eBooth.aspx?IndexInList=0&FromPage=Exhibitors.aspx&ParentBoothID=&ListByBooth=true&BoothID=1374678', 'Canada', 'http://www.7shifts.com', '', 'Software;'], ['All Seasonings Ingredients', 'https://pizza.a2zinc.net/PPNE2022/public/eBooth.aspx?IndexInList=1&FromPage=Exhibitors.aspx&ParentBoothID=&ListByBooth=true&BoothID=1442860', 'United States', 'http://www.allseasonings.com', '', 'Software;Garlic;Onions;Peppers;Salad Dressing/Vinegar;Spices/Seasonings;'], ['AM Manufacturing Company', 'https://pizza.a2zinc.net/PPNE2022/public/eBooth.aspx?IndexInList=2&FromPage=Exhibitors.aspx&ParentBoothID=&ListByBooth=true&BoothID=1423556', 'United States', 'http://www.ammfg.com', '', 'Software;Garlic;Onions;Peppers;Salad Dressing/Vinegar;Spices/Seasonings;Dough Dividers;Dough Dockers;Dough Proofers;Dough Rounders;Pizza Presses;'], [\"Amoroso's Baking Co.\", 'https://pizza.a2zinc.net/PPNE2022/public/eBooth.aspx?IndexInList=3&FromPage=Exhibitors.aspx&ParentBoothID=&ListByBooth=true&BoothID=1375001', 'United States', 'http://AmorosoBaking.com', '', 'Software;Garlic;Onions;Peppers;Salad Dressing/Vinegar;Spices/Seasonings;Dough Dividers;Dough Dockers;Dough Proofers;Dough Rounders;Pizza Presses;Bread/Bread Products;Frozen Products;Sandwich Items;'], ['Ankutsan Packaging', 'https://pizza.a2zinc.net/PPNE2022/public/eBooth.aspx?IndexInList=4&FromPage=Exhibitors.aspx&ParentBoothID=&ListByBooth=true&BoothID=1544079', 'Turkey', 'http://www.ankutsan.com/en', '', 'Software;Garlic;Onions;Peppers;Salad Dressing/Vinegar;Spices/Seasonings;Dough Dividers;Dough Dockers;Dough Proofers;Dough Rounders;Pizza Presses;Bread/Bread Products;Frozen Products;Sandwich Items;Packaging Supplies;Pizza Packaging;'], ['Arcobaleno Pasta Equipment', 'https://pizza.a2zinc.net/PPNE2022/public/eBooth.aspx?IndexInList=5&FromPage=Exhibitors.aspx&ParentBoothID=&ListByBooth=true&BoothID=1375049', 'United States', 'http://www.arcobalenollc.com', '', 'Software;Garlic;Onions;Peppers;Salad Dressing/Vinegar;Spices/Seasonings;Dough Dividers;Dough Dockers;Dough Proofers;Dough Rounders;Pizza Presses;Bread/Bread Products;Frozen Products;Sandwich Items;Packaging Supplies;Pizza Packaging;Dough Rollers/Sheeters;Dough Rounders;Ovens, Deck;Pasta;Pasta Equipment;Slicers/Dicers;'], ['Arrow POS', 'https://pizza.a2zinc.net/PPNE2022/public/eBooth.aspx?IndexInList=6&FromPage=Exhibitors.aspx&ParentBoothID=&ListByBooth=true&BoothID=1374692', 'United States', 'http://www.ArrowPOS.com', '', 'Software;Garlic;Onions;Peppers;Salad Dressing/Vinegar;Spices/Seasonings;Dough Dividers;Dough Dockers;Dough Proofers;Dough Rounders;Pizza Presses;Bread/Bread Products;Frozen Products;Sandwich Items;Packaging Supplies;Pizza Packaging;Dough Rollers/Sheeters;Dough Rounders;Ovens, Deck;Pasta;Pasta Equipment;Slicers/Dicers;Call Center;Computer Accessories/Equipment;Online Ordering;POS/POP Systems;'], [\"AR's Hot Southern Honey\", 'https://pizza.a2zinc.net/PPNE2022/public/eBooth.aspx?IndexInList=7&FromPage=Exhibitors.aspx&ParentBoothID=&ListByBooth=true&BoothID=1544101', 'United States', 'http://www.hotsouthernhoney.com', '', 'Software;Garlic;Onions;Peppers;Salad Dressing/Vinegar;Spices/Seasonings;Dough Dividers;Dough Dockers;Dough Proofers;Dough Rounders;Pizza Presses;Bread/Bread Products;Frozen Products;Sandwich Items;Packaging Supplies;Pizza Packaging;Dough Rollers/Sheeters;Dough Rounders;Ovens, Deck;Pasta;Pasta Equipment;Slicers/Dicers;Call Center;Computer Accessories/Equipment;Online Ordering;POS/POP Systems;Condiments;Peppers;Pizza Toppings;Sauce, Hot;Spices/Seasonings;']]\n"
     ]
    },
    {
     "name": "stderr",
     "output_type": "stream",
     "text": [
      "/home/ubaidullah/snap/jupyter/common/lib/python3.7/site-packages/urllib3/connectionpool.py:1052: InsecureRequestWarning: Unverified HTTPS request is being made to host 'pizza.a2zinc.net'. Adding certificate verification is strongly advised. See: https://urllib3.readthedocs.io/en/1.26.x/advanced-usage.html#ssl-warnings\n",
      "  InsecureRequestWarning,\n"
     ]
    },
    {
     "name": "stdout",
     "output_type": "stream",
     "text": [
      "[['7Shifts', 'https://pizza.a2zinc.net/PPNE2022/public/eBooth.aspx?IndexInList=0&FromPage=Exhibitors.aspx&ParentBoothID=&ListByBooth=true&BoothID=1374678', 'Canada', 'http://www.7shifts.com', '', 'Software;'], ['All Seasonings Ingredients', 'https://pizza.a2zinc.net/PPNE2022/public/eBooth.aspx?IndexInList=1&FromPage=Exhibitors.aspx&ParentBoothID=&ListByBooth=true&BoothID=1442860', 'United States', 'http://www.allseasonings.com', '', 'Software;Garlic;Onions;Peppers;Salad Dressing/Vinegar;Spices/Seasonings;'], ['AM Manufacturing Company', 'https://pizza.a2zinc.net/PPNE2022/public/eBooth.aspx?IndexInList=2&FromPage=Exhibitors.aspx&ParentBoothID=&ListByBooth=true&BoothID=1423556', 'United States', 'http://www.ammfg.com', '', 'Software;Garlic;Onions;Peppers;Salad Dressing/Vinegar;Spices/Seasonings;Dough Dividers;Dough Dockers;Dough Proofers;Dough Rounders;Pizza Presses;'], [\"Amoroso's Baking Co.\", 'https://pizza.a2zinc.net/PPNE2022/public/eBooth.aspx?IndexInList=3&FromPage=Exhibitors.aspx&ParentBoothID=&ListByBooth=true&BoothID=1375001', 'United States', 'http://AmorosoBaking.com', '', 'Software;Garlic;Onions;Peppers;Salad Dressing/Vinegar;Spices/Seasonings;Dough Dividers;Dough Dockers;Dough Proofers;Dough Rounders;Pizza Presses;Bread/Bread Products;Frozen Products;Sandwich Items;'], ['Ankutsan Packaging', 'https://pizza.a2zinc.net/PPNE2022/public/eBooth.aspx?IndexInList=4&FromPage=Exhibitors.aspx&ParentBoothID=&ListByBooth=true&BoothID=1544079', 'Turkey', 'http://www.ankutsan.com/en', '', 'Software;Garlic;Onions;Peppers;Salad Dressing/Vinegar;Spices/Seasonings;Dough Dividers;Dough Dockers;Dough Proofers;Dough Rounders;Pizza Presses;Bread/Bread Products;Frozen Products;Sandwich Items;Packaging Supplies;Pizza Packaging;'], ['Arcobaleno Pasta Equipment', 'https://pizza.a2zinc.net/PPNE2022/public/eBooth.aspx?IndexInList=5&FromPage=Exhibitors.aspx&ParentBoothID=&ListByBooth=true&BoothID=1375049', 'United States', 'http://www.arcobalenollc.com', '', 'Software;Garlic;Onions;Peppers;Salad Dressing/Vinegar;Spices/Seasonings;Dough Dividers;Dough Dockers;Dough Proofers;Dough Rounders;Pizza Presses;Bread/Bread Products;Frozen Products;Sandwich Items;Packaging Supplies;Pizza Packaging;Dough Rollers/Sheeters;Dough Rounders;Ovens, Deck;Pasta;Pasta Equipment;Slicers/Dicers;'], ['Arrow POS', 'https://pizza.a2zinc.net/PPNE2022/public/eBooth.aspx?IndexInList=6&FromPage=Exhibitors.aspx&ParentBoothID=&ListByBooth=true&BoothID=1374692', 'United States', 'http://www.ArrowPOS.com', '', 'Software;Garlic;Onions;Peppers;Salad Dressing/Vinegar;Spices/Seasonings;Dough Dividers;Dough Dockers;Dough Proofers;Dough Rounders;Pizza Presses;Bread/Bread Products;Frozen Products;Sandwich Items;Packaging Supplies;Pizza Packaging;Dough Rollers/Sheeters;Dough Rounders;Ovens, Deck;Pasta;Pasta Equipment;Slicers/Dicers;Call Center;Computer Accessories/Equipment;Online Ordering;POS/POP Systems;'], [\"AR's Hot Southern Honey\", 'https://pizza.a2zinc.net/PPNE2022/public/eBooth.aspx?IndexInList=7&FromPage=Exhibitors.aspx&ParentBoothID=&ListByBooth=true&BoothID=1544101', 'United States', 'http://www.hotsouthernhoney.com', '', 'Software;Garlic;Onions;Peppers;Salad Dressing/Vinegar;Spices/Seasonings;Dough Dividers;Dough Dockers;Dough Proofers;Dough Rounders;Pizza Presses;Bread/Bread Products;Frozen Products;Sandwich Items;Packaging Supplies;Pizza Packaging;Dough Rollers/Sheeters;Dough Rounders;Ovens, Deck;Pasta;Pasta Equipment;Slicers/Dicers;Call Center;Computer Accessories/Equipment;Online Ordering;POS/POP Systems;Condiments;Peppers;Pizza Toppings;Sauce, Hot;Spices/Seasonings;'], ['Aspire Bakeries', 'https://pizza.a2zinc.net/PPNE2022/public/eBooth.aspx?IndexInList=8&FromPage=Exhibitors.aspx&ParentBoothID=&ListByBooth=true&BoothID=1374696', 'United States', 'https://www.aspirebakeries.com/', '', 'Software;Garlic;Onions;Peppers;Salad Dressing/Vinegar;Spices/Seasonings;Dough Dividers;Dough Dockers;Dough Proofers;Dough Rounders;Pizza Presses;Bread/Bread Products;Frozen Products;Sandwich Items;Packaging Supplies;Pizza Packaging;Dough Rollers/Sheeters;Dough Rounders;Ovens, Deck;Pasta;Pasta Equipment;Slicers/Dicers;Call Center;Computer Accessories/Equipment;Online Ordering;POS/POP Systems;Condiments;Peppers;Pizza Toppings;Sauce, Hot;Spices/Seasonings;Bread/Bread Products;Cookies/Dough;Desserts;']]\n"
     ]
    },
    {
     "name": "stderr",
     "output_type": "stream",
     "text": [
      "/home/ubaidullah/snap/jupyter/common/lib/python3.7/site-packages/urllib3/connectionpool.py:1052: InsecureRequestWarning: Unverified HTTPS request is being made to host 'pizza.a2zinc.net'. Adding certificate verification is strongly advised. See: https://urllib3.readthedocs.io/en/1.26.x/advanced-usage.html#ssl-warnings\n",
      "  InsecureRequestWarning,\n"
     ]
    },
    {
     "name": "stdout",
     "output_type": "stream",
     "text": [
      "[['7Shifts', 'https://pizza.a2zinc.net/PPNE2022/public/eBooth.aspx?IndexInList=0&FromPage=Exhibitors.aspx&ParentBoothID=&ListByBooth=true&BoothID=1374678', 'Canada', 'http://www.7shifts.com', '', 'Software;'], ['All Seasonings Ingredients', 'https://pizza.a2zinc.net/PPNE2022/public/eBooth.aspx?IndexInList=1&FromPage=Exhibitors.aspx&ParentBoothID=&ListByBooth=true&BoothID=1442860', 'United States', 'http://www.allseasonings.com', '', 'Software;Garlic;Onions;Peppers;Salad Dressing/Vinegar;Spices/Seasonings;'], ['AM Manufacturing Company', 'https://pizza.a2zinc.net/PPNE2022/public/eBooth.aspx?IndexInList=2&FromPage=Exhibitors.aspx&ParentBoothID=&ListByBooth=true&BoothID=1423556', 'United States', 'http://www.ammfg.com', '', 'Software;Garlic;Onions;Peppers;Salad Dressing/Vinegar;Spices/Seasonings;Dough Dividers;Dough Dockers;Dough Proofers;Dough Rounders;Pizza Presses;'], [\"Amoroso's Baking Co.\", 'https://pizza.a2zinc.net/PPNE2022/public/eBooth.aspx?IndexInList=3&FromPage=Exhibitors.aspx&ParentBoothID=&ListByBooth=true&BoothID=1375001', 'United States', 'http://AmorosoBaking.com', '', 'Software;Garlic;Onions;Peppers;Salad Dressing/Vinegar;Spices/Seasonings;Dough Dividers;Dough Dockers;Dough Proofers;Dough Rounders;Pizza Presses;Bread/Bread Products;Frozen Products;Sandwich Items;'], ['Ankutsan Packaging', 'https://pizza.a2zinc.net/PPNE2022/public/eBooth.aspx?IndexInList=4&FromPage=Exhibitors.aspx&ParentBoothID=&ListByBooth=true&BoothID=1544079', 'Turkey', 'http://www.ankutsan.com/en', '', 'Software;Garlic;Onions;Peppers;Salad Dressing/Vinegar;Spices/Seasonings;Dough Dividers;Dough Dockers;Dough Proofers;Dough Rounders;Pizza Presses;Bread/Bread Products;Frozen Products;Sandwich Items;Packaging Supplies;Pizza Packaging;'], ['Arcobaleno Pasta Equipment', 'https://pizza.a2zinc.net/PPNE2022/public/eBooth.aspx?IndexInList=5&FromPage=Exhibitors.aspx&ParentBoothID=&ListByBooth=true&BoothID=1375049', 'United States', 'http://www.arcobalenollc.com', '', 'Software;Garlic;Onions;Peppers;Salad Dressing/Vinegar;Spices/Seasonings;Dough Dividers;Dough Dockers;Dough Proofers;Dough Rounders;Pizza Presses;Bread/Bread Products;Frozen Products;Sandwich Items;Packaging Supplies;Pizza Packaging;Dough Rollers/Sheeters;Dough Rounders;Ovens, Deck;Pasta;Pasta Equipment;Slicers/Dicers;'], ['Arrow POS', 'https://pizza.a2zinc.net/PPNE2022/public/eBooth.aspx?IndexInList=6&FromPage=Exhibitors.aspx&ParentBoothID=&ListByBooth=true&BoothID=1374692', 'United States', 'http://www.ArrowPOS.com', '', 'Software;Garlic;Onions;Peppers;Salad Dressing/Vinegar;Spices/Seasonings;Dough Dividers;Dough Dockers;Dough Proofers;Dough Rounders;Pizza Presses;Bread/Bread Products;Frozen Products;Sandwich Items;Packaging Supplies;Pizza Packaging;Dough Rollers/Sheeters;Dough Rounders;Ovens, Deck;Pasta;Pasta Equipment;Slicers/Dicers;Call Center;Computer Accessories/Equipment;Online Ordering;POS/POP Systems;'], [\"AR's Hot Southern Honey\", 'https://pizza.a2zinc.net/PPNE2022/public/eBooth.aspx?IndexInList=7&FromPage=Exhibitors.aspx&ParentBoothID=&ListByBooth=true&BoothID=1544101', 'United States', 'http://www.hotsouthernhoney.com', '', 'Software;Garlic;Onions;Peppers;Salad Dressing/Vinegar;Spices/Seasonings;Dough Dividers;Dough Dockers;Dough Proofers;Dough Rounders;Pizza Presses;Bread/Bread Products;Frozen Products;Sandwich Items;Packaging Supplies;Pizza Packaging;Dough Rollers/Sheeters;Dough Rounders;Ovens, Deck;Pasta;Pasta Equipment;Slicers/Dicers;Call Center;Computer Accessories/Equipment;Online Ordering;POS/POP Systems;Condiments;Peppers;Pizza Toppings;Sauce, Hot;Spices/Seasonings;'], ['Aspire Bakeries', 'https://pizza.a2zinc.net/PPNE2022/public/eBooth.aspx?IndexInList=8&FromPage=Exhibitors.aspx&ParentBoothID=&ListByBooth=true&BoothID=1374696', 'United States', 'https://www.aspirebakeries.com/', '', 'Software;Garlic;Onions;Peppers;Salad Dressing/Vinegar;Spices/Seasonings;Dough Dividers;Dough Dockers;Dough Proofers;Dough Rounders;Pizza Presses;Bread/Bread Products;Frozen Products;Sandwich Items;Packaging Supplies;Pizza Packaging;Dough Rollers/Sheeters;Dough Rounders;Ovens, Deck;Pasta;Pasta Equipment;Slicers/Dicers;Call Center;Computer Accessories/Equipment;Online Ordering;POS/POP Systems;Condiments;Peppers;Pizza Toppings;Sauce, Hot;Spices/Seasonings;Bread/Bread Products;Cookies/Dough;Desserts;'], ['Atalanta Corporation', 'https://pizza.a2zinc.net/PPNE2022/public/eBooth.aspx?IndexInList=9&FromPage=Exhibitors.aspx&ParentBoothID=&ListByBooth=true&BoothID=1396908', 'United States', 'http://www.atalantacorporation.com', '', 'Software;Garlic;Onions;Peppers;Salad Dressing/Vinegar;Spices/Seasonings;Dough Dividers;Dough Dockers;Dough Proofers;Dough Rounders;Pizza Presses;Bread/Bread Products;Frozen Products;Sandwich Items;Packaging Supplies;Pizza Packaging;Dough Rollers/Sheeters;Dough Rounders;Ovens, Deck;Pasta;Pasta Equipment;Slicers/Dicers;Call Center;Computer Accessories/Equipment;Online Ordering;POS/POP Systems;Condiments;Peppers;Pizza Toppings;Sauce, Hot;Spices/Seasonings;Bread/Bread Products;Cookies/Dough;Desserts;Bacon/Canadian Bacon;Flour;Oils;Pasta;Pizza Toppings;Prosciutto;Sauce, Tomato;Cappuccino/Coffee/Espresso;Cheese/Cheese Alternatives;Condiments;']]\n"
     ]
    },
    {
     "name": "stderr",
     "output_type": "stream",
     "text": [
      "/home/ubaidullah/snap/jupyter/common/lib/python3.7/site-packages/urllib3/connectionpool.py:1052: InsecureRequestWarning: Unverified HTTPS request is being made to host 'pizza.a2zinc.net'. Adding certificate verification is strongly advised. See: https://urllib3.readthedocs.io/en/1.26.x/advanced-usage.html#ssl-warnings\n",
      "  InsecureRequestWarning,\n"
     ]
    },
    {
     "name": "stdout",
     "output_type": "stream",
     "text": [
      "[['7Shifts', 'https://pizza.a2zinc.net/PPNE2022/public/eBooth.aspx?IndexInList=0&FromPage=Exhibitors.aspx&ParentBoothID=&ListByBooth=true&BoothID=1374678', 'Canada', 'http://www.7shifts.com', '', 'Software;'], ['All Seasonings Ingredients', 'https://pizza.a2zinc.net/PPNE2022/public/eBooth.aspx?IndexInList=1&FromPage=Exhibitors.aspx&ParentBoothID=&ListByBooth=true&BoothID=1442860', 'United States', 'http://www.allseasonings.com', '', 'Software;Garlic;Onions;Peppers;Salad Dressing/Vinegar;Spices/Seasonings;'], ['AM Manufacturing Company', 'https://pizza.a2zinc.net/PPNE2022/public/eBooth.aspx?IndexInList=2&FromPage=Exhibitors.aspx&ParentBoothID=&ListByBooth=true&BoothID=1423556', 'United States', 'http://www.ammfg.com', '', 'Software;Garlic;Onions;Peppers;Salad Dressing/Vinegar;Spices/Seasonings;Dough Dividers;Dough Dockers;Dough Proofers;Dough Rounders;Pizza Presses;'], [\"Amoroso's Baking Co.\", 'https://pizza.a2zinc.net/PPNE2022/public/eBooth.aspx?IndexInList=3&FromPage=Exhibitors.aspx&ParentBoothID=&ListByBooth=true&BoothID=1375001', 'United States', 'http://AmorosoBaking.com', '', 'Software;Garlic;Onions;Peppers;Salad Dressing/Vinegar;Spices/Seasonings;Dough Dividers;Dough Dockers;Dough Proofers;Dough Rounders;Pizza Presses;Bread/Bread Products;Frozen Products;Sandwich Items;'], ['Ankutsan Packaging', 'https://pizza.a2zinc.net/PPNE2022/public/eBooth.aspx?IndexInList=4&FromPage=Exhibitors.aspx&ParentBoothID=&ListByBooth=true&BoothID=1544079', 'Turkey', 'http://www.ankutsan.com/en', '', 'Software;Garlic;Onions;Peppers;Salad Dressing/Vinegar;Spices/Seasonings;Dough Dividers;Dough Dockers;Dough Proofers;Dough Rounders;Pizza Presses;Bread/Bread Products;Frozen Products;Sandwich Items;Packaging Supplies;Pizza Packaging;'], ['Arcobaleno Pasta Equipment', 'https://pizza.a2zinc.net/PPNE2022/public/eBooth.aspx?IndexInList=5&FromPage=Exhibitors.aspx&ParentBoothID=&ListByBooth=true&BoothID=1375049', 'United States', 'http://www.arcobalenollc.com', '', 'Software;Garlic;Onions;Peppers;Salad Dressing/Vinegar;Spices/Seasonings;Dough Dividers;Dough Dockers;Dough Proofers;Dough Rounders;Pizza Presses;Bread/Bread Products;Frozen Products;Sandwich Items;Packaging Supplies;Pizza Packaging;Dough Rollers/Sheeters;Dough Rounders;Ovens, Deck;Pasta;Pasta Equipment;Slicers/Dicers;'], ['Arrow POS', 'https://pizza.a2zinc.net/PPNE2022/public/eBooth.aspx?IndexInList=6&FromPage=Exhibitors.aspx&ParentBoothID=&ListByBooth=true&BoothID=1374692', 'United States', 'http://www.ArrowPOS.com', '', 'Software;Garlic;Onions;Peppers;Salad Dressing/Vinegar;Spices/Seasonings;Dough Dividers;Dough Dockers;Dough Proofers;Dough Rounders;Pizza Presses;Bread/Bread Products;Frozen Products;Sandwich Items;Packaging Supplies;Pizza Packaging;Dough Rollers/Sheeters;Dough Rounders;Ovens, Deck;Pasta;Pasta Equipment;Slicers/Dicers;Call Center;Computer Accessories/Equipment;Online Ordering;POS/POP Systems;'], [\"AR's Hot Southern Honey\", 'https://pizza.a2zinc.net/PPNE2022/public/eBooth.aspx?IndexInList=7&FromPage=Exhibitors.aspx&ParentBoothID=&ListByBooth=true&BoothID=1544101', 'United States', 'http://www.hotsouthernhoney.com', '', 'Software;Garlic;Onions;Peppers;Salad Dressing/Vinegar;Spices/Seasonings;Dough Dividers;Dough Dockers;Dough Proofers;Dough Rounders;Pizza Presses;Bread/Bread Products;Frozen Products;Sandwich Items;Packaging Supplies;Pizza Packaging;Dough Rollers/Sheeters;Dough Rounders;Ovens, Deck;Pasta;Pasta Equipment;Slicers/Dicers;Call Center;Computer Accessories/Equipment;Online Ordering;POS/POP Systems;Condiments;Peppers;Pizza Toppings;Sauce, Hot;Spices/Seasonings;'], ['Aspire Bakeries', 'https://pizza.a2zinc.net/PPNE2022/public/eBooth.aspx?IndexInList=8&FromPage=Exhibitors.aspx&ParentBoothID=&ListByBooth=true&BoothID=1374696', 'United States', 'https://www.aspirebakeries.com/', '', 'Software;Garlic;Onions;Peppers;Salad Dressing/Vinegar;Spices/Seasonings;Dough Dividers;Dough Dockers;Dough Proofers;Dough Rounders;Pizza Presses;Bread/Bread Products;Frozen Products;Sandwich Items;Packaging Supplies;Pizza Packaging;Dough Rollers/Sheeters;Dough Rounders;Ovens, Deck;Pasta;Pasta Equipment;Slicers/Dicers;Call Center;Computer Accessories/Equipment;Online Ordering;POS/POP Systems;Condiments;Peppers;Pizza Toppings;Sauce, Hot;Spices/Seasonings;Bread/Bread Products;Cookies/Dough;Desserts;'], ['Atalanta Corporation', 'https://pizza.a2zinc.net/PPNE2022/public/eBooth.aspx?IndexInList=9&FromPage=Exhibitors.aspx&ParentBoothID=&ListByBooth=true&BoothID=1396908', 'United States', 'http://www.atalantacorporation.com', '', 'Software;Garlic;Onions;Peppers;Salad Dressing/Vinegar;Spices/Seasonings;Dough Dividers;Dough Dockers;Dough Proofers;Dough Rounders;Pizza Presses;Bread/Bread Products;Frozen Products;Sandwich Items;Packaging Supplies;Pizza Packaging;Dough Rollers/Sheeters;Dough Rounders;Ovens, Deck;Pasta;Pasta Equipment;Slicers/Dicers;Call Center;Computer Accessories/Equipment;Online Ordering;POS/POP Systems;Condiments;Peppers;Pizza Toppings;Sauce, Hot;Spices/Seasonings;Bread/Bread Products;Cookies/Dough;Desserts;Bacon/Canadian Bacon;Flour;Oils;Pasta;Pizza Toppings;Prosciutto;Sauce, Tomato;Cappuccino/Coffee/Espresso;Cheese/Cheese Alternatives;Condiments;'], ['Barilla America', 'https://pizza.a2zinc.net/PPNE2022/public/eBooth.aspx?IndexInList=10&FromPage=Exhibitors.aspx&ParentBoothID=&ListByBooth=true&BoothID=1431520', 'United States', 'http://www.barillafs.com', '', 'Software;Garlic;Onions;Peppers;Salad Dressing/Vinegar;Spices/Seasonings;Dough Dividers;Dough Dockers;Dough Proofers;Dough Rounders;Pizza Presses;Bread/Bread Products;Frozen Products;Sandwich Items;Packaging Supplies;Pizza Packaging;Dough Rollers/Sheeters;Dough Rounders;Ovens, Deck;Pasta;Pasta Equipment;Slicers/Dicers;Call Center;Computer Accessories/Equipment;Online Ordering;POS/POP Systems;Condiments;Peppers;Pizza Toppings;Sauce, Hot;Spices/Seasonings;Bread/Bread Products;Cookies/Dough;Desserts;Bacon/Canadian Bacon;Flour;Oils;Pasta;Pizza Toppings;Prosciutto;Sauce, Tomato;Cappuccino/Coffee/Espresso;Cheese/Cheese Alternatives;Condiments;Advertising/Marketing;Gluten Free Products;Pasta;Sauce, Pasta;Sauce, Pesto;']]\n"
     ]
    },
    {
     "name": "stderr",
     "output_type": "stream",
     "text": [
      "/home/ubaidullah/snap/jupyter/common/lib/python3.7/site-packages/urllib3/connectionpool.py:1052: InsecureRequestWarning: Unverified HTTPS request is being made to host 'pizza.a2zinc.net'. Adding certificate verification is strongly advised. See: https://urllib3.readthedocs.io/en/1.26.x/advanced-usage.html#ssl-warnings\n",
      "  InsecureRequestWarning,\n"
     ]
    },
    {
     "name": "stdout",
     "output_type": "stream",
     "text": [
      "[['7Shifts', 'https://pizza.a2zinc.net/PPNE2022/public/eBooth.aspx?IndexInList=0&FromPage=Exhibitors.aspx&ParentBoothID=&ListByBooth=true&BoothID=1374678', 'Canada', 'http://www.7shifts.com', '', 'Software;'], ['All Seasonings Ingredients', 'https://pizza.a2zinc.net/PPNE2022/public/eBooth.aspx?IndexInList=1&FromPage=Exhibitors.aspx&ParentBoothID=&ListByBooth=true&BoothID=1442860', 'United States', 'http://www.allseasonings.com', '', 'Software;Garlic;Onions;Peppers;Salad Dressing/Vinegar;Spices/Seasonings;'], ['AM Manufacturing Company', 'https://pizza.a2zinc.net/PPNE2022/public/eBooth.aspx?IndexInList=2&FromPage=Exhibitors.aspx&ParentBoothID=&ListByBooth=true&BoothID=1423556', 'United States', 'http://www.ammfg.com', '', 'Software;Garlic;Onions;Peppers;Salad Dressing/Vinegar;Spices/Seasonings;Dough Dividers;Dough Dockers;Dough Proofers;Dough Rounders;Pizza Presses;'], [\"Amoroso's Baking Co.\", 'https://pizza.a2zinc.net/PPNE2022/public/eBooth.aspx?IndexInList=3&FromPage=Exhibitors.aspx&ParentBoothID=&ListByBooth=true&BoothID=1375001', 'United States', 'http://AmorosoBaking.com', '', 'Software;Garlic;Onions;Peppers;Salad Dressing/Vinegar;Spices/Seasonings;Dough Dividers;Dough Dockers;Dough Proofers;Dough Rounders;Pizza Presses;Bread/Bread Products;Frozen Products;Sandwich Items;'], ['Ankutsan Packaging', 'https://pizza.a2zinc.net/PPNE2022/public/eBooth.aspx?IndexInList=4&FromPage=Exhibitors.aspx&ParentBoothID=&ListByBooth=true&BoothID=1544079', 'Turkey', 'http://www.ankutsan.com/en', '', 'Software;Garlic;Onions;Peppers;Salad Dressing/Vinegar;Spices/Seasonings;Dough Dividers;Dough Dockers;Dough Proofers;Dough Rounders;Pizza Presses;Bread/Bread Products;Frozen Products;Sandwich Items;Packaging Supplies;Pizza Packaging;'], ['Arcobaleno Pasta Equipment', 'https://pizza.a2zinc.net/PPNE2022/public/eBooth.aspx?IndexInList=5&FromPage=Exhibitors.aspx&ParentBoothID=&ListByBooth=true&BoothID=1375049', 'United States', 'http://www.arcobalenollc.com', '', 'Software;Garlic;Onions;Peppers;Salad Dressing/Vinegar;Spices/Seasonings;Dough Dividers;Dough Dockers;Dough Proofers;Dough Rounders;Pizza Presses;Bread/Bread Products;Frozen Products;Sandwich Items;Packaging Supplies;Pizza Packaging;Dough Rollers/Sheeters;Dough Rounders;Ovens, Deck;Pasta;Pasta Equipment;Slicers/Dicers;'], ['Arrow POS', 'https://pizza.a2zinc.net/PPNE2022/public/eBooth.aspx?IndexInList=6&FromPage=Exhibitors.aspx&ParentBoothID=&ListByBooth=true&BoothID=1374692', 'United States', 'http://www.ArrowPOS.com', '', 'Software;Garlic;Onions;Peppers;Salad Dressing/Vinegar;Spices/Seasonings;Dough Dividers;Dough Dockers;Dough Proofers;Dough Rounders;Pizza Presses;Bread/Bread Products;Frozen Products;Sandwich Items;Packaging Supplies;Pizza Packaging;Dough Rollers/Sheeters;Dough Rounders;Ovens, Deck;Pasta;Pasta Equipment;Slicers/Dicers;Call Center;Computer Accessories/Equipment;Online Ordering;POS/POP Systems;'], [\"AR's Hot Southern Honey\", 'https://pizza.a2zinc.net/PPNE2022/public/eBooth.aspx?IndexInList=7&FromPage=Exhibitors.aspx&ParentBoothID=&ListByBooth=true&BoothID=1544101', 'United States', 'http://www.hotsouthernhoney.com', '', 'Software;Garlic;Onions;Peppers;Salad Dressing/Vinegar;Spices/Seasonings;Dough Dividers;Dough Dockers;Dough Proofers;Dough Rounders;Pizza Presses;Bread/Bread Products;Frozen Products;Sandwich Items;Packaging Supplies;Pizza Packaging;Dough Rollers/Sheeters;Dough Rounders;Ovens, Deck;Pasta;Pasta Equipment;Slicers/Dicers;Call Center;Computer Accessories/Equipment;Online Ordering;POS/POP Systems;Condiments;Peppers;Pizza Toppings;Sauce, Hot;Spices/Seasonings;'], ['Aspire Bakeries', 'https://pizza.a2zinc.net/PPNE2022/public/eBooth.aspx?IndexInList=8&FromPage=Exhibitors.aspx&ParentBoothID=&ListByBooth=true&BoothID=1374696', 'United States', 'https://www.aspirebakeries.com/', '', 'Software;Garlic;Onions;Peppers;Salad Dressing/Vinegar;Spices/Seasonings;Dough Dividers;Dough Dockers;Dough Proofers;Dough Rounders;Pizza Presses;Bread/Bread Products;Frozen Products;Sandwich Items;Packaging Supplies;Pizza Packaging;Dough Rollers/Sheeters;Dough Rounders;Ovens, Deck;Pasta;Pasta Equipment;Slicers/Dicers;Call Center;Computer Accessories/Equipment;Online Ordering;POS/POP Systems;Condiments;Peppers;Pizza Toppings;Sauce, Hot;Spices/Seasonings;Bread/Bread Products;Cookies/Dough;Desserts;'], ['Atalanta Corporation', 'https://pizza.a2zinc.net/PPNE2022/public/eBooth.aspx?IndexInList=9&FromPage=Exhibitors.aspx&ParentBoothID=&ListByBooth=true&BoothID=1396908', 'United States', 'http://www.atalantacorporation.com', '', 'Software;Garlic;Onions;Peppers;Salad Dressing/Vinegar;Spices/Seasonings;Dough Dividers;Dough Dockers;Dough Proofers;Dough Rounders;Pizza Presses;Bread/Bread Products;Frozen Products;Sandwich Items;Packaging Supplies;Pizza Packaging;Dough Rollers/Sheeters;Dough Rounders;Ovens, Deck;Pasta;Pasta Equipment;Slicers/Dicers;Call Center;Computer Accessories/Equipment;Online Ordering;POS/POP Systems;Condiments;Peppers;Pizza Toppings;Sauce, Hot;Spices/Seasonings;Bread/Bread Products;Cookies/Dough;Desserts;Bacon/Canadian Bacon;Flour;Oils;Pasta;Pizza Toppings;Prosciutto;Sauce, Tomato;Cappuccino/Coffee/Espresso;Cheese/Cheese Alternatives;Condiments;'], ['Barilla America', 'https://pizza.a2zinc.net/PPNE2022/public/eBooth.aspx?IndexInList=10&FromPage=Exhibitors.aspx&ParentBoothID=&ListByBooth=true&BoothID=1431520', 'United States', 'http://www.barillafs.com', '', 'Software;Garlic;Onions;Peppers;Salad Dressing/Vinegar;Spices/Seasonings;Dough Dividers;Dough Dockers;Dough Proofers;Dough Rounders;Pizza Presses;Bread/Bread Products;Frozen Products;Sandwich Items;Packaging Supplies;Pizza Packaging;Dough Rollers/Sheeters;Dough Rounders;Ovens, Deck;Pasta;Pasta Equipment;Slicers/Dicers;Call Center;Computer Accessories/Equipment;Online Ordering;POS/POP Systems;Condiments;Peppers;Pizza Toppings;Sauce, Hot;Spices/Seasonings;Bread/Bread Products;Cookies/Dough;Desserts;Bacon/Canadian Bacon;Flour;Oils;Pasta;Pizza Toppings;Prosciutto;Sauce, Tomato;Cappuccino/Coffee/Espresso;Cheese/Cheese Alternatives;Condiments;Advertising/Marketing;Gluten Free Products;Pasta;Sauce, Pasta;Sauce, Pesto;'], ['Belevo', 'https://pizza.a2zinc.net/PPNE2022/public/eBooth.aspx?IndexInList=11&FromPage=Exhibitors.aspx&ParentBoothID=&ListByBooth=true&BoothID=1374948', 'United States', 'http://www.edesiaoil.com', '', 'Software;Garlic;Onions;Peppers;Salad Dressing/Vinegar;Spices/Seasonings;Dough Dividers;Dough Dockers;Dough Proofers;Dough Rounders;Pizza Presses;Bread/Bread Products;Frozen Products;Sandwich Items;Packaging Supplies;Pizza Packaging;Dough Rollers/Sheeters;Dough Rounders;Ovens, Deck;Pasta;Pasta Equipment;Slicers/Dicers;Call Center;Computer Accessories/Equipment;Online Ordering;POS/POP Systems;Condiments;Peppers;Pizza Toppings;Sauce, Hot;Spices/Seasonings;Bread/Bread Products;Cookies/Dough;Desserts;Bacon/Canadian Bacon;Flour;Oils;Pasta;Pizza Toppings;Prosciutto;Sauce, Tomato;Cappuccino/Coffee/Espresso;Cheese/Cheese Alternatives;Condiments;Advertising/Marketing;Gluten Free Products;Pasta;Sauce, Pasta;Sauce, Pesto;Oils;']]\n"
     ]
    },
    {
     "name": "stderr",
     "output_type": "stream",
     "text": [
      "/home/ubaidullah/snap/jupyter/common/lib/python3.7/site-packages/urllib3/connectionpool.py:1052: InsecureRequestWarning: Unverified HTTPS request is being made to host 'pizza.a2zinc.net'. Adding certificate verification is strongly advised. See: https://urllib3.readthedocs.io/en/1.26.x/advanced-usage.html#ssl-warnings\n",
      "  InsecureRequestWarning,\n"
     ]
    },
    {
     "name": "stdout",
     "output_type": "stream",
     "text": [
      "[['7Shifts', 'https://pizza.a2zinc.net/PPNE2022/public/eBooth.aspx?IndexInList=0&FromPage=Exhibitors.aspx&ParentBoothID=&ListByBooth=true&BoothID=1374678', 'Canada', 'http://www.7shifts.com', '', 'Software;'], ['All Seasonings Ingredients', 'https://pizza.a2zinc.net/PPNE2022/public/eBooth.aspx?IndexInList=1&FromPage=Exhibitors.aspx&ParentBoothID=&ListByBooth=true&BoothID=1442860', 'United States', 'http://www.allseasonings.com', '', 'Software;Garlic;Onions;Peppers;Salad Dressing/Vinegar;Spices/Seasonings;'], ['AM Manufacturing Company', 'https://pizza.a2zinc.net/PPNE2022/public/eBooth.aspx?IndexInList=2&FromPage=Exhibitors.aspx&ParentBoothID=&ListByBooth=true&BoothID=1423556', 'United States', 'http://www.ammfg.com', '', 'Software;Garlic;Onions;Peppers;Salad Dressing/Vinegar;Spices/Seasonings;Dough Dividers;Dough Dockers;Dough Proofers;Dough Rounders;Pizza Presses;'], [\"Amoroso's Baking Co.\", 'https://pizza.a2zinc.net/PPNE2022/public/eBooth.aspx?IndexInList=3&FromPage=Exhibitors.aspx&ParentBoothID=&ListByBooth=true&BoothID=1375001', 'United States', 'http://AmorosoBaking.com', '', 'Software;Garlic;Onions;Peppers;Salad Dressing/Vinegar;Spices/Seasonings;Dough Dividers;Dough Dockers;Dough Proofers;Dough Rounders;Pizza Presses;Bread/Bread Products;Frozen Products;Sandwich Items;'], ['Ankutsan Packaging', 'https://pizza.a2zinc.net/PPNE2022/public/eBooth.aspx?IndexInList=4&FromPage=Exhibitors.aspx&ParentBoothID=&ListByBooth=true&BoothID=1544079', 'Turkey', 'http://www.ankutsan.com/en', '', 'Software;Garlic;Onions;Peppers;Salad Dressing/Vinegar;Spices/Seasonings;Dough Dividers;Dough Dockers;Dough Proofers;Dough Rounders;Pizza Presses;Bread/Bread Products;Frozen Products;Sandwich Items;Packaging Supplies;Pizza Packaging;'], ['Arcobaleno Pasta Equipment', 'https://pizza.a2zinc.net/PPNE2022/public/eBooth.aspx?IndexInList=5&FromPage=Exhibitors.aspx&ParentBoothID=&ListByBooth=true&BoothID=1375049', 'United States', 'http://www.arcobalenollc.com', '', 'Software;Garlic;Onions;Peppers;Salad Dressing/Vinegar;Spices/Seasonings;Dough Dividers;Dough Dockers;Dough Proofers;Dough Rounders;Pizza Presses;Bread/Bread Products;Frozen Products;Sandwich Items;Packaging Supplies;Pizza Packaging;Dough Rollers/Sheeters;Dough Rounders;Ovens, Deck;Pasta;Pasta Equipment;Slicers/Dicers;'], ['Arrow POS', 'https://pizza.a2zinc.net/PPNE2022/public/eBooth.aspx?IndexInList=6&FromPage=Exhibitors.aspx&ParentBoothID=&ListByBooth=true&BoothID=1374692', 'United States', 'http://www.ArrowPOS.com', '', 'Software;Garlic;Onions;Peppers;Salad Dressing/Vinegar;Spices/Seasonings;Dough Dividers;Dough Dockers;Dough Proofers;Dough Rounders;Pizza Presses;Bread/Bread Products;Frozen Products;Sandwich Items;Packaging Supplies;Pizza Packaging;Dough Rollers/Sheeters;Dough Rounders;Ovens, Deck;Pasta;Pasta Equipment;Slicers/Dicers;Call Center;Computer Accessories/Equipment;Online Ordering;POS/POP Systems;'], [\"AR's Hot Southern Honey\", 'https://pizza.a2zinc.net/PPNE2022/public/eBooth.aspx?IndexInList=7&FromPage=Exhibitors.aspx&ParentBoothID=&ListByBooth=true&BoothID=1544101', 'United States', 'http://www.hotsouthernhoney.com', '', 'Software;Garlic;Onions;Peppers;Salad Dressing/Vinegar;Spices/Seasonings;Dough Dividers;Dough Dockers;Dough Proofers;Dough Rounders;Pizza Presses;Bread/Bread Products;Frozen Products;Sandwich Items;Packaging Supplies;Pizza Packaging;Dough Rollers/Sheeters;Dough Rounders;Ovens, Deck;Pasta;Pasta Equipment;Slicers/Dicers;Call Center;Computer Accessories/Equipment;Online Ordering;POS/POP Systems;Condiments;Peppers;Pizza Toppings;Sauce, Hot;Spices/Seasonings;'], ['Aspire Bakeries', 'https://pizza.a2zinc.net/PPNE2022/public/eBooth.aspx?IndexInList=8&FromPage=Exhibitors.aspx&ParentBoothID=&ListByBooth=true&BoothID=1374696', 'United States', 'https://www.aspirebakeries.com/', '', 'Software;Garlic;Onions;Peppers;Salad Dressing/Vinegar;Spices/Seasonings;Dough Dividers;Dough Dockers;Dough Proofers;Dough Rounders;Pizza Presses;Bread/Bread Products;Frozen Products;Sandwich Items;Packaging Supplies;Pizza Packaging;Dough Rollers/Sheeters;Dough Rounders;Ovens, Deck;Pasta;Pasta Equipment;Slicers/Dicers;Call Center;Computer Accessories/Equipment;Online Ordering;POS/POP Systems;Condiments;Peppers;Pizza Toppings;Sauce, Hot;Spices/Seasonings;Bread/Bread Products;Cookies/Dough;Desserts;'], ['Atalanta Corporation', 'https://pizza.a2zinc.net/PPNE2022/public/eBooth.aspx?IndexInList=9&FromPage=Exhibitors.aspx&ParentBoothID=&ListByBooth=true&BoothID=1396908', 'United States', 'http://www.atalantacorporation.com', '', 'Software;Garlic;Onions;Peppers;Salad Dressing/Vinegar;Spices/Seasonings;Dough Dividers;Dough Dockers;Dough Proofers;Dough Rounders;Pizza Presses;Bread/Bread Products;Frozen Products;Sandwich Items;Packaging Supplies;Pizza Packaging;Dough Rollers/Sheeters;Dough Rounders;Ovens, Deck;Pasta;Pasta Equipment;Slicers/Dicers;Call Center;Computer Accessories/Equipment;Online Ordering;POS/POP Systems;Condiments;Peppers;Pizza Toppings;Sauce, Hot;Spices/Seasonings;Bread/Bread Products;Cookies/Dough;Desserts;Bacon/Canadian Bacon;Flour;Oils;Pasta;Pizza Toppings;Prosciutto;Sauce, Tomato;Cappuccino/Coffee/Espresso;Cheese/Cheese Alternatives;Condiments;'], ['Barilla America', 'https://pizza.a2zinc.net/PPNE2022/public/eBooth.aspx?IndexInList=10&FromPage=Exhibitors.aspx&ParentBoothID=&ListByBooth=true&BoothID=1431520', 'United States', 'http://www.barillafs.com', '', 'Software;Garlic;Onions;Peppers;Salad Dressing/Vinegar;Spices/Seasonings;Dough Dividers;Dough Dockers;Dough Proofers;Dough Rounders;Pizza Presses;Bread/Bread Products;Frozen Products;Sandwich Items;Packaging Supplies;Pizza Packaging;Dough Rollers/Sheeters;Dough Rounders;Ovens, Deck;Pasta;Pasta Equipment;Slicers/Dicers;Call Center;Computer Accessories/Equipment;Online Ordering;POS/POP Systems;Condiments;Peppers;Pizza Toppings;Sauce, Hot;Spices/Seasonings;Bread/Bread Products;Cookies/Dough;Desserts;Bacon/Canadian Bacon;Flour;Oils;Pasta;Pizza Toppings;Prosciutto;Sauce, Tomato;Cappuccino/Coffee/Espresso;Cheese/Cheese Alternatives;Condiments;Advertising/Marketing;Gluten Free Products;Pasta;Sauce, Pasta;Sauce, Pesto;'], ['Belevo', 'https://pizza.a2zinc.net/PPNE2022/public/eBooth.aspx?IndexInList=11&FromPage=Exhibitors.aspx&ParentBoothID=&ListByBooth=true&BoothID=1374948', 'United States', 'http://www.edesiaoil.com', '', 'Software;Garlic;Onions;Peppers;Salad Dressing/Vinegar;Spices/Seasonings;Dough Dividers;Dough Dockers;Dough Proofers;Dough Rounders;Pizza Presses;Bread/Bread Products;Frozen Products;Sandwich Items;Packaging Supplies;Pizza Packaging;Dough Rollers/Sheeters;Dough Rounders;Ovens, Deck;Pasta;Pasta Equipment;Slicers/Dicers;Call Center;Computer Accessories/Equipment;Online Ordering;POS/POP Systems;Condiments;Peppers;Pizza Toppings;Sauce, Hot;Spices/Seasonings;Bread/Bread Products;Cookies/Dough;Desserts;Bacon/Canadian Bacon;Flour;Oils;Pasta;Pizza Toppings;Prosciutto;Sauce, Tomato;Cappuccino/Coffee/Espresso;Cheese/Cheese Alternatives;Condiments;Advertising/Marketing;Gluten Free Products;Pasta;Sauce, Pasta;Sauce, Pesto;Oils;'], ['BelGioioso Cheese Inc', 'https://pizza.a2zinc.net/PPNE2022/public/eBooth.aspx?IndexInList=12&FromPage=Exhibitors.aspx&ParentBoothID=&ListByBooth=true&BoothID=1374932', 'United States', 'http://www.belgioioso.com', '', 'Software;Garlic;Onions;Peppers;Salad Dressing/Vinegar;Spices/Seasonings;Dough Dividers;Dough Dockers;Dough Proofers;Dough Rounders;Pizza Presses;Bread/Bread Products;Frozen Products;Sandwich Items;Packaging Supplies;Pizza Packaging;Dough Rollers/Sheeters;Dough Rounders;Ovens, Deck;Pasta;Pasta Equipment;Slicers/Dicers;Call Center;Computer Accessories/Equipment;Online Ordering;POS/POP Systems;Condiments;Peppers;Pizza Toppings;Sauce, Hot;Spices/Seasonings;Bread/Bread Products;Cookies/Dough;Desserts;Bacon/Canadian Bacon;Flour;Oils;Pasta;Pizza Toppings;Prosciutto;Sauce, Tomato;Cappuccino/Coffee/Espresso;Cheese/Cheese Alternatives;Condiments;Advertising/Marketing;Gluten Free Products;Pasta;Sauce, Pasta;Sauce, Pesto;Oils;Appetizers;Cheese/Cheese Alternatives;Gluten Free Products;Pizza Toppings;Sandwich Items;']]\n"
     ]
    },
    {
     "name": "stderr",
     "output_type": "stream",
     "text": [
      "/home/ubaidullah/snap/jupyter/common/lib/python3.7/site-packages/urllib3/connectionpool.py:1052: InsecureRequestWarning: Unverified HTTPS request is being made to host 'pizza.a2zinc.net'. Adding certificate verification is strongly advised. See: https://urllib3.readthedocs.io/en/1.26.x/advanced-usage.html#ssl-warnings\n",
      "  InsecureRequestWarning,\n"
     ]
    },
    {
     "ename": "AttributeError",
     "evalue": "'NoneType' object has no attribute 'text'",
     "output_type": "error",
     "traceback": [
      "\u001b[0;31m---------------------------------------------------------------------------\u001b[0m",
      "\u001b[0;31mAttributeError\u001b[0m                            Traceback (most recent call last)",
      "\u001b[0;32m<ipython-input-22-ae9ff6c16530>\u001b[0m in \u001b[0;36m<module>\u001b[0;34m\u001b[0m\n\u001b[1;32m     19\u001b[0m     \u001b[0ms2\u001b[0m \u001b[0;34m=\u001b[0m \u001b[0mds\u001b[0m\u001b[0;34m(\u001b[0m\u001b[0mweb\u001b[0m\u001b[0;34m)\u001b[0m\u001b[0;34m\u001b[0m\u001b[0;34m\u001b[0m\u001b[0m\n\u001b[1;32m     20\u001b[0m     \u001b[0mcountry\u001b[0m \u001b[0;34m=\u001b[0m \u001b[0ms2\u001b[0m\u001b[0;34m.\u001b[0m\u001b[0mfind\u001b[0m\u001b[0;34m(\u001b[0m\u001b[0;34m'span'\u001b[0m\u001b[0;34m,\u001b[0m\u001b[0mclass_\u001b[0m\u001b[0;34m=\u001b[0m\u001b[0;34m\"BoothContactCountry\"\u001b[0m\u001b[0;34m)\u001b[0m\u001b[0;34m.\u001b[0m\u001b[0mtext\u001b[0m\u001b[0;34m\u001b[0m\u001b[0;34m\u001b[0m\u001b[0m\n\u001b[0;32m---> 21\u001b[0;31m     \u001b[0mcont_url\u001b[0m \u001b[0;34m=\u001b[0m \u001b[0ms2\u001b[0m\u001b[0;34m.\u001b[0m\u001b[0mfind\u001b[0m\u001b[0;34m(\u001b[0m\u001b[0;34m'a'\u001b[0m\u001b[0;34m,\u001b[0m\u001b[0mclass_\u001b[0m\u001b[0;34m=\u001b[0m\u001b[0;34m\"aa-BoothContactUrl\"\u001b[0m\u001b[0;34m)\u001b[0m\u001b[0;34m.\u001b[0m\u001b[0mtext\u001b[0m\u001b[0;34m\u001b[0m\u001b[0;34m\u001b[0m\u001b[0m\n\u001b[0m\u001b[1;32m     22\u001b[0m     \u001b[0msocial_link\u001b[0m \u001b[0;34m=\u001b[0m \u001b[0ms2\u001b[0m\u001b[0;34m.\u001b[0m\u001b[0mfind\u001b[0m\u001b[0;34m(\u001b[0m\u001b[0;34m'div'\u001b[0m\u001b[0;34m,\u001b[0m\u001b[0;34m{\u001b[0m\u001b[0;34m\"id\"\u001b[0m\u001b[0;34m:\u001b[0m\u001b[0;34m\"ctl00_ContentPlaceHolder1_ctrlCustomField_Logos_pnlCustomFieldList\"\u001b[0m\u001b[0;34m}\u001b[0m\u001b[0;34m)\u001b[0m\u001b[0;34m.\u001b[0m\u001b[0mfind_all\u001b[0m\u001b[0;34m(\u001b[0m\u001b[0;34m'span'\u001b[0m\u001b[0;34m,\u001b[0m\u001b[0mclass_\u001b[0m\u001b[0;34m=\u001b[0m\u001b[0;34m\"spCustomFieldIcon\"\u001b[0m\u001b[0;34m)\u001b[0m\u001b[0;34m\u001b[0m\u001b[0;34m\u001b[0m\u001b[0m\n\u001b[1;32m     23\u001b[0m \u001b[0;31m#     for link in social_link:\u001b[0m\u001b[0;34m\u001b[0m\u001b[0;34m\u001b[0m\u001b[0;34m\u001b[0m\u001b[0m\n",
      "\u001b[0;31mAttributeError\u001b[0m: 'NoneType' object has no attribute 'text'"
     ]
    }
   ],
   "source": [
    "import requests\n",
    "from bs4 import BeautifulSoup\n",
    "f=[]\n",
    "url = \"https://pizza.a2zinc.net/PPNE2022/Public/exhibitors.aspx?Index=All&ID=42177\"\n",
    "base_url =\"https://pizza.a2zinc.net/PPNE2022/public/\"\n",
    "headers = {'user-agent': 'Mozilla/5.0 (X11; Linux x86_64) AppleWebKit/537.36 (KHTML, like Gecko) Chrome/51.0.2704.103 Safari/537.36'}\n",
    "def ds(url_name):\n",
    "    r = requests.get(url_name, headers = headers, verify = False)\n",
    "    return BeautifulSoup(r.content,\"lxml\")\n",
    "soup = ds(url)\n",
    "\n",
    "table = soup.find('div',{\"class\":\"listTableBody\"})\n",
    "comp = table.find_all('td',{\"class\":\"companyName\"})\n",
    "category = \"\"\n",
    "social = \"\"\n",
    "for i in comp:\n",
    "    name = i.text.strip()\n",
    "    web = base_url + i.find('a')['href']\n",
    "    s2 = ds(web)\n",
    "    country = s2.find('span',class_=\"BoothContactCountry\").text\n",
    "    cont_url = s2.find('a',class_=\"aa-BoothContactUrl\").text\n",
    "    social_link = s2.find('div',{\"id\":\"ctl00_ContentPlaceHolder1_ctrlCustomField_Logos_pnlCustomFieldList\"}).find_all('span',class_=\"spCustomFieldIcon\")\n",
    "#     for link in social_link:\n",
    "#         s = link.find_all('a')\n",
    "#         print(s['href'])\n",
    "#         social = social + s['href'] + \";\"\n",
    "    cat = s2.find_all('li',class_=\"ProductCategoryLi\")\n",
    "    \n",
    "    for j in cat:\n",
    "        \n",
    "        cat_1 = j.text\n",
    "        category = category + cat_1 + \";\"\n",
    "    f.append([name,web,country,cont_url,social,category])\n",
    "    print(f)\n",
    "            \n",
    "            \n",
    "            \n",
    "        \n",
    "        \n",
    "            \n",
    "#       \n",
    "            \n",
    "            \n",
    "#             f.append([name,web,country,cont_url,lin,cat_1])\n",
    "# #         print(f)\n",
    "                     \n",
    "\n",
    "    \n",
    "    \n",
    "    \n",
    "# trow = soup.find('a',class_=\"exhibitorName\")"
   ]
  },
  {
   "cell_type": "code",
   "execution_count": null,
   "metadata": {},
   "outputs": [],
   "source": []
  },
  {
   "cell_type": "code",
   "execution_count": null,
   "metadata": {},
   "outputs": [],
   "source": []
  }
 ],
 "metadata": {
  "kernelspec": {
   "display_name": "Python 3",
   "language": "python",
   "name": "python3"
  },
  "language_info": {
   "codemirror_mode": {
    "name": "ipython",
    "version": 3
   },
   "file_extension": ".py",
   "mimetype": "text/x-python",
   "name": "python",
   "nbconvert_exporter": "python",
   "pygments_lexer": "ipython3",
   "version": "3.7.3"
  }
 },
 "nbformat": 4,
 "nbformat_minor": 2
}
