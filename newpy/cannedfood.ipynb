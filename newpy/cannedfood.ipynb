{
 "cells": [
  {
   "cell_type": "code",
   "execution_count": null,
   "metadata": {
    "scrolled": false
   },
   "outputs": [
    {
     "name": "stderr",
     "output_type": "stream",
     "text": [
      "/home/ubaidullah/snap/jupyter/common/lib/python3.7/site-packages/urllib3/connectionpool.py:1052: InsecureRequestWarning: Unverified HTTPS request is being made to host 'www.cannedfood.it'. Adding certificate verification is strongly advised. See: https://urllib3.readthedocs.io/en/1.26.x/advanced-usage.html#ssl-warnings\n",
      "  InsecureRequestWarning,\n",
      "/home/ubaidullah/snap/jupyter/common/lib/python3.7/site-packages/urllib3/connectionpool.py:1052: InsecureRequestWarning: Unverified HTTPS request is being made to host 'www.cannedfood.it'. Adding certificate verification is strongly advised. See: https://urllib3.readthedocs.io/en/1.26.x/advanced-usage.html#ssl-warnings\n",
      "  InsecureRequestWarning,\n",
      "/home/ubaidullah/snap/jupyter/common/lib/python3.7/site-packages/urllib3/connectionpool.py:1052: InsecureRequestWarning: Unverified HTTPS request is being made to host 'www.cannedfood.it'. Adding certificate verification is strongly advised. See: https://urllib3.readthedocs.io/en/1.26.x/advanced-usage.html#ssl-warnings\n",
      "  InsecureRequestWarning,\n",
      "/home/ubaidullah/snap/jupyter/common/lib/python3.7/site-packages/urllib3/connectionpool.py:1052: InsecureRequestWarning: Unverified HTTPS request is being made to host 'www.cannedfood.it'. Adding certificate verification is strongly advised. See: https://urllib3.readthedocs.io/en/1.26.x/advanced-usage.html#ssl-warnings\n",
      "  InsecureRequestWarning,\n"
     ]
    },
    {
     "name": "stdout",
     "output_type": "stream",
     "text": [
      "[\"'  Argentina\", '', ' Argentinian company specialized in peanut butter producing.', '', ' Peanut butter', '', '', ' Website', '', ' Youtube', ' Facebook', ' ', '', \"  ------ '\"]\n"
     ]
    },
    {
     "name": "stderr",
     "output_type": "stream",
     "text": [
      "/home/ubaidullah/snap/jupyter/common/lib/python3.7/site-packages/urllib3/connectionpool.py:1052: InsecureRequestWarning: Unverified HTTPS request is being made to host 'www.cannedfood.it'. Adding certificate verification is strongly advised. See: https://urllib3.readthedocs.io/en/1.26.x/advanced-usage.html#ssl-warnings\n",
      "  InsecureRequestWarning,\n",
      "/home/ubaidullah/snap/jupyter/common/lib/python3.7/site-packages/urllib3/connectionpool.py:1052: InsecureRequestWarning: Unverified HTTPS request is being made to host 'www.cannedfood.it'. Adding certificate verification is strongly advised. See: https://urllib3.readthedocs.io/en/1.26.x/advanced-usage.html#ssl-warnings\n",
      "  InsecureRequestWarning,\n"
     ]
    },
    {
     "name": "stdout",
     "output_type": "stream",
     "text": [
      "[\"'   399 Archerfield Road (16.211,26 km)\", '4077 Brisbane, QLD', 'Australia', 'Postal address: PO Box 531 Inala, QLD, 4077', '', ' Proudly Australian owned since 1953, Capilano Honey source 100% pure Australian honey from over 600 Aussie beekeeping families to offer our customers a true, safe, high-quality ‘hive to home’ experience.Source: the website.', '', ' Honey', '', '', ' Website', '', ' Youtube', ' Facebook', ' ', '', \"  +61 1800 413 625'\"]\n"
     ]
    },
    {
     "name": "stderr",
     "output_type": "stream",
     "text": [
      "/home/ubaidullah/snap/jupyter/common/lib/python3.7/site-packages/urllib3/connectionpool.py:1052: InsecureRequestWarning: Unverified HTTPS request is being made to host 'www.cannedfood.it'. Adding certificate verification is strongly advised. See: https://urllib3.readthedocs.io/en/1.26.x/advanced-usage.html#ssl-warnings\n",
      "  InsecureRequestWarning,\n",
      "/home/ubaidullah/snap/jupyter/common/lib/python3.7/site-packages/urllib3/connectionpool.py:1052: InsecureRequestWarning: Unverified HTTPS request is being made to host 'www.cannedfood.it'. Adding certificate verification is strongly advised. See: https://urllib3.readthedocs.io/en/1.26.x/advanced-usage.html#ssl-warnings\n",
      "  InsecureRequestWarning,\n"
     ]
    },
    {
     "name": "stdout",
     "output_type": "stream",
     "text": [
      "[\"'  Honigmayr Handelsgesellschaft mbH\", '\\\\t\\\\t\\\\tHonigmayr Platz 1', 'A-5451 TenneckAustria', '', ' Honig ist unsere Leidenschaft! Qualität ohne Kompromisse: Honigmayr steht für Bienenhonig in bester Qualität – und das seit mehr als 100 Jahren!', '\\\\t\\\\t\\\\tSince 1920 producer of honey Source: the website.', '', ' Honey', '', '', ' Website', '', ' Facebook', ' ', '', \"  +43 6468 52170'\"]\n"
     ]
    },
    {
     "name": "stderr",
     "output_type": "stream",
     "text": [
      "/home/ubaidullah/snap/jupyter/common/lib/python3.7/site-packages/urllib3/connectionpool.py:1052: InsecureRequestWarning: Unverified HTTPS request is being made to host 'www.cannedfood.it'. Adding certificate verification is strongly advised. See: https://urllib3.readthedocs.io/en/1.26.x/advanced-usage.html#ssl-warnings\n",
      "  InsecureRequestWarning,\n",
      "/home/ubaidullah/snap/jupyter/common/lib/python3.7/site-packages/urllib3/connectionpool.py:1052: InsecureRequestWarning: Unverified HTTPS request is being made to host 'www.cannedfood.it'. Adding certificate verification is strongly advised. See: https://urllib3.readthedocs.io/en/1.26.x/advanced-usage.html#ssl-warnings\n",
      "  InsecureRequestWarning,\n"
     ]
    },
    {
     "name": "stdout",
     "output_type": "stream",
     "text": [
      "[\"'   Azersun Holding\", 'AZ1029, 92A Heydar Aliyev Ave', 'BakuAzerbaycan', '', ' -----------', '', ' Bell pepper paste, Pomegranate sauce, Boiled potatoes, Jams, Walnut jam, Cherry jam, Fruit compotes, Roasted peppers, Peeled chopped tomato, Tomato sauces, Spicy pepper paste, Hot pepper paste, Grape leaves', '', '', ' Website', ' Youtube', '', ' Facebook', '', ' ', '', '', \"  (+994) 12 496-60-01'\"]\n"
     ]
    },
    {
     "name": "stderr",
     "output_type": "stream",
     "text": [
      "/home/ubaidullah/snap/jupyter/common/lib/python3.7/site-packages/urllib3/connectionpool.py:1052: InsecureRequestWarning: Unverified HTTPS request is being made to host 'www.cannedfood.it'. Adding certificate verification is strongly advised. See: https://urllib3.readthedocs.io/en/1.26.x/advanced-usage.html#ssl-warnings\n",
      "  InsecureRequestWarning,\n",
      "/home/ubaidullah/snap/jupyter/common/lib/python3.7/site-packages/urllib3/connectionpool.py:1052: InsecureRequestWarning: Unverified HTTPS request is being made to host 'www.cannedfood.it'. Adding certificate verification is strongly advised. See: https://urllib3.readthedocs.io/en/1.26.x/advanced-usage.html#ssl-warnings\n",
      "  InsecureRequestWarning,\n"
     ]
    },
    {
     "name": "stdout",
     "output_type": "stream",
     "text": [
      "[\"'   Rue du Parc Industriel 10\", 'B-5590 Achêne (Ciney)', 'Belgium', '', ' Since 1926 Bister has been manufacturing mustard and condiments.Source: the website', '', ' Mustard, sauces, aioli sauce, piccalilli sauce, tartare sauce, cornichons, bio condiments', '', '', ' Website', '', ' Facebook', '', ' ', '', '', \"  +32 (0)2 376 50 55'\"]\n"
     ]
    },
    {
     "name": "stderr",
     "output_type": "stream",
     "text": [
      "/home/ubaidullah/snap/jupyter/common/lib/python3.7/site-packages/urllib3/connectionpool.py:1052: InsecureRequestWarning: Unverified HTTPS request is being made to host 'www.cannedfood.it'. Adding certificate verification is strongly advised. See: https://urllib3.readthedocs.io/en/1.26.x/advanced-usage.html#ssl-warnings\n",
      "  InsecureRequestWarning,\n"
     ]
    },
    {
     "name": "stdout",
     "output_type": "stream",
     "text": [
      "[\"'   Driemasterstraat 74\", '9000 GENT - Belgium', '', ' Callas Confiture’s Karen Depoorter discovered her love for jam and marmalades when she started harvesting fresh strawberries from her own garden and how she could use these in her Bed and Breakfast, to please her guests at breakfast.', '\\\\t\\\\t\\\\tSource: the website', '', ' JAMS, EXTRA CONFITURE, RED ONION CONFIT, LINGONBERRY CONFIT WIT THYME, BLACKBERRIES PRESERVE', '', '', ' Website', '', ' Facebook', '', ' ', '', '', \"  +32(0)9 224 23 10'\"]\n"
     ]
    },
    {
     "name": "stderr",
     "output_type": "stream",
     "text": [
      "/home/ubaidullah/snap/jupyter/common/lib/python3.7/site-packages/urllib3/connectionpool.py:1052: InsecureRequestWarning: Unverified HTTPS request is being made to host 'www.cannedfood.it'. Adding certificate verification is strongly advised. See: https://urllib3.readthedocs.io/en/1.26.x/advanced-usage.html#ssl-warnings\n",
      "  InsecureRequestWarning,\n"
     ]
    },
    {
     "name": "stdout",
     "output_type": "stream",
     "text": [
      "[\"'   Chaussée de Gand 617-619\", '1080 Brussels', 'Belgium', '', ' Founded in 1925, the Maison Didden has been in business for nearly a century thanks to its exceptional craftsmanship and love of good taste.', '', 'Concerned about health and well-being of its gastronomes, the Maison Didden is committed to offer authentic products for a healthy pleasure and a multisensory experience. Fresh, refined, selected with taste and care according to the expertise and requirements of the Maison and made according to a extremely sensitive and perfectly controlled artisanal process, the sauces, the condiments, the chutneys and the dressings of Didden are immediately a guarantee of quality to the eyes of the finest connoisseurs.', 'Source: the website', '', ' Dressing sauce,  Cold sauce, ', '    Warm sauce, Mustard, Piccalilli sauce, Capers, Gherkins, Pearl onions, Confits for cheese', '', '', ' Website', '', ' Youtube', '', ' Facebook', '', \"  +32 2 482 35 80'\"]\n"
     ]
    },
    {
     "name": "stderr",
     "output_type": "stream",
     "text": [
      "/home/ubaidullah/snap/jupyter/common/lib/python3.7/site-packages/urllib3/connectionpool.py:1052: InsecureRequestWarning: Unverified HTTPS request is being made to host 'www.cannedfood.it'. Adding certificate verification is strongly advised. See: https://urllib3.readthedocs.io/en/1.26.x/advanced-usage.html#ssl-warnings\n",
      "  InsecureRequestWarning,\n"
     ]
    },
    {
     "name": "stdout",
     "output_type": "stream",
     "text": [
      "[\"'   KIndustrieterrein Kanaal-Noord 2002\", '3960 Bree ', 'Belgium', '', ' Greenyard is a global market leader of fresh, frozen and prepared fruit & vegetables, flowers and plants. Counting Europe’s leading retailers amongst its customer base, the group provides efficient and sustainable solutions to customers and suppliers through best-in-class products, market-leading innovation, and outstanding service. ', '\\\\t\\\\t\\\\tSource: the website.', '', ' vegetables, Peas,  Young carrots,  Broad beans,  Yellow and green beans,  Flageolet beans,  Leaf vegetables: spinach, sorrel, chervil, endives,  Asparagus,  Onions and pickles, Black salsifies, Celeriac, Red cabbage, Red beets, Carrots: slices, blocks and bars,  Brussels sprouts, Leek, Celery, apple, potatoes, soups, sauces, dip sauces', '', '', ' Website', '', ' Youtube', '', ' Facebook', '', ' ', '', '', \" +32 15 32 42 00'\"]\n"
     ]
    },
    {
     "name": "stderr",
     "output_type": "stream",
     "text": [
      "/home/ubaidullah/snap/jupyter/common/lib/python3.7/site-packages/urllib3/connectionpool.py:1052: InsecureRequestWarning: Unverified HTTPS request is being made to host 'www.cannedfood.it'. Adding certificate verification is strongly advised. See: https://urllib3.readthedocs.io/en/1.26.x/advanced-usage.html#ssl-warnings\n",
      "  InsecureRequestWarning,\n"
     ]
    },
    {
     "name": "stdout",
     "output_type": "stream",
     "text": [
      "[\"'     Allée des Cerisiers\", '5150 FLOREFFE - Belgium', '', ' Since 1888 they are producers of fine jams products.', '', '', ' jams, fruit compotes, fruit in syrup', '', '', ' Website', '', ' Youtube', '', ' Facebook', '', ' ', '', '', \"  +32 (0)81 44 74 74'\"]\n"
     ]
    },
    {
     "name": "stderr",
     "output_type": "stream",
     "text": [
      "/home/ubaidullah/snap/jupyter/common/lib/python3.7/site-packages/urllib3/connectionpool.py:1052: InsecureRequestWarning: Unverified HTTPS request is being made to host 'www.cannedfood.it'. Adding certificate verification is strongly advised. See: https://urllib3.readthedocs.io/en/1.26.x/advanced-usage.html#ssl-warnings\n",
      "  InsecureRequestWarning,\n"
     ]
    },
    {
     "name": "stdout",
     "output_type": "stream",
     "text": [
      "[\"'   Rumbeeksegravier 157\", '    8800 Roeselare', '      Belgium', '', ' At Poco Loco, they offer a wide range of food products to their customers from all over the world. From a variety of tortilla wraps, to tortilla chips and snacks in many shapes and flavours,', 'dinner kits, spice mixes and salsas: their products travel the world!', 'Source: the website', '', ' Dip sauce', '', '', ' Website', '', ' Facebook', '', ' ', '', '', \"  +32 51 24 80 22'\"]\n"
     ]
    },
    {
     "name": "stderr",
     "output_type": "stream",
     "text": [
      "/home/ubaidullah/snap/jupyter/common/lib/python3.7/site-packages/urllib3/connectionpool.py:1052: InsecureRequestWarning: Unverified HTTPS request is being made to host 'www.cannedfood.it'. Adding certificate verification is strongly advised. See: https://urllib3.readthedocs.io/en/1.26.x/advanced-usage.html#ssl-warnings\n",
      "  InsecureRequestWarning,\n"
     ]
    },
    {
     "name": "stdout",
     "output_type": "stream",
     "text": [
      "[\"'   Kruineikestraat 123\", '3150 Haacht ', 'Belgium', '', ' Wildiers is a small family-run business that has been producing home-made jams, elderberry syrup and confits since 1985. All of our products are prepared in open copper boilers, with a maximum of 3 kg of fruit in each one.', '\\\\t\\\\t\\\\tSource: the website', '', ' Home made jams, jams 70% fruit, jams 100% fruit withoiut added sugar, pickles sauces, confits, elderberry syrup', '', '', ' Website', '', ' Facebook', '', ' ', '', '', \"  +32 (16) 60 64 74'\"]\n"
     ]
    },
    {
     "name": "stderr",
     "output_type": "stream",
     "text": [
      "/home/ubaidullah/snap/jupyter/common/lib/python3.7/site-packages/urllib3/connectionpool.py:1052: InsecureRequestWarning: Unverified HTTPS request is being made to host 'www.cannedfood.it'. Adding certificate verification is strongly advised. See: https://urllib3.readthedocs.io/en/1.26.x/advanced-usage.html#ssl-warnings\n",
      "  InsecureRequestWarning,\n",
      "/home/ubaidullah/snap/jupyter/common/lib/python3.7/site-packages/urllib3/connectionpool.py:1052: InsecureRequestWarning: Unverified HTTPS request is being made to host 'www.cannedfood.it'. Adding certificate verification is strongly advised. See: https://urllib3.readthedocs.io/en/1.26.x/advanced-usage.html#ssl-warnings\n",
      "  InsecureRequestWarning,\n"
     ]
    },
    {
     "name": "stdout",
     "output_type": "stream",
     "text": [
      "[\"'   Kruineikestraat 123\", '3150 Haacht ', 'Belgium', '', ' Wildiers is a small family-run business that has been producing home-made jams, elderberry syrup and confits since 1985. All of our products are prepared in open copper boilers, with a maximum of 3 kg of fruit in each one.', '\\\\t\\\\t\\\\tSource: the website', '', ' Home made jams, jams 70% fruit, jams 100% fruit withoiut added sugar, pickles sauces, confits, elderberry syrup', '', '', ' Website', '', ' Facebook', '', ' ', '', '', \"  +32 (16) 60 64 74'\"]\n"
     ]
    },
    {
     "name": "stderr",
     "output_type": "stream",
     "text": [
      "/home/ubaidullah/snap/jupyter/common/lib/python3.7/site-packages/urllib3/connectionpool.py:1052: InsecureRequestWarning: Unverified HTTPS request is being made to host 'www.cannedfood.it'. Adding certificate verification is strongly advised. See: https://urllib3.readthedocs.io/en/1.26.x/advanced-usage.html#ssl-warnings\n",
      "  InsecureRequestWarning,\n"
     ]
    },
    {
     "name": "stdout",
     "output_type": "stream",
     "text": [
      "[\"'   Kruineikestraat 123\", '3150 Haacht ', 'Belgium', '', ' Wildiers is a small family-run business that has been producing home-made jams, elderberry syrup and confits since 1985. All of our products are prepared in open copper boilers, with a maximum of 3 kg of fruit in each one.', '\\\\t\\\\t\\\\tSource: the website', '', ' Home made jams, jams 70% fruit, jams 100% fruit withoiut added sugar, pickles sauces, confits, elderberry syrup', '', '', ' Website', '', ' Facebook', '', ' ', '', '', \"  +32 (16) 60 64 74'\"]\n"
     ]
    },
    {
     "name": "stderr",
     "output_type": "stream",
     "text": [
      "/home/ubaidullah/snap/jupyter/common/lib/python3.7/site-packages/urllib3/connectionpool.py:1052: InsecureRequestWarning: Unverified HTTPS request is being made to host 'www.cannedfood.it'. Adding certificate verification is strongly advised. See: https://urllib3.readthedocs.io/en/1.26.x/advanced-usage.html#ssl-warnings\n",
      "  InsecureRequestWarning,\n"
     ]
    },
    {
     "name": "stdout",
     "output_type": "stream",
     "text": [
      "[\"'   Kruineikestraat 123\", '3150 Haacht ', 'Belgium', '', ' Wildiers is a small family-run business that has been producing home-made jams, elderberry syrup and confits since 1985. All of our products are prepared in open copper boilers, with a maximum of 3 kg of fruit in each one.', '\\\\t\\\\t\\\\tSource: the website', '', ' Home made jams, jams 70% fruit, jams 100% fruit withoiut added sugar, pickles sauces, confits, elderberry syrup', '', '', ' Website', '', ' Facebook', '', ' ', '', '', \"  +32 (16) 60 64 74'\"]\n"
     ]
    },
    {
     "name": "stderr",
     "output_type": "stream",
     "text": [
      "/home/ubaidullah/snap/jupyter/common/lib/python3.7/site-packages/urllib3/connectionpool.py:1052: InsecureRequestWarning: Unverified HTTPS request is being made to host 'www.cannedfood.it'. Adding certificate verification is strongly advised. See: https://urllib3.readthedocs.io/en/1.26.x/advanced-usage.html#ssl-warnings\n",
      "  InsecureRequestWarning,\n"
     ]
    },
    {
     "name": "stdout",
     "output_type": "stream",
     "text": [
      "[\"'   Kruineikestraat 123\", '3150 Haacht ', 'Belgium', '', ' Wildiers is a small family-run business that has been producing home-made jams, elderberry syrup and confits since 1985. All of our products are prepared in open copper boilers, with a maximum of 3 kg of fruit in each one.', '\\\\t\\\\t\\\\tSource: the website', '', ' Home made jams, jams 70% fruit, jams 100% fruit withoiut added sugar, pickles sauces, confits, elderberry syrup', '', '', ' Website', '', ' Facebook', '', ' ', '', '', \"  +32 (16) 60 64 74'\"]\n"
     ]
    },
    {
     "name": "stderr",
     "output_type": "stream",
     "text": [
      "/home/ubaidullah/snap/jupyter/common/lib/python3.7/site-packages/urllib3/connectionpool.py:1052: InsecureRequestWarning: Unverified HTTPS request is being made to host 'www.cannedfood.it'. Adding certificate verification is strongly advised. See: https://urllib3.readthedocs.io/en/1.26.x/advanced-usage.html#ssl-warnings\n",
      "  InsecureRequestWarning,\n"
     ]
    },
    {
     "name": "stdout",
     "output_type": "stream",
     "text": [
      "[\"'   Kruineikestraat 123\", '3150 Haacht ', 'Belgium', '', ' Wildiers is a small family-run business that has been producing home-made jams, elderberry syrup and confits since 1985. All of our products are prepared in open copper boilers, with a maximum of 3 kg of fruit in each one.', '\\\\t\\\\t\\\\tSource: the website', '', ' Home made jams, jams 70% fruit, jams 100% fruit withoiut added sugar, pickles sauces, confits, elderberry syrup', '', '', ' Website', '', ' Facebook', '', ' ', '', '', \"  +32 (16) 60 64 74'\"]\n"
     ]
    },
    {
     "name": "stderr",
     "output_type": "stream",
     "text": [
      "/home/ubaidullah/snap/jupyter/common/lib/python3.7/site-packages/urllib3/connectionpool.py:1052: InsecureRequestWarning: Unverified HTTPS request is being made to host 'www.cannedfood.it'. Adding certificate verification is strongly advised. See: https://urllib3.readthedocs.io/en/1.26.x/advanced-usage.html#ssl-warnings\n",
      "  InsecureRequestWarning,\n"
     ]
    },
    {
     "name": "stdout",
     "output_type": "stream",
     "text": [
      "['\\'   Poljoprivredno gazdinstvo \"Vrhovac\"', 'Palačkovci bb', '78437 Palačkovci', 'BiH', '', '', ' NaturalAro is a family business created by love and personal needs for production of home and organic products. They started cultivating organic fruits and vegetables for the health reasons of one of our family members, and soon natural and organic became our lifestyle. That’s exactly how their juices were made, and soon we made the first, unique, HONEY WITH ARONIA, which soon became the recognizable brand of their business.', '', 'Since 2012,they care about every product and with special love, attention and dedicated work they take care of our orchard. The story of the first planted seedlings of aronia begins in a beautiful orchard in the village of Palackovici, only 14km away from the municipality of Prnjavor, Republika Srpska, Bosnia and Herzegovina.', 'Source: the website.', '', ' Honey with aronia', '', '', ' Website', '', ' Facebook', '', ' ', '', '', \" +387 65 516 618'\"]\n"
     ]
    },
    {
     "name": "stderr",
     "output_type": "stream",
     "text": [
      "/home/ubaidullah/snap/jupyter/common/lib/python3.7/site-packages/urllib3/connectionpool.py:1052: InsecureRequestWarning: Unverified HTTPS request is being made to host 'www.cannedfood.it'. Adding certificate verification is strongly advised. See: https://urllib3.readthedocs.io/en/1.26.x/advanced-usage.html#ssl-warnings\n",
      "  InsecureRequestWarning,\n"
     ]
    },
    {
     "name": "stdout",
     "output_type": "stream",
     "text": [
      "['\\'   Poljoprivredno gazdinstvo \"Vrhovac\"', 'Palačkovci bb', '78437 Palačkovci', 'BiH', '', '', ' NaturalAro is a family business created by love and personal needs for production of home and organic products. They started cultivating organic fruits and vegetables for the health reasons of one of our family members, and soon natural and organic became our lifestyle. That’s exactly how their juices were made, and soon we made the first, unique, HONEY WITH ARONIA, which soon became the recognizable brand of their business.', '', 'Since 2012,they care about every product and with special love, attention and dedicated work they take care of our orchard. The story of the first planted seedlings of aronia begins in a beautiful orchard in the village of Palackovici, only 14km away from the municipality of Prnjavor, Republika Srpska, Bosnia and Herzegovina.', 'Source: the website.', '', ' Honey with aronia', '', '', ' Website', '', ' Facebook', '', ' ', '', '', \" +387 65 516 618'\"]\n"
     ]
    },
    {
     "name": "stderr",
     "output_type": "stream",
     "text": [
      "/home/ubaidullah/snap/jupyter/common/lib/python3.7/site-packages/urllib3/connectionpool.py:1052: InsecureRequestWarning: Unverified HTTPS request is being made to host 'www.cannedfood.it'. Adding certificate verification is strongly advised. See: https://urllib3.readthedocs.io/en/1.26.x/advanced-usage.html#ssl-warnings\n",
      "  InsecureRequestWarning,\n"
     ]
    },
    {
     "name": "stdout",
     "output_type": "stream",
     "text": [
      "['\\'   Poljoprivredno gazdinstvo \"Vrhovac\"', 'Palačkovci bb', '78437 Palačkovci', 'BiH', '', '', ' NaturalAro is a family business created by love and personal needs for production of home and organic products. They started cultivating organic fruits and vegetables for the health reasons of one of our family members, and soon natural and organic became our lifestyle. That’s exactly how their juices were made, and soon we made the first, unique, HONEY WITH ARONIA, which soon became the recognizable brand of their business.', '', 'Since 2012,they care about every product and with special love, attention and dedicated work they take care of our orchard. The story of the first planted seedlings of aronia begins in a beautiful orchard in the village of Palackovici, only 14km away from the municipality of Prnjavor, Republika Srpska, Bosnia and Herzegovina.', 'Source: the website.', '', ' Honey with aronia', '', '', ' Website', '', ' Facebook', '', ' ', '', '', \" +387 65 516 618'\"]\n"
     ]
    },
    {
     "name": "stderr",
     "output_type": "stream",
     "text": [
      "/home/ubaidullah/snap/jupyter/common/lib/python3.7/site-packages/urllib3/connectionpool.py:1052: InsecureRequestWarning: Unverified HTTPS request is being made to host 'www.cannedfood.it'. Adding certificate verification is strongly advised. See: https://urllib3.readthedocs.io/en/1.26.x/advanced-usage.html#ssl-warnings\n",
      "  InsecureRequestWarning,\n",
      "/home/ubaidullah/snap/jupyter/common/lib/python3.7/site-packages/urllib3/connectionpool.py:1052: InsecureRequestWarning: Unverified HTTPS request is being made to host 'www.cannedfood.it'. Adding certificate verification is strongly advised. See: https://urllib3.readthedocs.io/en/1.26.x/advanced-usage.html#ssl-warnings\n",
      "  InsecureRequestWarning,\n"
     ]
    },
    {
     "name": "stdout",
     "output_type": "stream",
     "text": [
      "['\\'   Poljoprivredno gazdinstvo \"Vrhovac\"', 'Palačkovci bb', '78437 Palačkovci', 'BiH', '', '', ' NaturalAro is a family business created by love and personal needs for production of home and organic products. They started cultivating organic fruits and vegetables for the health reasons of one of our family members, and soon natural and organic became our lifestyle. That’s exactly how their juices were made, and soon we made the first, unique, HONEY WITH ARONIA, which soon became the recognizable brand of their business.', '', 'Since 2012,they care about every product and with special love, attention and dedicated work they take care of our orchard. The story of the first planted seedlings of aronia begins in a beautiful orchard in the village of Palackovici, only 14km away from the municipality of Prnjavor, Republika Srpska, Bosnia and Herzegovina.', 'Source: the website.', '', ' Honey with aronia', '', '', ' Website', '', ' Facebook', '', ' ', '', '', \" +387 65 516 618'\"]\n"
     ]
    },
    {
     "name": "stderr",
     "output_type": "stream",
     "text": [
      "/home/ubaidullah/snap/jupyter/common/lib/python3.7/site-packages/urllib3/connectionpool.py:1052: InsecureRequestWarning: Unverified HTTPS request is being made to host 'www.cannedfood.it'. Adding certificate verification is strongly advised. See: https://urllib3.readthedocs.io/en/1.26.x/advanced-usage.html#ssl-warnings\n",
      "  InsecureRequestWarning,\n"
     ]
    },
    {
     "name": "stdout",
     "output_type": "stream",
     "text": [
      "['\\'   Poljoprivredno gazdinstvo \"Vrhovac\"', 'Palačkovci bb', '78437 Palačkovci', 'BiH', '', '', ' NaturalAro is a family business created by love and personal needs for production of home and organic products. They started cultivating organic fruits and vegetables for the health reasons of one of our family members, and soon natural and organic became our lifestyle. That’s exactly how their juices were made, and soon we made the first, unique, HONEY WITH ARONIA, which soon became the recognizable brand of their business.', '', 'Since 2012,they care about every product and with special love, attention and dedicated work they take care of our orchard. The story of the first planted seedlings of aronia begins in a beautiful orchard in the village of Palackovici, only 14km away from the municipality of Prnjavor, Republika Srpska, Bosnia and Herzegovina.', 'Source: the website.', '', ' Honey with aronia', '', '', ' Website', '', ' Facebook', '', ' ', '', '', \" +387 65 516 618'\"]\n"
     ]
    },
    {
     "name": "stderr",
     "output_type": "stream",
     "text": [
      "/home/ubaidullah/snap/jupyter/common/lib/python3.7/site-packages/urllib3/connectionpool.py:1052: InsecureRequestWarning: Unverified HTTPS request is being made to host 'www.cannedfood.it'. Adding certificate verification is strongly advised. See: https://urllib3.readthedocs.io/en/1.26.x/advanced-usage.html#ssl-warnings\n",
      "  InsecureRequestWarning,\n"
     ]
    },
    {
     "name": "stdout",
     "output_type": "stream",
     "text": [
      "['\\'   Poljoprivredno gazdinstvo \"Vrhovac\"', 'Palačkovci bb', '78437 Palačkovci', 'BiH', '', '', ' NaturalAro is a family business created by love and personal needs for production of home and organic products. They started cultivating organic fruits and vegetables for the health reasons of one of our family members, and soon natural and organic became our lifestyle. That’s exactly how their juices were made, and soon we made the first, unique, HONEY WITH ARONIA, which soon became the recognizable brand of their business.', '', 'Since 2012,they care about every product and with special love, attention and dedicated work they take care of our orchard. The story of the first planted seedlings of aronia begins in a beautiful orchard in the village of Palackovici, only 14km away from the municipality of Prnjavor, Republika Srpska, Bosnia and Herzegovina.', 'Source: the website.', '', ' Honey with aronia', '', '', ' Website', '', ' Facebook', '', ' ', '', '', \" +387 65 516 618'\"]\n"
     ]
    },
    {
     "name": "stderr",
     "output_type": "stream",
     "text": [
      "/home/ubaidullah/snap/jupyter/common/lib/python3.7/site-packages/urllib3/connectionpool.py:1052: InsecureRequestWarning: Unverified HTTPS request is being made to host 'www.cannedfood.it'. Adding certificate verification is strongly advised. See: https://urllib3.readthedocs.io/en/1.26.x/advanced-usage.html#ssl-warnings\n",
      "  InsecureRequestWarning,\n"
     ]
    },
    {
     "name": "stdout",
     "output_type": "stream",
     "text": [
      "['\\'   Poljoprivredno gazdinstvo \"Vrhovac\"', 'Palačkovci bb', '78437 Palačkovci', 'BiH', '', '', ' NaturalAro is a family business created by love and personal needs for production of home and organic products. They started cultivating organic fruits and vegetables for the health reasons of one of our family members, and soon natural and organic became our lifestyle. That’s exactly how their juices were made, and soon we made the first, unique, HONEY WITH ARONIA, which soon became the recognizable brand of their business.', '', 'Since 2012,they care about every product and with special love, attention and dedicated work they take care of our orchard. The story of the first planted seedlings of aronia begins in a beautiful orchard in the village of Palackovici, only 14km away from the municipality of Prnjavor, Republika Srpska, Bosnia and Herzegovina.', 'Source: the website.', '', ' Honey with aronia', '', '', ' Website', '', ' Facebook', '', ' ', '', '', \" +387 65 516 618'\"]\n"
     ]
    },
    {
     "name": "stderr",
     "output_type": "stream",
     "text": [
      "/home/ubaidullah/snap/jupyter/common/lib/python3.7/site-packages/urllib3/connectionpool.py:1052: InsecureRequestWarning: Unverified HTTPS request is being made to host 'www.cannedfood.it'. Adding certificate verification is strongly advised. See: https://urllib3.readthedocs.io/en/1.26.x/advanced-usage.html#ssl-warnings\n",
      "  InsecureRequestWarning,\n"
     ]
    },
    {
     "name": "stdout",
     "output_type": "stream",
     "text": [
      "['\\'   Poljoprivredno gazdinstvo \"Vrhovac\"', 'Palačkovci bb', '78437 Palačkovci', 'BiH', '', '', ' NaturalAro is a family business created by love and personal needs for production of home and organic products. They started cultivating organic fruits and vegetables for the health reasons of one of our family members, and soon natural and organic became our lifestyle. That’s exactly how their juices were made, and soon we made the first, unique, HONEY WITH ARONIA, which soon became the recognizable brand of their business.', '', 'Since 2012,they care about every product and with special love, attention and dedicated work they take care of our orchard. The story of the first planted seedlings of aronia begins in a beautiful orchard in the village of Palackovici, only 14km away from the municipality of Prnjavor, Republika Srpska, Bosnia and Herzegovina.', 'Source: the website.', '', ' Honey with aronia', '', '', ' Website', '', ' Facebook', '', ' ', '', '', \" +387 65 516 618'\"]\n"
     ]
    },
    {
     "name": "stderr",
     "output_type": "stream",
     "text": [
      "/home/ubaidullah/snap/jupyter/common/lib/python3.7/site-packages/urllib3/connectionpool.py:1052: InsecureRequestWarning: Unverified HTTPS request is being made to host 'www.cannedfood.it'. Adding certificate verification is strongly advised. See: https://urllib3.readthedocs.io/en/1.26.x/advanced-usage.html#ssl-warnings\n",
      "  InsecureRequestWarning,\n"
     ]
    },
    {
     "name": "stdout",
     "output_type": "stream",
     "text": [
      "['\\'   Poljoprivredno gazdinstvo \"Vrhovac\"', 'Palačkovci bb', '78437 Palačkovci', 'BiH', '', '', ' NaturalAro is a family business created by love and personal needs for production of home and organic products. They started cultivating organic fruits and vegetables for the health reasons of one of our family members, and soon natural and organic became our lifestyle. That’s exactly how their juices were made, and soon we made the first, unique, HONEY WITH ARONIA, which soon became the recognizable brand of their business.', '', 'Since 2012,they care about every product and with special love, attention and dedicated work they take care of our orchard. The story of the first planted seedlings of aronia begins in a beautiful orchard in the village of Palackovici, only 14km away from the municipality of Prnjavor, Republika Srpska, Bosnia and Herzegovina.', 'Source: the website.', '', ' Honey with aronia', '', '', ' Website', '', ' Facebook', '', ' ', '', '', \" +387 65 516 618'\"]\n"
     ]
    },
    {
     "name": "stderr",
     "output_type": "stream",
     "text": [
      "/home/ubaidullah/snap/jupyter/common/lib/python3.7/site-packages/urllib3/connectionpool.py:1052: InsecureRequestWarning: Unverified HTTPS request is being made to host 'www.cannedfood.it'. Adding certificate verification is strongly advised. See: https://urllib3.readthedocs.io/en/1.26.x/advanced-usage.html#ssl-warnings\n",
      "  InsecureRequestWarning,\n"
     ]
    },
    {
     "name": "stdout",
     "output_type": "stream",
     "text": [
      "[\"'   Rua Tiroleses, 2285Bairro das Capitais\", 'Timbó/Santa Catarina. CEP 89120-00Brazil', '', ' Specializing in the cultivation and production of Palms of Palmeira Real and Pupunha, Palmasul Conservas works and accompanies all this process that involves from the selection of the seeds and the planting of seedlings to the selected cutting and the industrialization.', '', 'Having started in 1986 the cultivation of seedlings of Palmeira Real and Pupunha, Palmasul set out to start, in 2001, new activities, producing the palm tree preserves. Since then, Santa Catarina company has invested in modern and ecologically correct installations, guaranteeing, also, the quality, the nutritional values and the taste of the final product.Source: the website.', '', ' Heats of palm (palmitos) ', '', '', ' Website', '', ' Facebook', '', ' ', '', '', \" +55 4733823600'\"]\n"
     ]
    },
    {
     "name": "stderr",
     "output_type": "stream",
     "text": [
      "/home/ubaidullah/snap/jupyter/common/lib/python3.7/site-packages/urllib3/connectionpool.py:1052: InsecureRequestWarning: Unverified HTTPS request is being made to host 'www.cannedfood.it'. Adding certificate verification is strongly advised. See: https://urllib3.readthedocs.io/en/1.26.x/advanced-usage.html#ssl-warnings\n",
      "  InsecureRequestWarning,\n"
     ]
    },
    {
     "name": "stdout",
     "output_type": "stream",
     "text": [
      "[\"'   Rua Tiroleses, 2285Bairro das Capitais\", 'Timbó/Santa Catarina. CEP 89120-00Brazil', '', ' Specializing in the cultivation and production of Palms of Palmeira Real and Pupunha, Palmasul Conservas works and accompanies all this process that involves from the selection of the seeds and the planting of seedlings to the selected cutting and the industrialization.', '', 'Having started in 1986 the cultivation of seedlings of Palmeira Real and Pupunha, Palmasul set out to start, in 2001, new activities, producing the palm tree preserves. Since then, Santa Catarina company has invested in modern and ecologically correct installations, guaranteeing, also, the quality, the nutritional values and the taste of the final product.Source: the website.', '', ' Heats of palm (palmitos) ', '', '', ' Website', '', ' Facebook', '', ' ', '', '', \" +55 4733823600'\"]\n"
     ]
    },
    {
     "name": "stderr",
     "output_type": "stream",
     "text": [
      "/home/ubaidullah/snap/jupyter/common/lib/python3.7/site-packages/urllib3/connectionpool.py:1052: InsecureRequestWarning: Unverified HTTPS request is being made to host 'www.cannedfood.it'. Adding certificate verification is strongly advised. See: https://urllib3.readthedocs.io/en/1.26.x/advanced-usage.html#ssl-warnings\n",
      "  InsecureRequestWarning,\n",
      "/home/ubaidullah/snap/jupyter/common/lib/python3.7/site-packages/urllib3/connectionpool.py:1052: InsecureRequestWarning: Unverified HTTPS request is being made to host 'www.cannedfood.it'. Adding certificate verification is strongly advised. See: https://urllib3.readthedocs.io/en/1.26.x/advanced-usage.html#ssl-warnings\n",
      "  InsecureRequestWarning,\n"
     ]
    },
    {
     "name": "stdout",
     "output_type": "stream",
     "text": [
      "[\"'   Rua Tiroleses, 2285Bairro das Capitais\", 'Timbó/Santa Catarina. CEP 89120-00Brazil', '', ' Specializing in the cultivation and production of Palms of Palmeira Real and Pupunha, Palmasul Conservas works and accompanies all this process that involves from the selection of the seeds and the planting of seedlings to the selected cutting and the industrialization.', '', 'Having started in 1986 the cultivation of seedlings of Palmeira Real and Pupunha, Palmasul set out to start, in 2001, new activities, producing the palm tree preserves. Since then, Santa Catarina company has invested in modern and ecologically correct installations, guaranteeing, also, the quality, the nutritional values and the taste of the final product.Source: the website.', '', ' Heats of palm (palmitos) ', '', '', ' Website', '', ' Facebook', '', ' ', '', '', \" +55 4733823600'\"]\n"
     ]
    },
    {
     "name": "stderr",
     "output_type": "stream",
     "text": [
      "/home/ubaidullah/snap/jupyter/common/lib/python3.7/site-packages/urllib3/connectionpool.py:1052: InsecureRequestWarning: Unverified HTTPS request is being made to host 'www.cannedfood.it'. Adding certificate verification is strongly advised. See: https://urllib3.readthedocs.io/en/1.26.x/advanced-usage.html#ssl-warnings\n",
      "  InsecureRequestWarning,\n"
     ]
    },
    {
     "name": "stdout",
     "output_type": "stream",
     "text": [
      "['\"  Struga Street Varna, 9000 Bulgaria', '', ' Cherries Group Ltd. is a Bulgarian company , continuing long traditions in the processing of fruits and vegetables since the early 90s.', '', 'Cherries Group Ltd. specializes in the production of unique products based on natural cherries and sour cherries to excellent decorations, with alluring colors and tastes of Amarena cherries, Cocktail cherries, Maraschino cherries and Glace cherries.', '', \"In the development process we were able to experiment with different ingredients and to select the most appropriate and highest quality raw materials to meet the high demands of today's market . Precise laboratory control and continuous improvement of the production process, enabled us to offer the market natural cocktail , maraschino cherries and glace cherries, without artificial colors or preservatives. \", '', '  Maraschino cherries, ', 'Amarena cherries, Cocktail cherries, Glacé cherries, Fruit Fillings', ' ', '', '', ' Website', '', ' Facebook', '', ' ', '', '', ' +359 892 333 148 \"']\n"
     ]
    },
    {
     "name": "stderr",
     "output_type": "stream",
     "text": [
      "/home/ubaidullah/snap/jupyter/common/lib/python3.7/site-packages/urllib3/connectionpool.py:1052: InsecureRequestWarning: Unverified HTTPS request is being made to host 'www.cannedfood.it'. Adding certificate verification is strongly advised. See: https://urllib3.readthedocs.io/en/1.26.x/advanced-usage.html#ssl-warnings\n",
      "  InsecureRequestWarning,\n"
     ]
    },
    {
     "name": "stdout",
     "output_type": "stream",
     "text": [
      "['\"  Struga Street Varna, 9000 Bulgaria', '', ' Cherries Group Ltd. is a Bulgarian company , continuing long traditions in the processing of fruits and vegetables since the early 90s.', '', 'Cherries Group Ltd. specializes in the production of unique products based on natural cherries and sour cherries to excellent decorations, with alluring colors and tastes of Amarena cherries, Cocktail cherries, Maraschino cherries and Glace cherries.', '', \"In the development process we were able to experiment with different ingredients and to select the most appropriate and highest quality raw materials to meet the high demands of today's market . Precise laboratory control and continuous improvement of the production process, enabled us to offer the market natural cocktail , maraschino cherries and glace cherries, without artificial colors or preservatives. \", '', '  Maraschino cherries, ', 'Amarena cherries, Cocktail cherries, Glacé cherries, Fruit Fillings', ' ', '', '', ' Website', '', ' Facebook', '', ' ', '', '', ' +359 892 333 148 \"']\n"
     ]
    },
    {
     "name": "stderr",
     "output_type": "stream",
     "text": [
      "/home/ubaidullah/snap/jupyter/common/lib/python3.7/site-packages/urllib3/connectionpool.py:1052: InsecureRequestWarning: Unverified HTTPS request is being made to host 'www.cannedfood.it'. Adding certificate verification is strongly advised. See: https://urllib3.readthedocs.io/en/1.26.x/advanced-usage.html#ssl-warnings\n",
      "  InsecureRequestWarning,\n"
     ]
    },
    {
     "name": "stdout",
     "output_type": "stream",
     "text": [
      "[\"'   Karnobat Bulgaria\", '', ' With over half century of experience they combine the traditional taste with latest technology and know-how in fruit and vegetable processing', 'to provide fine and healthy products at a hand reach.', '', 'Over the years they have accumulated rich and valuable experience, they have established traditions in the industrial processing of fruits and vegetables,', 'and they have made serious investments in equipment and technology. ', 'Source: the website.', '', ' Peaches in sugar syrup, Apricots in sugar syrup, Sour cherries in sugar syrup, Cherries in sugar syrup, Pears in sugar syrup, Plums in sugar syrup, White cherries in sugar syrup, Gherkins, Pepper products ', '', '', ' Website', '', ' Facebook', '', ' ', '', '', \" (359) 887 100 867'\"]\n"
     ]
    },
    {
     "name": "stderr",
     "output_type": "stream",
     "text": [
      "/home/ubaidullah/snap/jupyter/common/lib/python3.7/site-packages/urllib3/connectionpool.py:1052: InsecureRequestWarning: Unverified HTTPS request is being made to host 'www.cannedfood.it'. Adding certificate verification is strongly advised. See: https://urllib3.readthedocs.io/en/1.26.x/advanced-usage.html#ssl-warnings\n",
      "  InsecureRequestWarning,\n"
     ]
    },
    {
     "name": "stdout",
     "output_type": "stream",
     "text": [
      "[\"''\"]\n"
     ]
    },
    {
     "name": "stderr",
     "output_type": "stream",
     "text": [
      "/home/ubaidullah/snap/jupyter/common/lib/python3.7/site-packages/urllib3/connectionpool.py:1052: InsecureRequestWarning: Unverified HTTPS request is being made to host 'www.cannedfood.it'. Adding certificate verification is strongly advised. See: https://urllib3.readthedocs.io/en/1.26.x/advanced-usage.html#ssl-warnings\n",
      "  InsecureRequestWarning,\n"
     ]
    },
    {
     "name": "stdout",
     "output_type": "stream",
     "text": [
      "[\"'  16 Malashevska StrSofia, Bulgaria\", '', ' The company SuiCo stands behind the brand Krina. In 20 years their family business grew from a small shop for groceries into a large enterprise with its own ricemill, modern machineries and a variety of products that occupy a solid place on the retail market. Their products may be found in the major grocery stores, supermarkets and small groceries, on ordinary family tables and in the kitchen of the finest restaurants. ', '', '  Jams,  Beans, Gherkins, Roasted red peppers, Sweet corn, Green peas, Lentils, Chickpeas ', '', '', ' Website', '', ' Facebook', '', ' ', '', '', \" +359 2 813 9888 '\"]\n"
     ]
    },
    {
     "name": "stderr",
     "output_type": "stream",
     "text": [
      "/home/ubaidullah/snap/jupyter/common/lib/python3.7/site-packages/urllib3/connectionpool.py:1052: InsecureRequestWarning: Unverified HTTPS request is being made to host 'www.cannedfood.it'. Adding certificate verification is strongly advised. See: https://urllib3.readthedocs.io/en/1.26.x/advanced-usage.html#ssl-warnings\n",
      "  InsecureRequestWarning,\n"
     ]
    },
    {
     "name": "stdout",
     "output_type": "stream",
     "text": [
      "[\"'  2A Opalchenska Str. Ovoshtnik KhaskovoBulgaria\", '', ' Vege Fresh 90 LTD, is a modern European company located in Bulgaria, near to the beautiful city of Kazanlak , to the Ovostnik village, where you can find our new factory.', 'Their facilities and the top quality of their products very soon made us, one of the leading companies to their region. Major retail and catering companies trust us to put their private labels on to their products. They offer their products for private labeling, under customer’s brand.    This service allows any type of personalization regarding range, size, and packaging. Each year they come up with a new line of products, in accordance to the needs of the local as well as worldwide market.Source: the website. ', '', '  Stuffed vine leaves with rice with jalapeno peppers, Stuffed vine leaves with rice, dates & cinnamon, Stuffed vine leaves with rice ', '', '', ' Website', '', ' Facebook', '', ' ', '', '', \" +359 877 711 763 '\"]\n"
     ]
    },
    {
     "name": "stderr",
     "output_type": "stream",
     "text": [
      "/home/ubaidullah/snap/jupyter/common/lib/python3.7/site-packages/urllib3/connectionpool.py:1052: InsecureRequestWarning: Unverified HTTPS request is being made to host 'www.cannedfood.it'. Adding certificate verification is strongly advised. See: https://urllib3.readthedocs.io/en/1.26.x/advanced-usage.html#ssl-warnings\n",
      "  InsecureRequestWarning,\n"
     ]
    },
    {
     "name": "stdout",
     "output_type": "stream",
     "text": [
      "[\"'  2A Opalchenska Str. Ovoshtnik KhaskovoBulgaria\", '', ' Vege Fresh 90 LTD, is a modern European company located in Bulgaria, near to the beautiful city of Kazanlak , to the Ovostnik village, where you can find our new factory.', 'Their facilities and the top quality of their products very soon made us, one of the leading companies to their region. Major retail and catering companies trust us to put their private labels on to their products. They offer their products for private labeling, under customer’s brand.    This service allows any type of personalization regarding range, size, and packaging. Each year they come up with a new line of products, in accordance to the needs of the local as well as worldwide market.Source: the website. ', '', '  Stuffed vine leaves with rice with jalapeno peppers, Stuffed vine leaves with rice, dates & cinnamon, Stuffed vine leaves with rice ', '', '', ' Website', '', ' Facebook', '', ' ', '', '', \" +359 877 711 763 '\"]\n"
     ]
    },
    {
     "name": "stderr",
     "output_type": "stream",
     "text": [
      "/home/ubaidullah/snap/jupyter/common/lib/python3.7/site-packages/urllib3/connectionpool.py:1052: InsecureRequestWarning: Unverified HTTPS request is being made to host 'www.cannedfood.it'. Adding certificate verification is strongly advised. See: https://urllib3.readthedocs.io/en/1.26.x/advanced-usage.html#ssl-warnings\n",
      "  InsecureRequestWarning,\n",
      "/home/ubaidullah/snap/jupyter/common/lib/python3.7/site-packages/urllib3/connectionpool.py:1052: InsecureRequestWarning: Unverified HTTPS request is being made to host 'www.cannedfood.it'. Adding certificate verification is strongly advised. See: https://urllib3.readthedocs.io/en/1.26.x/advanced-usage.html#ssl-warnings\n",
      "  InsecureRequestWarning,\n"
     ]
    },
    {
     "name": "stdout",
     "output_type": "stream",
     "text": [
      "[\"'  13578 Peggys Cove Rd.\", 'Upper Tantallon, NS', 'B3Z 2J2 Canada ', '', ' From Tree to Table, Acadian Maple Products has been proudly partnering with Maple Harvesters in Nova Scotia to provide you with 100% Nova Scotia Maple for over 35 years. Source: the website. ', '', '  Maple syrup, Maple butter, Blueberry jam, Maple barbecue sauce', '', '', ' Website', '', ' Facebook', '', ' ', '', '', \" +1 (902) 8262312 '\"]\n"
     ]
    },
    {
     "name": "stderr",
     "output_type": "stream",
     "text": [
      "/home/ubaidullah/snap/jupyter/common/lib/python3.7/site-packages/urllib3/connectionpool.py:1052: InsecureRequestWarning: Unverified HTTPS request is being made to host 'www.cannedfood.it'. Adding certificate verification is strongly advised. See: https://urllib3.readthedocs.io/en/1.26.x/advanced-usage.html#ssl-warnings\n",
      "  InsecureRequestWarning,\n"
     ]
    },
    {
     "name": "stdout",
     "output_type": "stream",
     "text": [
      "['\"  63 Gowland Mountain Road', '', 'Elgin, New Brunswick', '', 'Canada E4Z 1T3 ', '', \" Canadian Organic Maple Co. Ltd., is pleased to be able to produce 100% Organic Maple Syrup. Their family-run sugary is located in the heart of the Appalachian Hardwood Forest in New Brunswick, Canada, at a place called Divide; so called because this location divides the watershed between two of New Brunswick's greatest rivers, the beautiful St. John River and the mighty Miramichi River. More specifically, they are situated approximately one and a half hours drive from the United States border crossing at Bridgewater, Maine. Source: the website. \", '', '  Maple syrup, Organic Maple syrup, Sugar free maple syrup, Maple sauce', '', '', ' Website', '', ' Facebook', '', ' ', '', '', ' +1 506-278-5998 \"']\n"
     ]
    },
    {
     "name": "stderr",
     "output_type": "stream",
     "text": [
      "/home/ubaidullah/snap/jupyter/common/lib/python3.7/site-packages/urllib3/connectionpool.py:1052: InsecureRequestWarning: Unverified HTTPS request is being made to host 'www.cannedfood.it'. Adding certificate verification is strongly advised. See: https://urllib3.readthedocs.io/en/1.26.x/advanced-usage.html#ssl-warnings\n",
      "  InsecureRequestWarning,\n"
     ]
    },
    {
     "name": "stdout",
     "output_type": "stream",
     "text": [
      "[\"'  454414 Trillium Line, R.R.1\", 'Beachville, OntarioCanada ', '', ' The Jakeman Family has been producing our award-winning blend of 100% pure Maple Syrup since 1876. They  work closely with farms and rural communities all over Ontario to bring you the freshest, purest, Maple Syrup they can offer. Their hope is that you will enjoy it as much as they enjoy making it!Source: the website. ', '', '  Organic maple syrup, ', ' Pure maple syrup ', '', '', ' Website', '', ' Facebook', '', ' ', '', '', \" +1.519.539.1366 '\"]\n"
     ]
    },
    {
     "name": "stderr",
     "output_type": "stream",
     "text": [
      "/home/ubaidullah/snap/jupyter/common/lib/python3.7/site-packages/urllib3/connectionpool.py:1052: InsecureRequestWarning: Unverified HTTPS request is being made to host 'www.cannedfood.it'. Adding certificate verification is strongly advised. See: https://urllib3.readthedocs.io/en/1.26.x/advanced-usage.html#ssl-warnings\n",
      "  InsecureRequestWarning,\n",
      "/home/ubaidullah/snap/jupyter/common/lib/python3.7/site-packages/urllib3/connectionpool.py:1052: InsecureRequestWarning: Unverified HTTPS request is being made to host 'www.cannedfood.it'. Adding certificate verification is strongly advised. See: https://urllib3.readthedocs.io/en/1.26.x/advanced-usage.html#ssl-warnings\n",
      "  InsecureRequestWarning,\n"
     ]
    },
    {
     "name": "stdout",
     "output_type": "stream",
     "text": [
      "[\"'  Avenida Antonio Cassis Cadorio\", '    p.o.b. 1', '    Tarrafal de Sao Nicolao - CABO VERDE', '', ' The company SUCLA has been operating as canned tuna producer since 1935 at Cabo Verde.', '', '  Canned tuna ', '', '', ' Website', '', ' Facebook', '', ' ', '', '', \" (+ 238) 236 11 82'\"]\n"
     ]
    },
    {
     "name": "stderr",
     "output_type": "stream",
     "text": [
      "/home/ubaidullah/snap/jupyter/common/lib/python3.7/site-packages/urllib3/connectionpool.py:1052: InsecureRequestWarning: Unverified HTTPS request is being made to host 'www.cannedfood.it'. Adding certificate verification is strongly advised. See: https://urllib3.readthedocs.io/en/1.26.x/advanced-usage.html#ssl-warnings\n",
      "  InsecureRequestWarning,\n",
      "/home/ubaidullah/snap/jupyter/common/lib/python3.7/site-packages/urllib3/connectionpool.py:1052: InsecureRequestWarning: Unverified HTTPS request is being made to host 'www.cannedfood.it'. Adding certificate verification is strongly advised. See: https://urllib3.readthedocs.io/en/1.26.x/advanced-usage.html#ssl-warnings\n",
      "  InsecureRequestWarning,\n"
     ]
    },
    {
     "name": "stdout",
     "output_type": "stream",
     "text": [
      "[\"'  Simon Bolívar 19\", '     ColinaRegión MetropolitanaCile', '', ' Manufacturers of canned fruit in glas too. ', '', '  Artichokes, Mango, Papaya, Fruit cream', '', '', ' Website', '', ' Facebook', '', ' ', '', '', \" +56 9 39141408'\"]\n"
     ]
    },
    {
     "name": "stderr",
     "output_type": "stream",
     "text": [
      "/home/ubaidullah/snap/jupyter/common/lib/python3.7/site-packages/urllib3/connectionpool.py:1052: InsecureRequestWarning: Unverified HTTPS request is being made to host 'www.cannedfood.it'. Adding certificate verification is strongly advised. See: https://urllib3.readthedocs.io/en/1.26.x/advanced-usage.html#ssl-warnings\n",
      "  InsecureRequestWarning,\n",
      "/home/ubaidullah/snap/jupyter/common/lib/python3.7/site-packages/urllib3/connectionpool.py:1052: InsecureRequestWarning: Unverified HTTPS request is being made to host 'www.cannedfood.it'. Adding certificate verification is strongly advised. See: https://urllib3.readthedocs.io/en/1.26.x/advanced-usage.html#ssl-warnings\n",
      "  InsecureRequestWarning,\n",
      "/home/ubaidullah/snap/jupyter/common/lib/python3.7/site-packages/urllib3/connectionpool.py:1052: InsecureRequestWarning: Unverified HTTPS request is being made to host 'www.cannedfood.it'. Adding certificate verification is strongly advised. See: https://urllib3.readthedocs.io/en/1.26.x/advanced-usage.html#ssl-warnings\n",
      "  InsecureRequestWarning,\n"
     ]
    },
    {
     "name": "stdout",
     "output_type": "stream",
     "text": [
      "[\"'  San José, Santa AnaCosta Rica\", '', ' Alimentos Prosalud is today one of the largest seafood processors and marketers in the region. They export products – including canned tuna, sardines and food solutions with other basic proteins such as red meats and chicken – to more than 20 countries in the Americas and Europe.', '  Source: the website', '', '  Tuna in olive oil, Tuna fillets in soy oil\\\\u200b ', '', '', ' Website', '', ' Facebook', '', ' ', '', '', \" (506) 2504-7676'\"]\n"
     ]
    },
    {
     "name": "stderr",
     "output_type": "stream",
     "text": [
      "/home/ubaidullah/snap/jupyter/common/lib/python3.7/site-packages/urllib3/connectionpool.py:1052: InsecureRequestWarning: Unverified HTTPS request is being made to host 'www.cannedfood.it'. Adding certificate verification is strongly advised. See: https://urllib3.readthedocs.io/en/1.26.x/advanced-usage.html#ssl-warnings\n",
      "  InsecureRequestWarning,\n"
     ]
    },
    {
     "name": "stdout",
     "output_type": "stream",
     "text": [
      "[\"'  Vereda Bajo Tablazo Casa 104B Contiguo a la Iglesiaantigua vía Manizales Chinchiná. Manizales, CaldasCosta Rica\", '', ' Campoverde es una empresa orientada a la producción y comercialización de alimentos listos y prelistos, cien por ciento naturales, sin químicos ni aditivos o preservativos, alimentos saludables y que otorgan beneficios nutricionales al consumirlos, con un concepto ecológico buscando en todos nuestros procesos ser amigables con el medio ambiente.Source: the website.', '', '  Honey, chutney, antipasto', '', '', ' Website', '', ' Facebook', '', ' ', '', '', \" (787)-793-6900'\"]\n"
     ]
    },
    {
     "name": "stderr",
     "output_type": "stream",
     "text": [
      "/home/ubaidullah/snap/jupyter/common/lib/python3.7/site-packages/urllib3/connectionpool.py:1052: InsecureRequestWarning: Unverified HTTPS request is being made to host 'www.cannedfood.it'. Adding certificate verification is strongly advised. See: https://urllib3.readthedocs.io/en/1.26.x/advanced-usage.html#ssl-warnings\n",
      "  InsecureRequestWarning,\n"
     ]
    },
    {
     "name": "stdout",
     "output_type": "stream",
     "text": [
      "[\"'  APDO: 156-5000\", '', 'El Salto, Liberia, GuanacasteCosta Rica', '', ' Del Salto © is a trade mark of a family venture that makes tropical jams, jellies, marmalades, hot sauces, chunky sauces, sweet sour sauces, relishes and chutney. Their products are gluten free and 100% pure which means they are made with natural ingredients. All of their ingredients are produced by small farmers here in Guanacaste. Their recipes are based on the Tico cuisine---the taste of tropical Costa Rica.Source: the website.', '', '  Tropical jams, hot sauces', '', '', ' Website', '', ' Facebook', '', ' ', '', '', \" +506 2666 2036'\"]\n"
     ]
    },
    {
     "name": "stderr",
     "output_type": "stream",
     "text": [
      "/home/ubaidullah/snap/jupyter/common/lib/python3.7/site-packages/urllib3/connectionpool.py:1052: InsecureRequestWarning: Unverified HTTPS request is being made to host 'www.cannedfood.it'. Adding certificate verification is strongly advised. See: https://urllib3.readthedocs.io/en/1.26.x/advanced-usage.html#ssl-warnings\n",
      "  InsecureRequestWarning,\n"
     ]
    },
    {
     "name": "stdout",
     "output_type": "stream",
     "text": [
      "[\"'  2 and 4 street. 17th Ave. \", '    pobox 204-3000Heredia, Costa Rica', '', ' Montana Azul is a family business founded by Victor Arias and wife Maria Benavides. The company specializes in producing, growing and exporting high-added value foods.Source: the website.', '', '  Hearts of palm, pineapple', '', '', ' Website', '', ' Facebook', '', ' ', '', '', \" +506 2261 4128'\"]\n"
     ]
    },
    {
     "name": "stderr",
     "output_type": "stream",
     "text": [
      "/home/ubaidullah/snap/jupyter/common/lib/python3.7/site-packages/urllib3/connectionpool.py:1052: InsecureRequestWarning: Unverified HTTPS request is being made to host 'www.cannedfood.it'. Adding certificate verification is strongly advised. See: https://urllib3.readthedocs.io/en/1.26.x/advanced-usage.html#ssl-warnings\n",
      "  InsecureRequestWarning,\n"
     ]
    },
    {
     "name": "stdout",
     "output_type": "stream",
     "text": [
      "[\"'  600mtr. Oeste de la Plaza\", '    San Diego Tres Ríos', '    Cartago, Costa Rica', '', ' They are a Costa Rican company, Founded in January 1962, their main business is the production of jellies, jams and tropical fruit. Source: the website.', '', '  Doypack jams, Doypack Caramel spread duche de leite, Jam paste', '', '', ' Website', '', ' Facebook', '', ' ', '', '', \" +506 2278-2770'\"]\n"
     ]
    },
    {
     "name": "stderr",
     "output_type": "stream",
     "text": [
      "/home/ubaidullah/snap/jupyter/common/lib/python3.7/site-packages/urllib3/connectionpool.py:1052: InsecureRequestWarning: Unverified HTTPS request is being made to host 'www.cannedfood.it'. Adding certificate verification is strongly advised. See: https://urllib3.readthedocs.io/en/1.26.x/advanced-usage.html#ssl-warnings\n",
      "  InsecureRequestWarning,\n",
      "/home/ubaidullah/snap/jupyter/common/lib/python3.7/site-packages/urllib3/connectionpool.py:1052: InsecureRequestWarning: Unverified HTTPS request is being made to host 'www.cannedfood.it'. Adding certificate verification is strongly advised. See: https://urllib3.readthedocs.io/en/1.26.x/advanced-usage.html#ssl-warnings\n",
      "  InsecureRequestWarning,\n",
      "/home/ubaidullah/snap/jupyter/common/lib/python3.7/site-packages/urllib3/connectionpool.py:1052: InsecureRequestWarning: Unverified HTTPS request is being made to host 'www.cannedfood.it'. Adding certificate verification is strongly advised. See: https://urllib3.readthedocs.io/en/1.26.x/advanced-usage.html#ssl-warnings\n",
      "  InsecureRequestWarning,\n"
     ]
    },
    {
     "name": "stdout",
     "output_type": "stream",
     "text": [
      "[\"'  Englandsvej 11\", 'DK-7100 Vejle', 'Denmark ', '', ' They have been a leading producer of caviar products for the last 30 years. Their highly efficient and hygienic factory in Denmark allows us to bring these delicacies at competitive prices to customers worldwide.', '', 'Their emphasis on producing high quality caviar, requires us to be on a constant lookout for excellent raw materials,', 'and over time they have expanded our product range to meet our customers’ demands for new products.', 'To ensure that future generations can enjoy the delicacies that we have today, they strive to source fish products', 'that are MSC and ASC certified.', '  Source: the website', '', '  Caviar of Lumpfish roe', '(Latin name: Cyclopterus lumpus), Caviar of Capelin roe', '(Latin name: Mallotus villosus), Caviar of Salmon, Chum Keta roe', '(Latin name: Oncorhynchus keta), Caviar of Trout roe', '(Latin name: Oncorhynchus mykiss)', '', '', '', ' Website', '', ' Facebook', '', ' ', '', '', \" +45 7572 3755'\"]\n"
     ]
    },
    {
     "name": "stderr",
     "output_type": "stream",
     "text": [
      "/home/ubaidullah/snap/jupyter/common/lib/python3.7/site-packages/urllib3/connectionpool.py:1052: InsecureRequestWarning: Unverified HTTPS request is being made to host 'www.cannedfood.it'. Adding certificate verification is strongly advised. See: https://urllib3.readthedocs.io/en/1.26.x/advanced-usage.html#ssl-warnings\n",
      "  InsecureRequestWarning,\n"
     ]
    },
    {
     "name": "stdout",
     "output_type": "stream",
     "text": [
      "[\"'  Sigenvej 9\", '    9760 Vraa', 'Denmark ', '', ' Fynbo Foods began life in 2002 in brand new production facilities on Sigenvej in Vrå – a small town in the heart of Vendsyssel in the northernmost part of Denmark. It is an area of rich countryside and strong traditions for the production of jams and marmalades.', '  Source: the website', '', '  Jams and marmalades, Cream jam, Fruit dessert, Fruit spread', '', '', '', ' Website', '', ' Facebook', '', ' Youtube', '', ' ', '', '', \" +45 98 99 68 00'\"]\n"
     ]
    },
    {
     "name": "stderr",
     "output_type": "stream",
     "text": [
      "/home/ubaidullah/snap/jupyter/common/lib/python3.7/site-packages/urllib3/connectionpool.py:1052: InsecureRequestWarning: Unverified HTTPS request is being made to host 'www.cannedfood.it'. Adding certificate verification is strongly advised. See: https://urllib3.readthedocs.io/en/1.26.x/advanced-usage.html#ssl-warnings\n",
      "  InsecureRequestWarning,\n"
     ]
    },
    {
     "name": "stdout",
     "output_type": "stream",
     "text": [
      "[\"'  Store Grundet Allé 71\", '7100 VejleDenmark', '', ' Through a large number of acquisitions Good Food Group today consists of 10 companies in 7 countries.In 2019, Good Food Group was acquired by Maj Invest Equity, and at the beginning of 2020, a new management team was formed with Lillie Li Valeur as CEO. The Good Food Group is Scandinavia’s largest producer of jam and fruit compotes, which are marketed under the brands Skælskør Frugtplantage and Svansø on the Danish market. Our task is now to develop the business internationally through Good Food Group’s strong sales network and at the same time keep our focus on developing and maintaining a strong position in Denmark. ', '', '', '  Source: the website', '', '  Jams, Marmalades, Fruit dessert, Honey', '', '', ' Website', '', ' Facebook', '', ' ', '', '', \" (+45) 75 71 18 00'\"]\n"
     ]
    },
    {
     "name": "stderr",
     "output_type": "stream",
     "text": [
      "/home/ubaidullah/snap/jupyter/common/lib/python3.7/site-packages/urllib3/connectionpool.py:1052: InsecureRequestWarning: Unverified HTTPS request is being made to host 'www.cannedfood.it'. Adding certificate verification is strongly advised. See: https://urllib3.readthedocs.io/en/1.26.x/advanced-usage.html#ssl-warnings\n",
      "  InsecureRequestWarning,\n"
     ]
    },
    {
     "name": "stdout",
     "output_type": "stream",
     "text": [
      "['\"  Buntmagervej 20', '', 'DK-7490 Aulum Denmark ', '', \" Jakobsens A/S is one of Scandinavia's leading producers of honey. They offer a wide range of conventional, organic and Fairtrade honey, as well as agave syrup for retail, catering and industrial purposes.They primarily sell our products in Scandinavia, but have recently started exporting to a long list of European countries, as well as China. Production and bottling of honey takes place under strict quality procedures, ensuring high product quality. \", '  Source: the website', '', '  Honey', '', '', ' Website', '', ' Facebook', '', '', ' ', '', '', ' +45 9747 2739\"']\n"
     ]
    },
    {
     "name": "stderr",
     "output_type": "stream",
     "text": [
      "/home/ubaidullah/snap/jupyter/common/lib/python3.7/site-packages/urllib3/connectionpool.py:1052: InsecureRequestWarning: Unverified HTTPS request is being made to host 'www.cannedfood.it'. Adding certificate verification is strongly advised. See: https://urllib3.readthedocs.io/en/1.26.x/advanced-usage.html#ssl-warnings\n",
      "  InsecureRequestWarning,\n"
     ]
    },
    {
     "name": "stdout",
     "output_type": "stream",
     "text": [
      "[\"'  Fiskeløkken 1\", 'DK-5330 Munkebo', 'Denmark', '', ' Munkebo Seafood A/S was established by Hawesta and F. Tengberg Hansen back in 1974. Hawesta was a German can producer and F. Tengberg already had a fish cannery. Therefore, the partnership between the 2 men seemed to be an ideal mixture. Hawesta was looking for a place in Denmark where there was rich access to female labor. Hence Munkebo proved to be the logical place to build the factory because of its neighbour, Odense Steel Shipyard, which employed 5000 men. Munkebo Fine Foods Limited was the name of the company and in the beginning the company mainly supplied Hawesta. The production included herring and cod-liver, but in the early eighties mackerel was also included into the range.', '', 'In 1997 the company was taken over by a four-leaf clover with different approaches to the business. The name was changed to Munkebo Seafood A/S. In 2000 the range was changed to what it is today which includes salmon, herring, mussels and soups.', '', 'Today we can proudly say that the factory stands as a modern cannery with a high productivity.', '', '', '  Source: the website', '', '  Salmon, Herring, Mussels, Prawns, Trout, Prawns,\\\\tAlaska pollock, Fish soup', '', '', ' munkeboseafood.com', '', ' Facebook', '', ' ', '', '', \" (+45) 44226622'\"]\n"
     ]
    },
    {
     "name": "stderr",
     "output_type": "stream",
     "text": [
      "/home/ubaidullah/snap/jupyter/common/lib/python3.7/site-packages/urllib3/connectionpool.py:1052: InsecureRequestWarning: Unverified HTTPS request is being made to host 'www.cannedfood.it'. Adding certificate verification is strongly advised. See: https://urllib3.readthedocs.io/en/1.26.x/advanced-usage.html#ssl-warnings\n",
      "  InsecureRequestWarning,\n"
     ]
    },
    {
     "name": "stdout",
     "output_type": "stream",
     "text": [
      "[\"'  Gyldendalsvej 2-4\", 'DK-9300 Sæby ', 'Denmark', '', ' They are the leading producer of private label mackerel preserves in Europe. Their customers include major chains such as Princes, Tesco, Morrisons, Aldi, Lidl, Rema1000 and Bergendahls.', '  Source: the website', '', '  Mackerel ', '', '', '', ' Website', '', ' Facebook', '', ' ', '', '', \" +45 98 46 10 66'\"]\n"
     ]
    },
    {
     "name": "stderr",
     "output_type": "stream",
     "text": [
      "/home/ubaidullah/snap/jupyter/common/lib/python3.7/site-packages/urllib3/connectionpool.py:1052: InsecureRequestWarning: Unverified HTTPS request is being made to host 'www.cannedfood.it'. Adding certificate verification is strongly advised. See: https://urllib3.readthedocs.io/en/1.26.x/advanced-usage.html#ssl-warnings\n",
      "  InsecureRequestWarning,\n",
      "/home/ubaidullah/snap/jupyter/common/lib/python3.7/site-packages/urllib3/connectionpool.py:1052: InsecureRequestWarning: Unverified HTTPS request is being made to host 'www.cannedfood.it'. Adding certificate verification is strongly advised. See: https://urllib3.readthedocs.io/en/1.26.x/advanced-usage.html#ssl-warnings\n",
      "  InsecureRequestWarning,\n"
     ]
    },
    {
     "name": "stdout",
     "output_type": "stream",
     "text": [
      "[\"'  \", 'Calle Transmarina y Av. Hugo Mayo', 'Montecristi Ecuador', '', '', '', ' Eurofish is one of Ecuador’s leading tuna-exporting companies. They process 45,000 MT of whole round tuna per year with which we supply markets all around the world.', '', '  Canned tuna, sardines, mackerel and tuna fillets ', '', '', ' Website', '', ' Facebook', '', ' ', '', '', \" +593 5-257-8950'\"]\n"
     ]
    },
    {
     "name": "stderr",
     "output_type": "stream",
     "text": [
      "/home/ubaidullah/snap/jupyter/common/lib/python3.7/site-packages/urllib3/connectionpool.py:1052: InsecureRequestWarning: Unverified HTTPS request is being made to host 'www.cannedfood.it'. Adding certificate verification is strongly advised. See: https://urllib3.readthedocs.io/en/1.26.x/advanced-usage.html#ssl-warnings\n",
      "  InsecureRequestWarning,\n",
      "/home/ubaidullah/snap/jupyter/common/lib/python3.7/site-packages/urllib3/connectionpool.py:1052: InsecureRequestWarning: Unverified HTTPS request is being made to host 'www.cannedfood.it'. Adding certificate verification is strongly advised. See: https://urllib3.readthedocs.io/en/1.26.x/advanced-usage.html#ssl-warnings\n",
      "  InsecureRequestWarning,\n"
     ]
    },
    {
     "name": "stdout",
     "output_type": "stream",
     "text": [
      "[\"'   ALKENANA for Export\", 'Al Hafir WA Al Amal', 'BelkasDakahlia Governorate Egypt', '', '', ' The story of Alkenana started in 1998 when Tarek El Kanani founded the company to export fresh fruits and vegetables to the European market.', '', 'In 2005, the company switched its activity to the processing field, building a factory in Gamasa industrial zone at Dakahlia governorate, north of Egypt. The factory’s location on the north coast has given the company access to Egypt’s main ports such as Damietta, Port Said and Alexandria.', '', 'Over the years the company made significant investments in machinery, industry know-how and manpower training.', '', 'Today Al Kenana is considered one of the leading processing companies in the field of exporting, with a strong system of product traceability from field to shelf.Source: the website.', '', '  Artichokes in brine, Sun dried tomatoes, Pepperoncini Pepper, Jalapeno pepper, Cherry  pepper, Sweet  pepper', '', '', ' alkenanaegypt.com', '', ' Facebook', '', ' ', '', '', \" +20 502770125 '\"]\n"
     ]
    },
    {
     "name": "stderr",
     "output_type": "stream",
     "text": [
      "/home/ubaidullah/snap/jupyter/common/lib/python3.7/site-packages/urllib3/connectionpool.py:1052: InsecureRequestWarning: Unverified HTTPS request is being made to host 'www.cannedfood.it'. Adding certificate verification is strongly advised. See: https://urllib3.readthedocs.io/en/1.26.x/advanced-usage.html#ssl-warnings\n",
      "  InsecureRequestWarning,\n"
     ]
    },
    {
     "name": "stdout",
     "output_type": "stream",
     "text": [
      "[\"'   143 El Tahrir st. \", '    Dokki', '    Giza         Egypt', '', '', ' Green Hope, LTD. Egyptian company for producing in brine/frozen vegetables and fruits in different packing.', 'The Factory is dividing to 3 sectors ( Canned Food , In brine Bulk , Frozen Food ).Source: the website.', '', '  Artichokes in brine, Green olives, Lombardi Pepper, Jalapeno pepper, Cherry  pepper, Banana  pepper', '', '', ' Website', '', ' Facebook', '', ' ', '', '', \" '\"]\n"
     ]
    },
    {
     "name": "stderr",
     "output_type": "stream",
     "text": [
      "/home/ubaidullah/snap/jupyter/common/lib/python3.7/site-packages/urllib3/connectionpool.py:1052: InsecureRequestWarning: Unverified HTTPS request is being made to host 'www.cannedfood.it'. Adding certificate verification is strongly advised. See: https://urllib3.readthedocs.io/en/1.26.x/advanced-usage.html#ssl-warnings\n",
      "  InsecureRequestWarning,\n"
     ]
    },
    {
     "name": "stdout",
     "output_type": "stream",
     "text": [
      "['\"   ', 'Office Address: 67, Khalil Elmasry str. Kafr AbdoAlexandria – Egypt', 'Factory Address: Kilo 19 AlexandriaCairo desert roadMerghemAlexandria – Egypt', '', '', ' Natura Agro-Trade is a leading Egyptian company founded back in 1999.', \"They grow, process, export canned fruits and vegetables and they also pack under customer's private label.\", 'They serve worldwide markets such as the Middle East, Europe, America and Asia.Source: the website.', '', '  Sweet corn, Red Kidney beans, White kidney beans, Chickpeas, Green peas, Mixed vegetables, Beans, Artichokes, Strawberries, Sweet potatoes, Beetrooss, Peach, Abricot, Grapes, Pepper, Olives', '', '', ' natura-eg.com/', '', ' Facebook', '', ' ', '', '', ' +20 1066648229 \"']\n"
     ]
    },
    {
     "name": "stderr",
     "output_type": "stream",
     "text": [
      "/home/ubaidullah/snap/jupyter/common/lib/python3.7/site-packages/urllib3/connectionpool.py:1052: InsecureRequestWarning: Unverified HTTPS request is being made to host 'www.cannedfood.it'. Adding certificate verification is strongly advised. See: https://urllib3.readthedocs.io/en/1.26.x/advanced-usage.html#ssl-warnings\n",
      "  InsecureRequestWarning,\n"
     ]
    },
    {
     "name": "stdout",
     "output_type": "stream",
     "text": [
      "[\"'   Plot 48 developer zone\", 'El sadat', ' city sadat menofia', '32865', 'Egypt', '', ' Richland represents an entrepreneurial mindset dedicated to producing, trading, and marketing canned fruits and vegetables and pickles through the combination between nature and technology. in our wide farm of 1700 acres located in Egypt mixed with the latest production technology in fruits & vegetable canning. ', 'Their Key products are strawberries, figs, apricots, pears, peaches, beans, peas, mushrooms, pepper, olives, artichokes, and more.Source: the website.', '', '  Mango slices in juice', 'sweet potato in light syrup, ', 'peaches in light syrup, ', 'baby potato in brine, ', 'Pear halves in juice, ', 'Pear halves in light syrup,  ', 'cut green beans in brine, ', 'pepper in brine, ', 'sweet corn in brine, ', 'whole mushroom in brine,  ', 'green peas in brine, ', 'Mixed vegetables in brine, ', 'figs Kadota in syrup, ', 'sliced mushroom in brine, ', 'Beetroot in brine,. ', 'tomatoes in tomatoes sauce, ', 'Strawberry in light syrup, ', 'artichoke bottoms in brine,  ', 'artichoke halves in brine,  ', 'artichoke hearts in brine,  ', 'mandarin in light syrup,  ', 'cucumber in brine,  ', 'Pitted Green Olives, ', 'Whole Green Olives,  ', 'Sliced Green Olives, ', 'Whole Oxidized Olives,', 'Pitted Oxidized Olives, ', 'garlic in brine, ', 'Sliced green pepper jalapeno in brine,  ', 'Whole green pepper in brine,  ', 'sliced yellow pepper in brine', '', '', ' Website', '', ' Facebook', '', ' ', '', '', \" '\"]\n"
     ]
    },
    {
     "name": "stderr",
     "output_type": "stream",
     "text": [
      "/home/ubaidullah/snap/jupyter/common/lib/python3.7/site-packages/urllib3/connectionpool.py:1052: InsecureRequestWarning: Unverified HTTPS request is being made to host 'www.cannedfood.it'. Adding certificate verification is strongly advised. See: https://urllib3.readthedocs.io/en/1.26.x/advanced-usage.html#ssl-warnings\n",
      "  InsecureRequestWarning,\n"
     ]
    },
    {
     "name": "stdout",
     "output_type": "stream",
     "text": [
      "[\"'   \", 'SEVEN SKY FOR FOOD INDUSTRIES', '    Area 5-6-7-17-18 Block 64th Industrial Zone', '    New Borg El Arab CityAlexandriaEgypt', '', '', ' Seven Sky for Food Industries was founded in 2012. We are working on the company to be soon an important player in preserved food with large market shares in Egypt and all over the world.Since 2012 seven sky for food Industries Company has been synonymous with high quality and great testing tomato paste and jam in various types of packing and very successful in manufacturing privet label products. Source: the website.', '', '  Kenzy jam,     Kenzy tomato products, Kenzy ketchup, Kenzy tomato paste', '', '', ' Website', '', ' Facebook', '', ' ', '', '', \" (+203) 4627200'\"]\n"
     ]
    },
    {
     "name": "stderr",
     "output_type": "stream",
     "text": [
      "/home/ubaidullah/snap/jupyter/common/lib/python3.7/site-packages/urllib3/connectionpool.py:1052: InsecureRequestWarning: Unverified HTTPS request is being made to host 'www.cannedfood.it'. Adding certificate verification is strongly advised. See: https://urllib3.readthedocs.io/en/1.26.x/advanced-usage.html#ssl-warnings\n",
      "  InsecureRequestWarning,\n"
     ]
    },
    {
     "name": "stdout",
     "output_type": "stream",
     "text": [
      "[\"'   Wadi Group Company\", '     Capital Business Park', '     Building B1 26th of July Corridor', '     Sheikh Zayed, Giza', '    Egypt ', '', '', ' Wadi food was founded in 1989 & located in Egypt’s pristine desert. It is a leading Egyptian brand of harvested foods, serving local and global consumers with a commitment to innovation and quality.', '', '', '', 'The high quality of the products is achieved from the early stages of planting until the time of harvest, where Wadi Food’s superior olives are handpicked to make sure that the fruit has naturally matured and ripened into the best raw material for the extraction of high-quality olive oil.', '', 'Offering a wide range of premium quality products of Olive Oil, Green Olives, Kalamata Olives, Natural Black Olives, Black Olive products, Tomato Paste and Fava beans and today being positioned among the top Producers, Packers & Exporters of Agrifood in Egypt.Source: the website.', '', '  Green olives, Black olives, Kalamata olives, Tomato paste, Sundried tomatoes, Fava beans, Red Kidney beans, Whole Kernel Sweet Corn, Pickled lemons, Sliced Jalapeno, Mexican hot peppers, Picled onions, Black olive paste, harissa paste, Olive oil', '', '', ' wadi-food.com/en', '', ' Facebook', '', ' ', '', '', \" +20 2 38278203 '\"]\n"
     ]
    },
    {
     "name": "stderr",
     "output_type": "stream",
     "text": [
      "/home/ubaidullah/snap/jupyter/common/lib/python3.7/site-packages/urllib3/connectionpool.py:1052: InsecureRequestWarning: Unverified HTTPS request is being made to host 'www.cannedfood.it'. Adding certificate verification is strongly advised. See: https://urllib3.readthedocs.io/en/1.26.x/advanced-usage.html#ssl-warnings\n",
      "  InsecureRequestWarning,\n",
      "/home/ubaidullah/snap/jupyter/common/lib/python3.7/site-packages/urllib3/connectionpool.py:1052: InsecureRequestWarning: Unverified HTTPS request is being made to host 'www.cannedfood.it'. Adding certificate verification is strongly advised. See: https://urllib3.readthedocs.io/en/1.26.x/advanced-usage.html#ssl-warnings\n",
      "  InsecureRequestWarning,\n"
     ]
    },
    {
     "name": "stdout",
     "output_type": "stream",
     "text": [
      "[\"'  Tervalammintie 99FI-14820 HämeenlinnaFinland\", '', ' For the products of Herkkumaa are selected only the highest quality raw materials that have matured in the fields of selected producers under ideal conditions. Pure flavors arrive at Finnish dinner tables preserved in genuine spices.', '  Source: the website', '', '  Mushrooms preserves, jams and marmalades, Mexican salad, Mayonnaise, Mustard, Tomato Ketchup, Salad dressing, Cucumber, Pearl onion, Beetroot, Celery salad', '', '', ' Website', '', ' Facebook', '', ' ', '', '', \" +358 3 647 770'\"]\n"
     ]
    },
    {
     "name": "stderr",
     "output_type": "stream",
     "text": [
      "/home/ubaidullah/snap/jupyter/common/lib/python3.7/site-packages/urllib3/connectionpool.py:1052: InsecureRequestWarning: Unverified HTTPS request is being made to host 'www.cannedfood.it'. Adding certificate verification is strongly advised. See: https://urllib3.readthedocs.io/en/1.26.x/advanced-usage.html#ssl-warnings\n",
      "  InsecureRequestWarning,\n"
     ]
    },
    {
     "name": "stdout",
     "output_type": "stream",
     "text": [
      "[\"'  Littoistentie 158\", '21500 PiikkiöFinland', '', ' Sauvon Säilyke Oy processes wild and cultivated mushrooms and vegetables into high quality products for the retail stores, restaurants and industry. The fresh raw materials, professional skills and tradition quarantee the quality of Sauvo´s products.', '  Source: the website', '', '  Cucumbers, Wild mushrooms, Cultivated mushrooms champignons, Pickled beetroot, Pickled vegetables', '', '', ' Website', '', ' Facebook', '', ' ', '', '', \" +358 (0) 10 3244 600'\"]\n"
     ]
    },
    {
     "name": "stderr",
     "output_type": "stream",
     "text": [
      "/home/ubaidullah/snap/jupyter/common/lib/python3.7/site-packages/urllib3/connectionpool.py:1052: InsecureRequestWarning: Unverified HTTPS request is being made to host 'www.cannedfood.it'. Adding certificate verification is strongly advised. See: https://urllib3.readthedocs.io/en/1.26.x/advanced-usage.html#ssl-warnings\n",
      "  InsecureRequestWarning,\n",
      "/home/ubaidullah/snap/jupyter/common/lib/python3.7/site-packages/urllib3/connectionpool.py:1052: InsecureRequestWarning: Unverified HTTPS request is being made to host 'www.cannedfood.it'. Adding certificate verification is strongly advised. See: https://urllib3.readthedocs.io/en/1.26.x/advanced-usage.html#ssl-warnings\n",
      "  InsecureRequestWarning,\n",
      "/home/ubaidullah/snap/jupyter/common/lib/python3.7/site-packages/urllib3/connectionpool.py:1052: InsecureRequestWarning: Unverified HTTPS request is being made to host 'www.cannedfood.it'. Adding certificate verification is strongly advised. See: https://urllib3.readthedocs.io/en/1.26.x/advanced-usage.html#ssl-warnings\n",
      "  InsecureRequestWarning,\n",
      "/home/ubaidullah/snap/jupyter/common/lib/python3.7/site-packages/urllib3/connectionpool.py:1052: InsecureRequestWarning: Unverified HTTPS request is being made to host 'www.cannedfood.it'. Adding certificate verification is strongly advised. See: https://urllib3.readthedocs.io/en/1.26.x/advanced-usage.html#ssl-warnings\n",
      "  InsecureRequestWarning,\n",
      "/home/ubaidullah/snap/jupyter/common/lib/python3.7/site-packages/urllib3/connectionpool.py:1052: InsecureRequestWarning: Unverified HTTPS request is being made to host 'www.cannedfood.it'. Adding certificate verification is strongly advised. See: https://urllib3.readthedocs.io/en/1.26.x/advanced-usage.html#ssl-warnings\n",
      "  InsecureRequestWarning,\n"
     ]
    },
    {
     "name": "stdout",
     "output_type": "stream",
     "text": [
      "[\"'  V1 & V2 Houston Estate\", '', 'Georgetown GUYANA', '', ' They are one of the oldest producer of wild hearts of palm and the unique in Guyana.', '', 'Their  mission is to deliver to our customers what the Wild Nature is providing us in the Amazonian rainforest of Guyana with the highest pure quality in the best packaging keeping in mind it will benefit to their partners in the jungle, their workers and their indiginous communities.', 'Source: the website.', '', '  Canned hearts of palm, Organic & Wild Hearts of Palm', '', '', ' Website', '', ' ', '', '', \" +33 6 08 98 61 20 (Europe) '\"]\n"
     ]
    },
    {
     "name": "stderr",
     "output_type": "stream",
     "text": [
      "/home/ubaidullah/snap/jupyter/common/lib/python3.7/site-packages/urllib3/connectionpool.py:1052: InsecureRequestWarning: Unverified HTTPS request is being made to host 'www.cannedfood.it'. Adding certificate verification is strongly advised. See: https://urllib3.readthedocs.io/en/1.26.x/advanced-usage.html#ssl-warnings\n",
      "  InsecureRequestWarning,\n",
      "/home/ubaidullah/snap/jupyter/common/lib/python3.7/site-packages/urllib3/connectionpool.py:1052: InsecureRequestWarning: Unverified HTTPS request is being made to host 'www.cannedfood.it'. Adding certificate verification is strongly advised. See: https://urllib3.readthedocs.io/en/1.26.x/advanced-usage.html#ssl-warnings\n",
      "  InsecureRequestWarning,\n",
      "/home/ubaidullah/snap/jupyter/common/lib/python3.7/site-packages/urllib3/connectionpool.py:1052: InsecureRequestWarning: Unverified HTTPS request is being made to host 'www.cannedfood.it'. Adding certificate verification is strongly advised. See: https://urllib3.readthedocs.io/en/1.26.x/advanced-usage.html#ssl-warnings\n",
      "  InsecureRequestWarning,\n",
      "/home/ubaidullah/snap/jupyter/common/lib/python3.7/site-packages/urllib3/connectionpool.py:1052: InsecureRequestWarning: Unverified HTTPS request is being made to host 'www.cannedfood.it'. Adding certificate verification is strongly advised. See: https://urllib3.readthedocs.io/en/1.26.x/advanced-usage.html#ssl-warnings\n",
      "  InsecureRequestWarning,\n"
     ]
    },
    {
     "name": "stdout",
     "output_type": "stream",
     "text": [
      "[\"'  1Hendrik Cornelis Hakstraat 1\", '', '4283 KA Giessen, Holland ', '', ' HAK has grown from a traditional preserved vegetables producer in the Benelux into a brand business in plant-based food across northwest Europe. Their extensive range contains products that are tasty, healthy and easy to prepare, with natural ingredients.Source: the website. ', '', '  Apple compote,   vegetables in glas,   carrots&peas,   beans', '', '', ' Website', '', ' Facebook', '', ' Youtube', '', ' ', '', '', \" +31 183 446 500 '\"]\n"
     ]
    },
    {
     "name": "stderr",
     "output_type": "stream",
     "text": [
      "/home/ubaidullah/snap/jupyter/common/lib/python3.7/site-packages/urllib3/connectionpool.py:1052: InsecureRequestWarning: Unverified HTTPS request is being made to host 'www.cannedfood.it'. Adding certificate verification is strongly advised. See: https://urllib3.readthedocs.io/en/1.26.x/advanced-usage.html#ssl-warnings\n",
      "  InsecureRequestWarning,\n"
     ]
    },
    {
     "name": "stdout",
     "output_type": "stream",
     "text": [
      "[\"'  1Sluisjesdijk 96-102\", '3087 AJ Rotterdam', 'Nederland', '', ' Creating high quality food products is their passion. They do this by embracing innovation with respect for their century-old tradition.Source: the website. ', '', '  Peanut butter', '', '', ' Website', '', ' ', '', '', \" +31 (0)10-4293400 '\"]\n"
     ]
    },
    {
     "name": "stderr",
     "output_type": "stream",
     "text": [
      "/home/ubaidullah/snap/jupyter/common/lib/python3.7/site-packages/urllib3/connectionpool.py:1052: InsecureRequestWarning: Unverified HTTPS request is being made to host 'www.cannedfood.it'. Adding certificate verification is strongly advised. See: https://urllib3.readthedocs.io/en/1.26.x/advanced-usage.html#ssl-warnings\n",
      "  InsecureRequestWarning,\n",
      "/home/ubaidullah/snap/jupyter/common/lib/python3.7/site-packages/urllib3/connectionpool.py:1052: InsecureRequestWarning: Unverified HTTPS request is being made to host 'www.cannedfood.it'. Adding certificate verification is strongly advised. See: https://urllib3.readthedocs.io/en/1.26.x/advanced-usage.html#ssl-warnings\n",
      "  InsecureRequestWarning,\n"
     ]
    },
    {
     "name": "stdout",
     "output_type": "stream",
     "text": [
      "[\"'   3395 Demjén\", 'Albert major', 'Hungary', '', ' The Korona Mushroom Union was established via the collaboration of family-run businesses while maintaining traditions and commitment, and utilizing the latest technology. By now it has evolved into one of the most important members in the mushroom industry of Central Europe.Source: the website.', '', '  Canned mushrooms: sliced champignons, whole champignons', '', '', ' koronagomba.hu', ' ', '', '', \" +36 309856351'\"]\n"
     ]
    },
    {
     "name": "stderr",
     "output_type": "stream",
     "text": [
      "/home/ubaidullah/snap/jupyter/common/lib/python3.7/site-packages/urllib3/connectionpool.py:1052: InsecureRequestWarning: Unverified HTTPS request is being made to host 'www.cannedfood.it'. Adding certificate verification is strongly advised. See: https://urllib3.readthedocs.io/en/1.26.x/advanced-usage.html#ssl-warnings\n",
      "  InsecureRequestWarning,\n",
      "/home/ubaidullah/snap/jupyter/common/lib/python3.7/site-packages/urllib3/connectionpool.py:1052: InsecureRequestWarning: Unverified HTTPS request is being made to host 'www.cannedfood.it'. Adding certificate verification is strongly advised. See: https://urllib3.readthedocs.io/en/1.26.x/advanced-usage.html#ssl-warnings\n",
      "  InsecureRequestWarning,\n"
     ]
    },
    {
     "name": "stdout",
     "output_type": "stream",
     "text": [
      "[\"'  Lynghals 13\", '', '', '110 Reykjavik', 'Iceland ', '', ' Their mission is to create sugar-free but sweet options for families and individuals who want sweetness in their lives, without the sugar.Their story begins in 2015 in the small Nordic country of Iceland, where three friends started off by taking a hard look at healthy and unhealthy diets. Two of them had close relatives with type 2 diabetes and all three were quite concerned with the amount of sugar in popular food items. Every meal – breakfast, lunch and dinner to afternoon snacks – was full of sugar.Source: the website. ', '', '     Jams with stevia no added sugar', '', '', '', ' Website', '', ' Facebook', '', ' Youtube', '', ' ', '', '', \" +354 5333888'\"]\n"
     ]
    },
    {
     "name": "stderr",
     "output_type": "stream",
     "text": [
      "/home/ubaidullah/snap/jupyter/common/lib/python3.7/site-packages/urllib3/connectionpool.py:1052: InsecureRequestWarning: Unverified HTTPS request is being made to host 'www.cannedfood.it'. Adding certificate verification is strongly advised. See: https://urllib3.readthedocs.io/en/1.26.x/advanced-usage.html#ssl-warnings\n",
      "  InsecureRequestWarning,\n"
     ]
    },
    {
     "name": "stdout",
     "output_type": "stream",
     "text": [
      "[\"'  Aðalgata 5\", '340 Stykkishólmur', 'Iceland ', '', ' Marz Seafood, established in 2003, is an Icelandic, family-owned seafood company with three generations of roots in the Icelandic fishing industry. Our head office is in Stykkishólmur, in Western Iceland’s Snæfellsnes Peninsula, and we also have an office in Aalborg, Denmark. We are women only, and we all share a connection to Nordic fishing culture and our home in the North Atlantic.Source: the website. ', '', '       Lumpfish caviar (Cyclopterus lumpus), ', '    Capelin caviar (Mallotus villosus), ', '    Masago (Mallotus villosus), ', '    Chum salmon caviar (Oncorhynchus keta), ', '    Coho salmon caviar (Oncorhynchus kisutch), ', '', '', '', '', ' Website', '', ' ', '', '', \" +354 4381313'\"]\n"
     ]
    },
    {
     "name": "stderr",
     "output_type": "stream",
     "text": [
      "/home/ubaidullah/snap/jupyter/common/lib/python3.7/site-packages/urllib3/connectionpool.py:1052: InsecureRequestWarning: Unverified HTTPS request is being made to host 'www.cannedfood.it'. Adding certificate verification is strongly advised. See: https://urllib3.readthedocs.io/en/1.26.x/advanced-usage.html#ssl-warnings\n",
      "  InsecureRequestWarning,\n"
     ]
    },
    {
     "name": "stdout",
     "output_type": "stream",
     "text": [
      "[\"'  Grandagarður 16\", '101 Reykjavik', 'Iceland', '', ' From the beginning, Triton ehf, has specialized in gourmet seafood, such as Lumpfish or Capelin Caviar, Canned Cod Liver or Cod Liver Pâté, Cod Roes, various Seafood Pâtés and Spreads, and other North Atlantic fish specialties. Source: the website. ', '', '  Lumpfish caviar , cod liver, cod liver pate, cod roes, seafood pates, seafood spread.', '    ', '', '', '', '', ' triton.is', '', ' ', '', '', \" +354 562 25 62'\"]\n"
     ]
    },
    {
     "name": "stderr",
     "output_type": "stream",
     "text": [
      "/home/ubaidullah/snap/jupyter/common/lib/python3.7/site-packages/urllib3/connectionpool.py:1052: InsecureRequestWarning: Unverified HTTPS request is being made to host 'www.cannedfood.it'. Adding certificate verification is strongly advised. See: https://urllib3.readthedocs.io/en/1.26.x/advanced-usage.html#ssl-warnings\n",
      "  InsecureRequestWarning,\n",
      "/home/ubaidullah/snap/jupyter/common/lib/python3.7/site-packages/urllib3/connectionpool.py:1052: InsecureRequestWarning: Unverified HTTPS request is being made to host 'www.cannedfood.it'. Adding certificate verification is strongly advised. See: https://urllib3.readthedocs.io/en/1.26.x/advanced-usage.html#ssl-warnings\n",
      "  InsecureRequestWarning,\n"
     ]
    },
    {
     "name": "stdout",
     "output_type": "stream",
     "text": [
      "[\"' Sales Office: 3rd FloorSkyline BuildingKadru, Ranchi, JharkhandIndia\", '', ' The export manager presents the Company:', '\\\\t\\\\t\\\\tWe, as a leading high standard manufacturer of Canned Mackerel/ Tuna/Sardine/ in India, wish to be your Manufacturing partners on life long basis.', 'We follow International standard manufacturing processes, under food safety management certification (ISO 22000:2018 and other Food Grade Certificates).', ' ', 'We have been the Raw Fish suppliers to many of the Canned Tuna, Sardine, and Mackerel Manufacturers, and we confirm you that our Product quality is superior (to Thailand/China/Vietnam manufacturers) and our Prices are competitive. Freight from India is lesser too. ', 'We are looking for our Life partners/ distributors of our in-house brands (Munnujii, Marine Crown).', 'We provide Private Labelling as well.', 'You are most welcome to call me or add me on Whatsapp for answer to any quick query anytime.', '', 'Canned MACKEREL, range of products with several pack sizes of  155gm, 200gm, 425gm', '\\\\t\\\\t\\\\tCanned SARDINES, range of products with several pack sizes of  155gm, 200gm, 425gm', '\\\\t\\\\t\\\\tCanned TUNA, range of products with several pack sizes of  140gm, 185gm, 160gm, 170gm, 200gm; 1000gm, 1700gm, 1800gm ', '', '', ' munnujiifoods.com/', '', ' Facebook', '', ' ', '', '', \" (+91) 82944 44067 (Export Manager) +9162 0737 8862 '\"]\n"
     ]
    },
    {
     "name": "stderr",
     "output_type": "stream",
     "text": [
      "/home/ubaidullah/snap/jupyter/common/lib/python3.7/site-packages/urllib3/connectionpool.py:1052: InsecureRequestWarning: Unverified HTTPS request is being made to host 'www.cannedfood.it'. Adding certificate verification is strongly advised. See: https://urllib3.readthedocs.io/en/1.26.x/advanced-usage.html#ssl-warnings\n",
      "  InsecureRequestWarning,\n"
     ]
    },
    {
     "name": "stdout",
     "output_type": "stream",
     "text": [
      "['\"  A30, 2nd Floor, FIEE Complex', 'Okhla Phase 2', 'New Delhi -110020', 'India', '', ' The export manager presents the Company:', '\\\\t\\\\t\\\\tWe would like to take this opportunity to introduce our company as one of the leading manufacturers and suppliers of Peanut Butter in India. We produce high quality peanut butter and export around the world as per the customer needs and taste preference.', 'Panicle Worldwide produces & exports more than 30 types of Peanut Butter and spreads, keeping the clients’/consumers’ needs & requirements as per their specific region. We are currently private labelling for more than 35 brands across the Middle East, Africa & Asia, Europe, America etc. Our Peanut Butter Manufacturing capacity is 70 Metric tons per day.', 'Why to Choose Panicle Worldwide as your partner:', 'Premium quality Peanuts used for processing Peanut Spread/Butter.', \"Providing innovative and customer oriented flavor's & taste preferences.\", '100 % client satisfaction & top of the sector after sale services.', 'Work in a time frame and timely product delivery to our clients.', 'Availability of multiple variants like Crunchy Peanut Butter, Creamy/Smooth Peanut Butter, Natural Peanut Butter (100% Natural), Chocolate    Peanut Butter, Honey Peanut Butter, Sugar Free Peanut Butter etc', '', 'PEANUT PASTE, PEANUT BUTTER,  SMOOTH PEANUT BUTTER, CRUNCHY PEANUT BUTTER, NATURAL PEANUT BUTTER, CHOCOLATE PEANUT BUTTER, HONEY PEANUT BUTTER, LESS FAT PEANUT BUTTER, WHOLE NUT PEANUT BUTTER, SUGAR FREE PEANUT BUTTER', '', '', '', ' Website', '', ' Facebook', '', ' ', '', '', ' +91-9871705357 (Export Manager) +91 11 4656 6515 \"']\n"
     ]
    },
    {
     "name": "stderr",
     "output_type": "stream",
     "text": [
      "/home/ubaidullah/snap/jupyter/common/lib/python3.7/site-packages/urllib3/connectionpool.py:1052: InsecureRequestWarning: Unverified HTTPS request is being made to host 'www.cannedfood.it'. Adding certificate verification is strongly advised. See: https://urllib3.readthedocs.io/en/1.26.x/advanced-usage.html#ssl-warnings\n",
      "  InsecureRequestWarning,\n"
     ]
    },
    {
     "name": "stdout",
     "output_type": "stream",
     "text": [
      "[\"'   Haripara Road\", 'Village: Taveda', 'Ta.:Mahuva-364290, Dist.: Bhavnagar', 'GujaratIndia', '', ' R.M. Group of Industries is a professionally managed group, engaged in the process and exports of agricultural products like Peanut Butter, Peanut Paste, Raw Peanuts, Roasted Blanched Peanuts and all Peanut Products, Dehydrated Onion, Dehydrated Garlic and all Dehydrated Vegetables based at western part of INDIA at Mahuva (Gujarat). The region is known for cultivation of best quality Peanuts and Onions. The Group has three manufacturing units namely “R.M. Exports, R.M. Foods and R.M. Dehydrated Foods Industries” at Mahuva.', '\\\\t\\\\t\\\\tThey are engaged in “Private Labeling” for their valued customers across the world like USA, Canada, UK, Netherlands, Germany, Australia, New Zealand, Saudi Arabia, UAE, Egypt, Libya, Oman, Jordan, Yemen, Taiwan, South Korea, Philippines, Indonesia, South Africa, East Africa, Algeria, Russia, Ukraine, Pakistan, China, Nepal, Sri Lanka, Thailand, Malaysia, Japan, Singapore, Mexico, etc.  And market is growing day by day.Source: the website.', '', 'Peanut butter,  Chocolate peanut butter,  Peanut pastes', '', '', ' Website', '', ' Facebook', '', '', \" +91 954 178 6110 (Export Manager)'\"]\n"
     ]
    },
    {
     "name": "stderr",
     "output_type": "stream",
     "text": [
      "/home/ubaidullah/snap/jupyter/common/lib/python3.7/site-packages/urllib3/connectionpool.py:1052: InsecureRequestWarning: Unverified HTTPS request is being made to host 'www.cannedfood.it'. Adding certificate verification is strongly advised. See: https://urllib3.readthedocs.io/en/1.26.x/advanced-usage.html#ssl-warnings\n",
      "  InsecureRequestWarning,\n",
      "/home/ubaidullah/snap/jupyter/common/lib/python3.7/site-packages/urllib3/connectionpool.py:1052: InsecureRequestWarning: Unverified HTTPS request is being made to host 'www.cannedfood.it'. Adding certificate verification is strongly advised. See: https://urllib3.readthedocs.io/en/1.26.x/advanced-usage.html#ssl-warnings\n",
      "  InsecureRequestWarning,\n"
     ]
    },
    {
     "name": "stdout",
     "output_type": "stream",
     "text": [
      "[\"'   HEAD OFFICE & FACTORY-1\", 'Jl. Surabaya-Malang Km. 38 Gempol', 'Pasuruan 67155', 'Jawa Timur Indonesia ', '', ' PT ANEKA TUNA INDONESIA was established in October 1991, as a joint venture company between Itochu Corporation, Hagoromo Foods Corporation -- a leading tuna brand owner in Japan, and one other foreign firm. They began commercial operations in November 1992, specializing in production and sale of canned tunaSource: the website.', '', ' Sunbell tuna, tuna chunks', '', '', ' tunaindonesia.com/', '', ' Facebook', '', '', '', \" +62(343) 851361'\"]\n"
     ]
    },
    {
     "name": "stderr",
     "output_type": "stream",
     "text": [
      "/home/ubaidullah/snap/jupyter/common/lib/python3.7/site-packages/urllib3/connectionpool.py:1052: InsecureRequestWarning: Unverified HTTPS request is being made to host 'www.cannedfood.it'. Adding certificate verification is strongly advised. See: https://urllib3.readthedocs.io/en/1.26.x/advanced-usage.html#ssl-warnings\n",
      "  InsecureRequestWarning,\n"
     ]
    },
    {
     "name": "stdout",
     "output_type": "stream",
     "text": [
      "[\"'   HEAD OFFICE\", 'Sequis Tower, Level 39 - 40', 'Jl Jendral Sudirman Kav. 71 SCBD', 'Lot 11B Jakarta Selatan 12190', 'Indonesia ', 'PLANTATION', 'Terbanggi Besar Km. 77', 'Lampung Tengah Indonesia', '', ' Great Giant Pineapple (GGP) was established in 1979 and is located in Lampung, South Sumatra, Indonesia. GGP has a total of approx. 31.000 hectares of land and plantingpineapple and others rotation crop. It has 5 major plants for cannery, can making and drum, labeling, juice concentrate, and can process 2,000 tons of fresh pineapples each day. The annual pineapple harvest is more than 500,000 tons of pineapples annually, making it the third largest producer of canned pineapple products and pineapple juice concentrate in the world.Source: the website.', '', ' Canned pineapple', '', '', ' greatgiantfoods.com', '', ' Facebook', '', ' Youtube', '', '', \" +62 21 5099 1888 - +62 725 7573001'\"]\n"
     ]
    },
    {
     "name": "stderr",
     "output_type": "stream",
     "text": [
      "/home/ubaidullah/snap/jupyter/common/lib/python3.7/site-packages/urllib3/connectionpool.py:1052: InsecureRequestWarning: Unverified HTTPS request is being made to host 'www.cannedfood.it'. Adding certificate verification is strongly advised. See: https://urllib3.readthedocs.io/en/1.26.x/advanced-usage.html#ssl-warnings\n",
      "  InsecureRequestWarning,\n"
     ]
    },
    {
     "name": "stdout",
     "output_type": "stream",
     "text": [
      "[\"'   HEAD OFFICE\", 'Jalan Raya Kletek 196 - 197 Taman Sidoarjo 61257 Indonesia ', '', ' n the last few years, PT. Nison Indonesia has grown to become one of the sought after sardines, tuna and mackerel supplier that delivers quality products in the food canning industry.Source: the website.', '', ' Canned sardines, mackerel, tuna', '', '', ' Website', '', ' Facebook', '', '', '', \" +62.31.787 0736'\"]\n"
     ]
    },
    {
     "name": "stderr",
     "output_type": "stream",
     "text": [
      "/home/ubaidullah/snap/jupyter/common/lib/python3.7/site-packages/urllib3/connectionpool.py:1052: InsecureRequestWarning: Unverified HTTPS request is being made to host 'www.cannedfood.it'. Adding certificate verification is strongly advised. See: https://urllib3.readthedocs.io/en/1.26.x/advanced-usage.html#ssl-warnings\n",
      "  InsecureRequestWarning,\n",
      "/home/ubaidullah/snap/jupyter/common/lib/python3.7/site-packages/urllib3/connectionpool.py:1052: InsecureRequestWarning: Unverified HTTPS request is being made to host 'www.cannedfood.it'. Adding certificate verification is strongly advised. See: https://urllib3.readthedocs.io/en/1.26.x/advanced-usage.html#ssl-warnings\n",
      "  InsecureRequestWarning,\n",
      "/home/ubaidullah/snap/jupyter/common/lib/python3.7/site-packages/urllib3/connectionpool.py:1052: InsecureRequestWarning: Unverified HTTPS request is being made to host 'www.cannedfood.it'. Adding certificate verification is strongly advised. See: https://urllib3.readthedocs.io/en/1.26.x/advanced-usage.html#ssl-warnings\n",
      "  InsecureRequestWarning,\n",
      "/home/ubaidullah/snap/jupyter/common/lib/python3.7/site-packages/urllib3/connectionpool.py:1052: InsecureRequestWarning: Unverified HTTPS request is being made to host 'www.cannedfood.it'. Adding certificate verification is strongly advised. See: https://urllib3.readthedocs.io/en/1.26.x/advanced-usage.html#ssl-warnings\n",
      "  InsecureRequestWarning,\n",
      "/home/ubaidullah/snap/jupyter/common/lib/python3.7/site-packages/urllib3/connectionpool.py:1052: InsecureRequestWarning: Unverified HTTPS request is being made to host 'www.cannedfood.it'. Adding certificate verification is strongly advised. See: https://urllib3.readthedocs.io/en/1.26.x/advanced-usage.html#ssl-warnings\n",
      "  InsecureRequestWarning,\n",
      "/home/ubaidullah/snap/jupyter/common/lib/python3.7/site-packages/urllib3/connectionpool.py:1052: InsecureRequestWarning: Unverified HTTPS request is being made to host 'www.cannedfood.it'. Adding certificate verification is strongly advised. See: https://urllib3.readthedocs.io/en/1.26.x/advanced-usage.html#ssl-warnings\n",
      "  InsecureRequestWarning,\n"
     ]
    },
    {
     "name": "stdout",
     "output_type": "stream",
     "text": [
      "[\"'  Cortas Building\", 'Kour El Hawa', 'Hosrayel Lebanon', 'P.O. Box 11-0209', 'BeirutLebanon', '', ' Uniting people around the world through our authentic Middle Eastern cuisine, since 1930.', '', \" Ready to eat products: Eggplant with chickpeas in a rich tomato sauce, Bulgur wheat with tomatoes and onions, Green beans in olive oil with garlic and tomatoes, Lentil rice with sauteed onions and cuminJams Canned vegetables: Green peas, Green peas & carrots, Grilled eggplants, Stuffed grape leaves, Mulokhia Leaves, Fava Beans, Cooked Chickpeas, Fava Beans & Chickpeas, Fava Beans Arabian Recipe, Fava Beans Chili Recipe, Fava Beans Cumin Recipe, Fava Beans Egyptian Recipe, Fava Beans Lebanese Recipe, Fava Beans Palestinian Recipe, Garbanzo Boiled Chickpeas. Hummus Tahina Chick Pea Dip, Peeled Fava Beans Original, White Beans, White Beans in Tomato Sauce, Black Olives, Green Olives, Extra-Virgin Olive OilPickles:Mixed Pickles, Pickled Cucumbers, Pickled Eggplant in oil, Pickled Turnips Cut'\"]\n"
     ]
    },
    {
     "name": "stderr",
     "output_type": "stream",
     "text": [
      "/home/ubaidullah/snap/jupyter/common/lib/python3.7/site-packages/urllib3/connectionpool.py:1052: InsecureRequestWarning: Unverified HTTPS request is being made to host 'www.cannedfood.it'. Adding certificate verification is strongly advised. See: https://urllib3.readthedocs.io/en/1.26.x/advanced-usage.html#ssl-warnings\n",
      "  InsecureRequestWarning,\n",
      "/home/ubaidullah/snap/jupyter/common/lib/python3.7/site-packages/urllib3/connectionpool.py:1052: InsecureRequestWarning: Unverified HTTPS request is being made to host 'www.cannedfood.it'. Adding certificate verification is strongly advised. See: https://urllib3.readthedocs.io/en/1.26.x/advanced-usage.html#ssl-warnings\n",
      "  InsecureRequestWarning,\n"
     ]
    },
    {
     "name": "stdout",
     "output_type": "stream",
     "text": [
      "[\"'   s. Slavej bb\", ' 7500 PrilepR. Macedonia', '', ' Located in a rural area, the “Krivogashtani Promet” Company was founded in 1990 and it operates as the nature dictates. The homemade traditional delicacies made by using original recipes and respecting the safety and quality standards, have been present on the markets in Australia, United States and Europe for many years. Finally, after more than 20 years the Company brought together all its products under a single brand thus launching: the Gurmano.Source: the website.', '', ' Lutenica, Malidzano sauce, Roasted Red peppers, Ajvar, Battered peppers, Zakuska', '', '', ' Website', '', ' Facebook', '', '', '', \" +389 48 403 450'\"]\n"
     ]
    },
    {
     "name": "stderr",
     "output_type": "stream",
     "text": [
      "/home/ubaidullah/snap/jupyter/common/lib/python3.7/site-packages/urllib3/connectionpool.py:1052: InsecureRequestWarning: Unverified HTTPS request is being made to host 'www.cannedfood.it'. Adding certificate verification is strongly advised. See: https://urllib3.readthedocs.io/en/1.26.x/advanced-usage.html#ssl-warnings\n",
      "  InsecureRequestWarning,\n",
      "/home/ubaidullah/snap/jupyter/common/lib/python3.7/site-packages/urllib3/connectionpool.py:1052: InsecureRequestWarning: Unverified HTTPS request is being made to host 'www.cannedfood.it'. Adding certificate verification is strongly advised. See: https://urllib3.readthedocs.io/en/1.26.x/advanced-usage.html#ssl-warnings\n",
      "  InsecureRequestWarning,\n"
     ]
    },
    {
     "name": "stdout",
     "output_type": "stream",
     "text": [
      "[\"'  Male\", '\\\\t\\\\t\\\\tMaldives', '', ' They are in business of purchasing, producing and export of tuna products', '', ' Tuna Chunks in', 'SUNFLOWER OIL, Tuna Chunks in BRINE (185G), tuna and CRACKED PEPPER IN OIL, Tuna and THYME IN OIL, Tuna and GARLIC IN OIL, Tuna and TOMATO IN OIL, Tuna Pouch TUNA CHUNKS IN SUNFLOWER OI, Tuna Pouch TUNA CHUNKS IN BRINE', '', '', ' horizonfisheries.com', '', ' Youtube', ' Facebook', ' ', '', \"  +960 332-7788 '\"]\n"
     ]
    },
    {
     "name": "stderr",
     "output_type": "stream",
     "text": [
      "/home/ubaidullah/snap/jupyter/common/lib/python3.7/site-packages/urllib3/connectionpool.py:1052: InsecureRequestWarning: Unverified HTTPS request is being made to host 'www.cannedfood.it'. Adding certificate verification is strongly advised. See: https://urllib3.readthedocs.io/en/1.26.x/advanced-usage.html#ssl-warnings\n",
      "  InsecureRequestWarning,\n",
      "/home/ubaidullah/snap/jupyter/common/lib/python3.7/site-packages/urllib3/connectionpool.py:1052: InsecureRequestWarning: Unverified HTTPS request is being made to host 'www.cannedfood.it'. Adding certificate verification is strongly advised. See: https://urllib3.readthedocs.io/en/1.26.x/advanced-usage.html#ssl-warnings\n",
      "  InsecureRequestWarning,\n",
      "/home/ubaidullah/snap/jupyter/common/lib/python3.7/site-packages/urllib3/connectionpool.py:1052: InsecureRequestWarning: Unverified HTTPS request is being made to host 'www.cannedfood.it'. Adding certificate verification is strongly advised. See: https://urllib3.readthedocs.io/en/1.26.x/advanced-usage.html#ssl-warnings\n",
      "  InsecureRequestWarning,\n"
     ]
    },
    {
     "name": "stdout",
     "output_type": "stream",
     "text": [
      "['\"   ----', '', \" Comvita is New Zealand's leading producer of Manuka Honey.Source: the website.\", '', '  Manuka Honey', '', '', ' comvita.com', '', ' Facebook USA', '', ' Youtube USA', '', ' ', '', '', ' (855) 449 2201 \"']\n"
     ]
    },
    {
     "name": "stderr",
     "output_type": "stream",
     "text": [
      "/home/ubaidullah/snap/jupyter/common/lib/python3.7/site-packages/urllib3/connectionpool.py:1052: InsecureRequestWarning: Unverified HTTPS request is being made to host 'www.cannedfood.it'. Adding certificate verification is strongly advised. See: https://urllib3.readthedocs.io/en/1.26.x/advanced-usage.html#ssl-warnings\n",
      "  InsecureRequestWarning,\n"
     ]
    },
    {
     "name": "stdout",
     "output_type": "stream",
     "text": [
      "[\"'   123 Carlton Gore Road\", '\\\\t\\\\t\\\\tNewmarketAuckland 1023', '\\\\t\\\\t\\\\tNew Zealand ', '', ' Manuka Health New Zealand Limited  is a leading New Zealand natural health company and we manufacture and sell New Zealand bee products in a range of countries.Source: the website.', '', '  Manuka Honey', '', '', ' manukahealth.co.nz', '', '  Facebook ITA', '', \" +64 9 570 1820 '\"]\n"
     ]
    },
    {
     "name": "stderr",
     "output_type": "stream",
     "text": [
      "/home/ubaidullah/snap/jupyter/common/lib/python3.7/site-packages/urllib3/connectionpool.py:1052: InsecureRequestWarning: Unverified HTTPS request is being made to host 'www.cannedfood.it'. Adding certificate verification is strongly advised. See: https://urllib3.readthedocs.io/en/1.26.x/advanced-usage.html#ssl-warnings\n",
      "  InsecureRequestWarning,\n"
     ]
    },
    {
     "name": "stdout",
     "output_type": "stream",
     "text": [
      "[\"'  PO Box 62545 Greenlane Auckland\", '    1546 New ZealandNew Zealand', '', ' They have been fishing for more than 50 years. Their passion is to provide great quality seafood from New Zealand to the world. Discover their range, read our story and contact them to find how we can deliver seafood from their ocean to your business.  Source: the website.', '', '  Canned tuna, Canned salmon, Fish fillets', '', '', ' sealord.com', '', '  Facebook', '', '  Youtube', '', ' ', '', '', \"'\"]\n"
     ]
    },
    {
     "name": "stderr",
     "output_type": "stream",
     "text": [
      "/home/ubaidullah/snap/jupyter/common/lib/python3.7/site-packages/urllib3/connectionpool.py:1052: InsecureRequestWarning: Unverified HTTPS request is being made to host 'www.cannedfood.it'. Adding certificate verification is strongly advised. See: https://urllib3.readthedocs.io/en/1.26.x/advanced-usage.html#ssl-warnings\n",
      "  InsecureRequestWarning,\n",
      "/home/ubaidullah/snap/jupyter/common/lib/python3.7/site-packages/urllib3/connectionpool.py:1052: InsecureRequestWarning: Unverified HTTPS request is being made to host 'www.cannedfood.it'. Adding certificate verification is strongly advised. See: https://urllib3.readthedocs.io/en/1.26.x/advanced-usage.html#ssl-warnings\n",
      "  InsecureRequestWarning,\n",
      "/home/ubaidullah/snap/jupyter/common/lib/python3.7/site-packages/urllib3/connectionpool.py:1052: InsecureRequestWarning: Unverified HTTPS request is being made to host 'www.cannedfood.it'. Adding certificate verification is strongly advised. See: https://urllib3.readthedocs.io/en/1.26.x/advanced-usage.html#ssl-warnings\n",
      "  InsecureRequestWarning,\n"
     ]
    },
    {
     "name": "stdout",
     "output_type": "stream",
     "text": [
      "[\"'  Oficina principal\", ' Av. Ricardo Palma 894 Miraflores', ' Lima 18 - Perú', '', ' Since many years focused on the harvest, process and export of high-quality products, according to international market requirements.Source: the website. ', '', '   Canned artichokes, Piquillo pepper, ', 'Canned passion fruit, Canned red pepper, Green asparagus, Canned mango', '', '', ' Website', '', ' Facebook', '', ' Youtube', '', ' ', '', '', \" (511) 5144500 '\"]\n"
     ]
    },
    {
     "name": "stderr",
     "output_type": "stream",
     "text": [
      "/home/ubaidullah/snap/jupyter/common/lib/python3.7/site-packages/urllib3/connectionpool.py:1052: InsecureRequestWarning: Unverified HTTPS request is being made to host 'www.cannedfood.it'. Adding certificate verification is strongly advised. See: https://urllib3.readthedocs.io/en/1.26.x/advanced-usage.html#ssl-warnings\n",
      "  InsecureRequestWarning,\n"
     ]
    },
    {
     "name": "stdout",
     "output_type": "stream",
     "text": [
      "[\"'  Av. Manuel Olguín 501Oficina 701 Santiago de SurcoLima, Perú.\", '', ' Campomar is a brand created by and for Peruvians dedicated to the fishing, production and marketing of canned fish from their sea with great nutritional value, which they offer in a wide variety of delicious presentations.', '', 'They make preserves based on species from our sea, always under the highest quality standards and fulfilling our commitment to responsible fishing, respect for the environment and reaching all homes in Peru by providing nutrition.Source: the website. ', '', '   Canned tuna, tuna fillets, mackerel, jurel', '', '', ' Website', '', ' Facebook', '', ' Youtube', '', ' ', '', '', \" (511) 5144500 '\"]\n"
     ]
    },
    {
     "name": "stderr",
     "output_type": "stream",
     "text": [
      "/home/ubaidullah/snap/jupyter/common/lib/python3.7/site-packages/urllib3/connectionpool.py:1052: InsecureRequestWarning: Unverified HTTPS request is being made to host 'www.cannedfood.it'. Adding certificate verification is strongly advised. See: https://urllib3.readthedocs.io/en/1.26.x/advanced-usage.html#ssl-warnings\n",
      "  InsecureRequestWarning,\n"
     ]
    },
    {
     "name": "stdout",
     "output_type": "stream",
     "text": [
      "[\"'  Carretera Industrial sn\", 'sector Barrio Nuevo Moche', ' Trujilo - Perú', '', ' Since many years focused on the harvest, process and export of high-quality products, according to international market requirements.Source: the website. ', '', '   Green asparagus, white asparagus, canned artichokes, red Piquillo pepper, california pepper, cherry hot pepper, grilled vegetables, jams, bruschetta sauce, tapenade, dips with quinoa', '', '', ' Website', '', ' Facebook', '', ' Youtube', '', ' ', '', '', \" (51)(44) 252574 '\"]\n"
     ]
    },
    {
     "name": "stderr",
     "output_type": "stream",
     "text": [
      "/home/ubaidullah/snap/jupyter/common/lib/python3.7/site-packages/urllib3/connectionpool.py:1052: InsecureRequestWarning: Unverified HTTPS request is being made to host 'www.cannedfood.it'. Adding certificate verification is strongly advised. See: https://urllib3.readthedocs.io/en/1.26.x/advanced-usage.html#ssl-warnings\n",
      "  InsecureRequestWarning,\n"
     ]
    },
    {
     "name": "stdout",
     "output_type": "stream",
     "text": [
      "[\"'  Carretera Paita SullanaMz. D, Lote 1Zona Industrial II Paita, Piura\", '\\\\t\\\\t\\\\tPeru', '', ' SEAFROST is located in the north of Peru, in the industrial area of Paita, less than an hour from Piura city, on the Pacific Ocean’s coast.', 'Founded in 1995 by Don Marcello Bologna, who arrived from Italy to Peru, bringing more than 50 years of expertise and knowledge of the seafood frozen products industry. With his partners, Andrea, Antonio and Bruno they managed to set the objective of valuing the vast richness that the Peruvian sea possesses in its waters blessed by God.Source: the website. ', '', '   Canned tuna Bonmar, glass canned tuna fillets, tuna ventresca', '', '', ' Website', '', ' Facebook', '', ' Youtube', '', ' ', '', '', \" (+51 73) 211110 / 211100 '\"]\n"
     ]
    },
    {
     "name": "stderr",
     "output_type": "stream",
     "text": [
      "/home/ubaidullah/snap/jupyter/common/lib/python3.7/site-packages/urllib3/connectionpool.py:1052: InsecureRequestWarning: Unverified HTTPS request is being made to host 'www.cannedfood.it'. Adding certificate verification is strongly advised. See: https://urllib3.readthedocs.io/en/1.26.x/advanced-usage.html#ssl-warnings\n",
      "  InsecureRequestWarning,\n",
      "/home/ubaidullah/snap/jupyter/common/lib/python3.7/site-packages/urllib3/connectionpool.py:1052: InsecureRequestWarning: Unverified HTTPS request is being made to host 'www.cannedfood.it'. Adding certificate verification is strongly advised. See: https://urllib3.readthedocs.io/en/1.26.x/advanced-usage.html#ssl-warnings\n",
      "  InsecureRequestWarning,\n",
      "/home/ubaidullah/snap/jupyter/common/lib/python3.7/site-packages/urllib3/connectionpool.py:1052: InsecureRequestWarning: Unverified HTTPS request is being made to host 'www.cannedfood.it'. Adding certificate verification is strongly advised. See: https://urllib3.readthedocs.io/en/1.26.x/advanced-usage.html#ssl-warnings\n",
      "  InsecureRequestWarning,\n",
      "/home/ubaidullah/snap/jupyter/common/lib/python3.7/site-packages/urllib3/connectionpool.py:1052: InsecureRequestWarning: Unverified HTTPS request is being made to host 'www.cannedfood.it'. Adding certificate verification is strongly advised. See: https://urllib3.readthedocs.io/en/1.26.x/advanced-usage.html#ssl-warnings\n",
      "  InsecureRequestWarning,\n",
      "/home/ubaidullah/snap/jupyter/common/lib/python3.7/site-packages/urllib3/connectionpool.py:1052: InsecureRequestWarning: Unverified HTTPS request is being made to host 'www.cannedfood.it'. Adding certificate verification is strongly advised. See: https://urllib3.readthedocs.io/en/1.26.x/advanced-usage.html#ssl-warnings\n",
      "  InsecureRequestWarning,\n",
      "/home/ubaidullah/snap/jupyter/common/lib/python3.7/site-packages/urllib3/connectionpool.py:1052: InsecureRequestWarning: Unverified HTTPS request is being made to host 'www.cannedfood.it'. Adding certificate verification is strongly advised. See: https://urllib3.readthedocs.io/en/1.26.x/advanced-usage.html#ssl-warnings\n",
      "  InsecureRequestWarning,\n",
      "/home/ubaidullah/snap/jupyter/common/lib/python3.7/site-packages/urllib3/connectionpool.py:1052: InsecureRequestWarning: Unverified HTTPS request is being made to host 'www.cannedfood.it'. Adding certificate verification is strongly advised. See: https://urllib3.readthedocs.io/en/1.26.x/advanced-usage.html#ssl-warnings\n",
      "  InsecureRequestWarning,\n",
      "/home/ubaidullah/snap/jupyter/common/lib/python3.7/site-packages/urllib3/connectionpool.py:1052: InsecureRequestWarning: Unverified HTTPS request is being made to host 'www.cannedfood.it'. Adding certificate verification is strongly advised. See: https://urllib3.readthedocs.io/en/1.26.x/advanced-usage.html#ssl-warnings\n",
      "  InsecureRequestWarning,\n",
      "/home/ubaidullah/snap/jupyter/common/lib/python3.7/site-packages/urllib3/connectionpool.py:1052: InsecureRequestWarning: Unverified HTTPS request is being made to host 'www.cannedfood.it'. Adding certificate verification is strongly advised. See: https://urllib3.readthedocs.io/en/1.26.x/advanced-usage.html#ssl-warnings\n",
      "  InsecureRequestWarning,\n"
     ]
    },
    {
     "name": "stdout",
     "output_type": "stream",
     "text": [
      "[\"'  Blåtand AB\", 'Stödevägen 80', '864 41 STÖDE', 'Sweden', '', ' Tastefully presented in glass jars with fabric covers, Blåtand’s Swedish gourmet jams are for the discerning customer. Their lingonberry, bilberry and cloudberry jams with whole berries and a high berry content of 65-70% are carefully prepared to traditional Swedish recipes and are ideal for shops looking for quality products and customers looking for the very best. Source: the website', '', ' Gourmet jams: loudberry, lingonberry, bilberry and wild raspberry jam in glass jars', '', '', ' Website', '', ' ', '', \"  +46 691 360 90'\"]\n"
     ]
    },
    {
     "name": "stderr",
     "output_type": "stream",
     "text": [
      "/home/ubaidullah/snap/jupyter/common/lib/python3.7/site-packages/urllib3/connectionpool.py:1052: InsecureRequestWarning: Unverified HTTPS request is being made to host 'www.cannedfood.it'. Adding certificate verification is strongly advised. See: https://urllib3.readthedocs.io/en/1.26.x/advanced-usage.html#ssl-warnings\n",
      "  InsecureRequestWarning,\n",
      "/home/ubaidullah/snap/jupyter/common/lib/python3.7/site-packages/urllib3/connectionpool.py:1052: InsecureRequestWarning: Unverified HTTPS request is being made to host 'www.cannedfood.it'. Adding certificate verification is strongly advised. See: https://urllib3.readthedocs.io/en/1.26.x/advanced-usage.html#ssl-warnings\n",
      "  InsecureRequestWarning,\n",
      "/home/ubaidullah/snap/jupyter/common/lib/python3.7/site-packages/urllib3/connectionpool.py:1052: InsecureRequestWarning: Unverified HTTPS request is being made to host 'www.cannedfood.it'. Adding certificate verification is strongly advised. See: https://urllib3.readthedocs.io/en/1.26.x/advanced-usage.html#ssl-warnings\n",
      "  InsecureRequestWarning,\n"
     ]
    },
    {
     "name": "stdout",
     "output_type": "stream",
     "text": [
      "[\"'FIRST CANNED FOOD THAILAND\", '    154 Moo 8 Tumbon Donkruay', '    Dumnoen Saduak ', '    Ratchaburi 70130', '    Thailand', \"   '\"]\n"
     ]
    },
    {
     "name": "stderr",
     "output_type": "stream",
     "text": [
      "/home/ubaidullah/snap/jupyter/common/lib/python3.7/site-packages/urllib3/connectionpool.py:1052: InsecureRequestWarning: Unverified HTTPS request is being made to host 'www.cannedfood.it'. Adding certificate verification is strongly advised. See: https://urllib3.readthedocs.io/en/1.26.x/advanced-usage.html#ssl-warnings\n",
      "  InsecureRequestWarning,\n"
     ]
    },
    {
     "name": "stdout",
     "output_type": "stream",
     "text": [
      "[\"'Kuiburi Fruit Caning Co. Ltd.\", '    288, 290 Sirindhorn Road', '    Bangplad', '    Bangkok 10700 ', 'Thailand', \"'\"]\n"
     ]
    },
    {
     "name": "stderr",
     "output_type": "stream",
     "text": [
      "/home/ubaidullah/snap/jupyter/common/lib/python3.7/site-packages/urllib3/connectionpool.py:1052: InsecureRequestWarning: Unverified HTTPS request is being made to host 'www.cannedfood.it'. Adding certificate verification is strongly advised. See: https://urllib3.readthedocs.io/en/1.26.x/advanced-usage.html#ssl-warnings\n",
      "  InsecureRequestWarning,\n"
     ]
    },
    {
     "name": "stdout",
     "output_type": "stream",
     "text": [
      "[\"'LAMPANG FOOD PRODUCTS\", '   Iamsakulrat Building, 22/1', '   Soi Sukhumvit 35', '   Sukhumvit Road', '   Klongton-Nua', '   Wattana', \"   Bangkok 10110 Thailand   '\"]\n"
     ]
    },
    {
     "name": "stderr",
     "output_type": "stream",
     "text": [
      "/home/ubaidullah/snap/jupyter/common/lib/python3.7/site-packages/urllib3/connectionpool.py:1052: InsecureRequestWarning: Unverified HTTPS request is being made to host 'www.cannedfood.it'. Adding certificate verification is strongly advised. See: https://urllib3.readthedocs.io/en/1.26.x/advanced-usage.html#ssl-warnings\n",
      "  InsecureRequestWarning,\n"
     ]
    },
    {
     "name": "stdout",
     "output_type": "stream",
     "text": [
      "[\"'\", 'Thailand', \"'\"]\n"
     ]
    },
    {
     "name": "stderr",
     "output_type": "stream",
     "text": [
      "/home/ubaidullah/snap/jupyter/common/lib/python3.7/site-packages/urllib3/connectionpool.py:1052: InsecureRequestWarning: Unverified HTTPS request is being made to host 'www.cannedfood.it'. Adding certificate verification is strongly advised. See: https://urllib3.readthedocs.io/en/1.26.x/advanced-usage.html#ssl-warnings\n",
      "  InsecureRequestWarning,\n"
     ]
    },
    {
     "name": "stdout",
     "output_type": "stream",
     "text": [
      "[\"'  9T.Tumnob. A.SinghakornSongkhla 90280Thailand \", '', ' Manufactring factory for tuna, sardines, mackerel for exports.Established in march 2010.Source: the website. ', '', '  Tuna, mackerel, sardines', '', '', ' Website', '', '', ' ', '', '', \" +6621070277 '\"]\n"
     ]
    },
    {
     "name": "stderr",
     "output_type": "stream",
     "text": [
      "/home/ubaidullah/snap/jupyter/common/lib/python3.7/site-packages/urllib3/connectionpool.py:1052: InsecureRequestWarning: Unverified HTTPS request is being made to host 'www.cannedfood.it'. Adding certificate verification is strongly advised. See: https://urllib3.readthedocs.io/en/1.26.x/advanced-usage.html#ssl-warnings\n",
      "  InsecureRequestWarning,\n"
     ]
    },
    {
     "name": "stdout",
     "output_type": "stream",
     "text": [
      "[\"'  99/133 Moo.1 Bankoh Muang \", 'Samutsakhon', 'Thailand ', '', ' They are committed and determined to be the company contract manufacturing (OEM) canned foods.', '', 'Its high-quality And controlled production process. Executive management team with expertise products. Through certification industry.  Source: the website. ', '', '  Canned tuna, canned mackerel, canned sweetcorn, canned pineapple, canned sardine, canned frruit cocktail', '', '', ' Website', '', ' Facebook', '', ' ', '', '', \" +66 87 909 5678 '\"]\n"
     ]
    },
    {
     "name": "stderr",
     "output_type": "stream",
     "text": [
      "/home/ubaidullah/snap/jupyter/common/lib/python3.7/site-packages/urllib3/connectionpool.py:1052: InsecureRequestWarning: Unverified HTTPS request is being made to host 'www.cannedfood.it'. Adding certificate verification is strongly advised. See: https://urllib3.readthedocs.io/en/1.26.x/advanced-usage.html#ssl-warnings\n",
      "  InsecureRequestWarning,\n"
     ]
    },
    {
     "name": "stdout",
     "output_type": "stream",
     "text": [
      "[\"'THEPPADUNGPORN COCONUT Co.,Ltd.\", '', '5/895 Borommaratchachonnani Rd.Arunamarin Bangkoknoi Bangkok 10700 Thailand', '', '', '', '', '', '', '', '', \"   '\"]\n"
     ]
    },
    {
     "name": "stderr",
     "output_type": "stream",
     "text": [
      "/home/ubaidullah/snap/jupyter/common/lib/python3.7/site-packages/urllib3/connectionpool.py:1052: InsecureRequestWarning: Unverified HTTPS request is being made to host 'www.cannedfood.it'. Adding certificate verification is strongly advised. See: https://urllib3.readthedocs.io/en/1.26.x/advanced-usage.html#ssl-warnings\n",
      "  InsecureRequestWarning,\n"
     ]
    },
    {
     "name": "stdout",
     "output_type": "stream",
     "text": [
      "[\"'UNIVERSAL FOOD PUBLIC COMPANY LTD\", '60 Soi Bangna-Trad 25', ' Khwaeng Bangna Nuea', 'Khet Bangna', 'BangkokThailand 10260', '', '', \"'\"]\n"
     ]
    },
    {
     "name": "stderr",
     "output_type": "stream",
     "text": [
      "/home/ubaidullah/snap/jupyter/common/lib/python3.7/site-packages/urllib3/connectionpool.py:1052: InsecureRequestWarning: Unverified HTTPS request is being made to host 'www.cannedfood.it'. Adding certificate verification is strongly advised. See: https://urllib3.readthedocs.io/en/1.26.x/advanced-usage.html#ssl-warnings\n",
      "  InsecureRequestWarning,\n",
      "/home/ubaidullah/snap/jupyter/common/lib/python3.7/site-packages/urllib3/connectionpool.py:1052: InsecureRequestWarning: Unverified HTTPS request is being made to host 'www.cannedfood.it'. Adding certificate verification is strongly advised. See: https://urllib3.readthedocs.io/en/1.26.x/advanced-usage.html#ssl-warnings\n",
      "  InsecureRequestWarning,\n",
      "/home/ubaidullah/snap/jupyter/common/lib/python3.7/site-packages/urllib3/connectionpool.py:1052: InsecureRequestWarning: Unverified HTTPS request is being made to host 'www.cannedfood.it'. Adding certificate verification is strongly advised. See: https://urllib3.readthedocs.io/en/1.26.x/advanced-usage.html#ssl-warnings\n",
      "  InsecureRequestWarning,\n",
      "/home/ubaidullah/snap/jupyter/common/lib/python3.7/site-packages/urllib3/connectionpool.py:1052: InsecureRequestWarning: Unverified HTTPS request is being made to host 'www.cannedfood.it'. Adding certificate verification is strongly advised. See: https://urllib3.readthedocs.io/en/1.26.x/advanced-usage.html#ssl-warnings\n",
      "  InsecureRequestWarning,\n"
     ]
    },
    {
     "name": "stdout",
     "output_type": "stream",
     "text": [
      "[\"'  Dubai investment park\", 'P.O.Box 26223 DubaiUAE', '', ' Since 1996, Tayseer Arar Food Industry was a leader in the tomato paste  industry in the region with a filling capacity of 35.000MT annually. Top Quality processing and filling lines to ensure quality and product safety. Raw material are produced from top approved and certified supplier in the world.Source: the website', '', ' Tomato paste, ketchup and mayonnaise, olive oil', '', '', ' Website', '', ' ', '', \"  +971-4-226-5065'\"]\n"
     ]
    },
    {
     "name": "stderr",
     "output_type": "stream",
     "text": [
      "/home/ubaidullah/snap/jupyter/common/lib/python3.7/site-packages/urllib3/connectionpool.py:1052: InsecureRequestWarning: Unverified HTTPS request is being made to host 'www.cannedfood.it'. Adding certificate verification is strongly advised. See: https://urllib3.readthedocs.io/en/1.26.x/advanced-usage.html#ssl-warnings\n",
      "  InsecureRequestWarning,\n",
      "/home/ubaidullah/snap/jupyter/common/lib/python3.7/site-packages/urllib3/connectionpool.py:1052: InsecureRequestWarning: Unverified HTTPS request is being made to host 'www.cannedfood.it'. Adding certificate verification is strongly advised. See: https://urllib3.readthedocs.io/en/1.26.x/advanced-usage.html#ssl-warnings\n",
      "  InsecureRequestWarning,\n",
      "/home/ubaidullah/snap/jupyter/common/lib/python3.7/site-packages/urllib3/connectionpool.py:1052: InsecureRequestWarning: Unverified HTTPS request is being made to host 'www.cannedfood.it'. Adding certificate verification is strongly advised. See: https://urllib3.readthedocs.io/en/1.26.x/advanced-usage.html#ssl-warnings\n",
      "  InsecureRequestWarning,\n",
      "/home/ubaidullah/snap/jupyter/common/lib/python3.7/site-packages/urllib3/connectionpool.py:1052: InsecureRequestWarning: Unverified HTTPS request is being made to host 'www.cannedfood.it'. Adding certificate verification is strongly advised. See: https://urllib3.readthedocs.io/en/1.26.x/advanced-usage.html#ssl-warnings\n",
      "  InsecureRequestWarning,\n"
     ]
    }
   ],
   "source": [
    "import requests\n",
    "from bs4 import BeautifulSoup\n",
    "url = \"https://www.cannedfood.it/cannedfoodmanufacturers.html\"\n",
    "b=[]\n",
    "def ds(url_name):\n",
    "    headers = {\"User-Agents\":\"Mozilla/5.0 (X11; Linux x86_64) AppleWebKit/537.36 (KHTML, like Gecko) Chrome/108.0.0.0 Safari/537.36\"}\n",
    "    r = requests.get(url_name, headers = headers, verify = False)\n",
    "    return BeautifulSoup(r.content,\"lxml\")\n",
    "soup = ds(url)\n",
    "# print(soup)\n",
    "products =''\n",
    "ad =''\n",
    "couy = soup.find_all('div',class_=\"card-body\")\n",
    "for i in couy:\n",
    "    country = i.find('h4',class_=\"card-title\").text\n",
    "    link = i.find('a')['href']\n",
    "    s2 = ds(link)\n",
    "    prod = s2.find_all('div',class_=\"card-body\")\n",
    "    for j in prod:\n",
    "        product = j.find('h4',class_=\"card-title\").text\n",
    "        products = products + product + \";\"\n",
    "        prod_link = j.find('a')\n",
    "        if prod_link:\n",
    "            link2 = prod_link['href']\n",
    "        s3 = ds(link2)\n",
    "        add = s3.find('div',class_=\"container\")\n",
    "        addre = s3.find_all('p')[1]\n",
    "        print(str([addre.text]).strip(\"[]\").split(\"\\\\n\"))\n",
    "                                  \n",
    "                                  \n",
    "    \n",
    "                    \n",
    "\n",
    "            \n",
    "    \n",
    "\n"
   ]
  },
  {
   "cell_type": "code",
   "execution_count": null,
   "metadata": {},
   "outputs": [],
   "source": []
  },
  {
   "cell_type": "code",
   "execution_count": null,
   "metadata": {},
   "outputs": [],
   "source": []
  }
 ],
 "metadata": {
  "kernelspec": {
   "display_name": "Python 3",
   "language": "python",
   "name": "python3"
  },
  "language_info": {
   "codemirror_mode": {
    "name": "ipython",
    "version": 3
   },
   "file_extension": ".py",
   "mimetype": "text/x-python",
   "name": "python",
   "nbconvert_exporter": "python",
   "pygments_lexer": "ipython3",
   "version": "3.7.3"
  }
 },
 "nbformat": 4,
 "nbformat_minor": 2
}
