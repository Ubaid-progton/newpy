{
 "cells": [
  {
   "cell_type": "code",
   "execution_count": 2,
   "metadata": {},
   "outputs": [
    {
     "name": "stdout",
     "output_type": "stream",
     "text": [
      "Number of Even Number:  4\n",
      "Number of Odd Number:  5\n"
     ]
    }
   ],
   "source": [
    "s = (1,2,3,4,5,6,7,8,9)\n",
    "even_count, odd_count = 0, 0\n",
    "\n",
    "for i in s:\n",
    "    if i % 2 == 0:\n",
    "        even_count+=1\n",
    "    else:\n",
    "        odd_count+=1\n",
    "print(\"Number of Even Number: \",even_count)\n",
    "print(\"Number of Odd Number: \",odd_count)"
   ]
  },
  {
   "cell_type": "code",
   "execution_count": 6,
   "metadata": {},
   "outputs": [
    {
     "name": "stdout",
     "output_type": "stream",
     "text": [
      "1505,1540,1575,1610,1645,1680,1715,1750,1785,1820,1855,1890,1925,1960,1995,2030,2065,2100,2135,2170,2205,2240,2275,2310,2345,2380,2415,2450,2485,2520,2555,2590,2625,2660,2695\n"
     ]
    }
   ],
   "source": [
    "s1 = []\n",
    "for num in range(1500,2701):\n",
    "    if (num%5==0) and (num%7==0):\n",
    "        s1.append(str(num))\n",
    "print(','.join(s1))"
   ]
  },
  {
   "cell_type": "code",
   "execution_count": 16,
   "metadata": {},
   "outputs": [
    {
     "name": "stdout",
     "output_type": "stream",
     "text": [
      "1\n",
      "2\n",
      "fiz\n",
      "4\n",
      "5\n",
      "fiz\n",
      "7\n",
      "8\n",
      "fiz\n",
      "10\n",
      "11\n",
      "fiz\n",
      "13\n",
      "14\n",
      "fizbuzz\n",
      "16\n",
      "17\n",
      "fiz\n",
      "19\n",
      "20\n",
      "fiz\n",
      "22\n",
      "23\n",
      "fiz\n",
      "25\n",
      "26\n",
      "fiz\n",
      "28\n",
      "29\n",
      "fizbuzz\n",
      "31\n",
      "32\n",
      "fiz\n",
      "34\n",
      "35\n",
      "fiz\n",
      "37\n",
      "38\n",
      "fiz\n",
      "40\n",
      "41\n",
      "fiz\n",
      "43\n",
      "44\n",
      "fizbuzz\n",
      "46\n",
      "47\n",
      "fiz\n",
      "49\n",
      "50\n"
     ]
    }
   ],
   "source": [
    "\n",
    "for num in range(1,51):\n",
    "    s = []\n",
    "    if num%3==0 and num%5==0:\n",
    "        print(\"fizbuzz\")\n",
    "        continue\n",
    "    elif num%3==0:\n",
    "        print(\"fiz\")\n",
    "        continue\n",
    "    elif num%3==0:\n",
    "        print(\"buzz\")\n",
    "        continue\n",
    "    \n",
    "    print(num)"
   ]
  },
  {
   "cell_type": "code",
   "execution_count": 24,
   "metadata": {},
   "outputs": [
    {
     "name": "stdout",
     "output_type": "stream",
     "text": [
      "Enter the number to calculate sum & average: 55\n",
      "sum of 55 number is:  1540\n",
      "Average of 55 number is:  28.0\n"
     ]
    }
   ],
   "source": [
    "n = input(\"Enter the number to calculate sum & average: \")\n",
    "n = int(n)\n",
    "sum = 0\n",
    "for num in range(0 ,n+1, 1):\n",
    "    sum = sum + num\n",
    "average = sum/n\n",
    "print(\"sum of\", n, \"number is: \",sum)\n",
    "print(\"Average of\", n, \"number is: \",average)"
   ]
  },
  {
   "cell_type": "code",
   "execution_count": null,
   "metadata": {},
   "outputs": [],
   "source": [
    "def iter_factorial(n):\n",
    "    factorial=1\n",
    "    n = input(\"Enter a number: \")\n",
    "    factorial = 1\n",
    "    if int(n) >= 1:\n",
    "        for i in range (1,int(n)+1):\n",
    "            factorial = factorial * i\n",
    "        return factorial\n",
    "  \n",
    "num=int(input(\"Enter the number: \"))\n",
    "\n",
    "print(\"factorial of \",num,\" (iterative): \",end=\"\")\n",
    "print(iter_factorial(num))"
   ]
  },
  {
   "cell_type": "code",
   "execution_count": null,
   "metadata": {},
   "outputs": [],
   "source": []
  }
 ],
 "metadata": {
  "kernelspec": {
   "display_name": "Python 3",
   "language": "python",
   "name": "python3"
  },
  "language_info": {
   "codemirror_mode": {
    "name": "ipython",
    "version": 3
   },
   "file_extension": ".py",
   "mimetype": "text/x-python",
   "name": "python",
   "nbconvert_exporter": "python",
   "pygments_lexer": "ipython3",
   "version": "3.7.3"
  }
 },
 "nbformat": 4,
 "nbformat_minor": 2
}
