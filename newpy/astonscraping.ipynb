{
 "cells": [
  {
   "cell_type": "code",
   "execution_count": null,
   "metadata": {},
   "outputs": [],
   "source": [
    "import requests\n",
    "from bs4 import BeautifulSoup\n",
    "# import pandas as pd\n",
    "\n",
    "base_url = \"https://www.aston-chemicals.com/\"\n",
    "url = \"https://www.aston-chemicals.com/products-overview/suppliers\"\n",
    "\n",
    "def ds(url_name):\n",
    "    r = requests.get(url_name)\n",
    "    html = r.content\n",
    "    return BeautifulSoup(html,\"lxml\")\n",
    "\n",
    "soup = ds(url)\n",
    "\n",
    "supp_list = soup.find_all('div',{\"class\":\"listAllBlock listAllBlockSupplier\"})\n",
    "c = []\n",
    "\n",
    "for i in supp_list:\n",
    "\n",
    "    b=[]\n",
    "    link = base_url +i.a['href']\n",
    "    b.append(i.text.strip())\n",
    "    b.append(link)\n",
    "    s1 = ds(link)\n",
    "    supp_info = s1.find_all('div',{\"class\":\"left-column leftColumnStandard\"})\n",
    "    \n",
    "    for j in supp_info:\n",
    "        b.append(j.text.strip())\n",
    "        link2 = j.find(\"a\")\n",
    "        if link2:\n",
    "            b.append(link2[\"href\"])\n",
    "        else:\n",
    "            b.append(\"\")\n",
    "            \n",
    "    print(b)\n",
    "# data = pd.DataFrame(c,columns=[\"Company name\",\"Parent link\",\"Supplier Info\",\"Supplier link\"])\n",
    "# data.to_csv(\"aston.csv\")\n",
    "\n",
    "\n",
    "    \n",
    "  \n"
   ]
  },
  {
   "cell_type": "code",
   "execution_count": null,
   "metadata": {},
   "outputs": [],
   "source": []
  },
  {
   "cell_type": "code",
   "execution_count": null,
   "metadata": {},
   "outputs": [],
   "source": []
  }
 ],
 "metadata": {
  "kernelspec": {
   "display_name": "Python 3",
   "language": "python",
   "name": "python3"
  },
  "language_info": {
   "codemirror_mode": {
    "name": "ipython",
    "version": 3
   },
   "file_extension": ".py",
   "mimetype": "text/x-python",
   "name": "python",
   "nbconvert_exporter": "python",
   "pygments_lexer": "ipython3",
   "version": "3.7.3"
  }
 },
 "nbformat": 4,
 "nbformat_minor": 2
}
