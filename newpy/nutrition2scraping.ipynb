{
 "cells": [
  {
   "cell_type": "code",
   "execution_count": 7,
   "metadata": {},
   "outputs": [
    {
     "name": "stdout",
     "output_type": "stream",
     "text": [
      "[['Abbott', 'https://nutrition.org/business-directory/abbott/', 'Clinical Nutrition, Consumer Product Goods, Food Companies, Medical Foods', 'anne.agler@abbott.com', 'Anne Agler, MS, PhDDirector of Adult & LatAm Nutrition Science and Innovation'], ['Ajinomoto Health & Nutrition North America, Inc.', 'https://nutrition.org/business-directory/ajinomoto-health-nutrition-north-america-inc/', 'Food Companies, Ingredient Manufacturers, Medical Foods', 'publicrelations@ajiusa.com', 'Tia M. Rains, PhDVP, Customer Engagement & Strategic Development'], ['Almond Board of California', 'https://nutrition.org/business-directory/almond-board-of-california/', 'Commodity Board', 'ehemler@almondboard.com', 'Elena HemlerAssociate Director, Nutrition Research'], ['American Egg Board’s Egg Nutrition Center', 'https://nutrition.org/business-directory/american-egg-boards-egg-nutrition-center/', 'Commodity Board', 'research@eggnutritioncenter.org', 'Mickey Rubin, PhDExecutive Director'], ['Avocado Nutrition Center', 'https://nutrition.org/business-directory/avocado-nutrition-center/', 'Commodity Board', 'Ella@hassavocadoboard.com', 'Nikki Ford, PhDSenior Director of Nutrition'], ['Balchem Corporation', 'https://nutrition.org/business-directory/balchem-corporation/', 'eciappio@balchem.com', 'eciappio@balchem.com', 'Eric Ciappio, PhD, RDStrategic Development Manager, Nutrition Science'], ['Bayer Healthcare', 'https://nutrition.org/business-directory/bayer/', 'Clinical Nutrition, Consumer Product Goods, Food Companies, Medical Foods', 'kelly.bristow@bayer.com', 'Kelly Bristow, MS, RDNManager, Science & Nutrition Partnerships'], ['Biofortis Research', 'https://nutrition.org/business-directory/biofortis-research/', 'Contract Research Organizations', 'jill.stocki@mxns.com', 'Jill Stocki, BS, MSDirector, Business Development'], ['Brightseed', 'https://nutrition.org/business-directory/brightseed/', 'Ingredient Manufacturers', 'janwillem.vanklinken@brightseedbio.com', 'Jan-Willem van Klinken, MD, PhD, MS, FACNSenior Vice President Medical & Scientific Affairs'], ['California Walnut Commission', 'https://nutrition.org/business-directory/california-walnut-commission/', 'Commodity Board', 'csloan@walnuts.org', 'Carol Sloan RDN, FANDHealth Research Director'], ['ChromaDex Corp', 'https://nutrition.org/business-directory/chromadex-corp/', 'Dietary Supplements', 'andrew.shao@chromadex.com', 'Andrew Shao, PhDSVP Global Scientific & Regulatory Affairs'], ['Council for Responsible Nutrition', 'https://nutrition.org/business-directory/council-for-responsible-nutrition/', 'Dietary Supplements, Trade Organization', 'awong@crnusa.org', 'Andrea Wong, PhDSenior Vice President, Scientific & Regulatory Affairs'], ['Danone North America', 'https://nutrition.org/business-directory/danone-north-america/', 'Consumer Product Goods, Food Companies', 'miguel.freitas@dannon.com', 'Miguel Freitas, MSc, PhDVice President, Health and Scientific Affairs'], ['General Mills – Bell Institute of Health and Nutrition', 'https://nutrition.org/business-directory/general-mills-bell-institute-of-health-and-nutrition/', 'Consumer Product Goods, Food Companies', 'bell.institute@genmills.com', 'Jessica Campbell, PhDDirector'], ['GSK Consumer Healthcare', 'https://nutrition.org/business-directory/gsk-consumer-healthcare/', 'Consumer Product Goods, Dietary Supplements', 'alpa.v.shah@gsk.com', 'Alpa V. Shah, MS, RDNUS Wellness Medical Affairs Lead'], ['Herbalife Nutrition', 'https://nutrition.org/business-directory/herbalife-nutrition/', 'Consumer Product Goods, Dietary Supplements, Food Companies', 'Nutritionnews@herbalife.com', 'Simon Sum, DCN, RDN, ACSM-CPT, FANDDirector, North America Scientific Affairs, R&DChi Hee Kim, BSSenior Director, Global Government Affairs'], ['Kyowa Hakko USA', 'https://nutrition.org/business-directory/kyowa-hakko-usa/', 'Ingredient Manufacturers', 'info@kyowa-usa.com', 'Karen E Todd, MBA, RDVice President Global Brand Marketing'], ['Mars Incorporated', 'https://nutrition.org/business-directory/mars-incorporated/', 'Consumer Product Goods, Food Companies', 'kristin.rubin@effem.com', 'Kristin Herron Rubin, PhDDirector, Global Nutrition and Regulatory Affairs'], ['Mondelēz International', 'https://nutrition.org/business-directory/mondelez-international/', 'Consumer Product Goods, Food Companies', 'Aurelie.Goux@mdlz.com', 'Aurelie Goux, PhDSenior Nutrition Scientist '], ['National Cattlemen’s Beef Association, a contractor to the Beef Checkoff', 'https://nutrition.org/business-directory/national-cattlemens-beef-association-a-contractor-to-the-beef-checkoff/', 'Commodity Board, Trade Organization', 'beefresearch@beef.org', 'Shalene McNeill, PhD, RDNExecutive Director, Nutrition Science, Health & Wellness'], ['National Dairy Council', 'https://nutrition.org/business-directory/national-dairy-council/', 'Commodity Board, Scientific Consulting', 'Katie.Brown@dairy.org', 'Katie Brown, EdD, RDNSenior Vice President, Scientific Affairs and Outreach'], ['Pharmavite', 'https://nutrition.org/business-directory/pharmavite/', 'Dietary Supplements', 'rgrant@pharmavite.com', 'Ryan Grant, PhDSenior Manager Nutrition Science'], ['Potatoes USA', 'https://nutrition.org/business-directory/potatoes-usa/', 'Commodity Board, Contract Research Organizations, Food Companies, Trade Organization', 'HGoldstein@foodminds.com', 'Howard Goldstein, RDVice President, FoodMinds'], ['Reckitt', 'https://nutrition.org/business-directory/reckitt/', 'Consumer Product Goods, Dietary Supplements', 'consumerengagement@rb.com', 'Jane Barracato, MS, RDHead Global Medical Science VMS'], ['Sugar Association, Inc.', 'https://nutrition.org/business-directory/sugar-association-inc/', 'Commodity Board', 'mscott@sugar.org', 'Maria Scott, MPHSenior Director, Scientific Affairs'], ['The Peanut Institute', 'https://nutrition.org/business-directory/the-peanut-institute/', 'Contract Research Organizations, Trade Organization', 'ssterling@peanut-institute.com', 'Samara Sterling, BS, MS, PhDResearch Director'], ['Traverse Science', 'https://nutrition.org/business-directory/traverse-science/', 'Scientific Consulting', 'engage@traversescience.com', 'Stephen Fleming, PhDPresident']]\n"
     ]
    }
   ],
   "source": [
    "import requests\n",
    "from bs4 import BeautifulSoup\n",
    "# import pandas as pd\n",
    "f = []\n",
    "for x in range(1,4):\n",
    "    url =f\"https://nutrition.org/business-directory/page/{x}\"\n",
    "\n",
    "\n",
    "    def ds(url_name):\n",
    "        r = requests.get(url_name)\n",
    "        return BeautifulSoup(r.content,\"lxml\")\n",
    "    soup = ds(url)\n",
    "#     print(url)\n",
    "    supp = soup.find_all(\"h2\",{\"class\":\"listing-title\"})\n",
    "    for i in supp:\n",
    "        name = i.text.strip()\n",
    "        link = i.find('a')['href']\n",
    "        s2=ds(link)\n",
    "        market = s2.find('div',{\"class\":\"value\"}).text\n",
    "        email = s2.find('div',{\"class\":\"wpbdp-field-display wpbdp-field wpbdp-field-value field-display field-value wpbdp-field-email wpbdp-field-meta wpbdp-field-type-textfield wpbdp-field-association-meta\"})\n",
    "        em = email.find('div',{\"class\":\"value\"}).text\n",
    "        con = s2.find('div',{\"class\":\"wpbdp-field-display wpbdp-field wpbdp-field-value field-display field-value wpbdp-field-contact wpbdp-field-meta wpbdp-field-type-textarea wpbdp-field-association-meta\"})\n",
    "        contact = con.find('div',{\"class\":\"value\"}).text.replace('\\n','').replace('\\r','')\n",
    "        f.append([name,link,market,em,contact])\n",
    "# print(f)"
   ]
  },
  {
   "cell_type": "code",
   "execution_count": 4,
   "metadata": {},
   "outputs": [
    {
     "data": {
      "text/plain": [
       "1"
      ]
     },
     "execution_count": 4,
     "metadata": {},
     "output_type": "execute_result"
    }
   ],
   "source": []
  },
  {
   "cell_type": "code",
   "execution_count": 8,
   "metadata": {},
   "outputs": [
    {
     "name": "stdout",
     "output_type": "stream",
     "text": [
      "2\n",
      "4\n",
      "6\n",
      "8\n",
      "10\n",
      "12\n",
      "14\n",
      "16\n",
      "18\n",
      "20\n"
     ]
    }
   ],
   "source": [
    "for i in range(2, 22, 2):\n",
    "    print(i)\n"
   ]
  },
  {
   "cell_type": "code",
   "execution_count": 10,
   "metadata": {},
   "outputs": [
    {
     "name": "stdout",
     "output_type": "stream",
     "text": [
      "0\n",
      "1\n",
      "1\n",
      "2\n",
      "3\n",
      "5\n",
      "8\n",
      "13\n",
      "21\n",
      "34\n",
      "55\n",
      "89\n"
     ]
    }
   ],
   "source": [
    "def fib(n):\n",
    "    a, b = 0, 1\n",
    "    for i in range(n):\n",
    "        print(a)\n",
    "        a, b = b, a + b\n",
    "\n",
    "fib(12)\n"
   ]
  },
  {
   "cell_type": "code",
   "execution_count": null,
   "metadata": {},
   "outputs": [],
   "source": []
  }
 ],
 "metadata": {
  "kernelspec": {
   "display_name": "Python 3",
   "language": "python",
   "name": "python3"
  },
  "language_info": {
   "codemirror_mode": {
    "name": "ipython",
    "version": 3
   },
   "file_extension": ".py",
   "mimetype": "text/x-python",
   "name": "python",
   "nbconvert_exporter": "python",
   "pygments_lexer": "ipython3",
   "version": "3.7.3"
  }
 },
 "nbformat": 4,
 "nbformat_minor": 2
}
