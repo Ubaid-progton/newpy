{
 "cells": [
  {
   "cell_type": "code",
   "execution_count": null,
   "metadata": {},
   "outputs": [],
   "source": [
    "import requests\n",
    "from bs4 import BeautifulSoup\n",
    "# import pandas as pd\n",
    "c= []\n",
    "for x in range(1,3):\n",
    "  bas=\"https://www.pr.com/\"\n",
    "  base_url = f\"https://www.pr.com/business-directory/266/+{x}\"\n",
    "    \n",
    "  def ds(url_name):\n",
    "      r = requests.get(url_name)\n",
    "      return BeautifulSoup(r.content,\"lxml\")\n",
    "  \n",
    "  soup = ds(base_url)\n",
    "  # print(base_url)\n",
    "  prod = soup.find_all('h3',class_=\"listing__title\")\n",
    "  \n",
    "  for i in prod:\n",
    "      \n",
    "      name = i.text.strip()\n",
    "      link = bas + i.find('a')['href']\n",
    "      s2 = ds(link)\n",
    "      about = s2.find('div',class_=\"profile__body\").find('p').text\n",
    "      link2 = s2.find('div',{\"class\":\"profile__main-heading\"})\n",
    "      li = link2.find('a')\n",
    "      if li:\n",
    "          li_1 = (li['href'])\n",
    "      else:\n",
    "          li_1 = (\"\\n\")\n",
    "      c.append([base_url,name,link,about,li_1])\n",
    "      print(c)\n",
    "# df = pd.DataFrame(c,columns=[\"Base Url\",\"Product Name\",\"Company Website Link\",\"Product Info\",\"Product_Url\"])\n",
    "# df.to_csv(\"pr2.csv\")\n",
    "    "
   ]
  }
 ],
 "metadata": {
  "kernelspec": {
   "display_name": "Python 3",
   "language": "python",
   "name": "python3"
  },
  "language_info": {
   "codemirror_mode": {
    "name": "ipython",
    "version": 3
   },
   "file_extension": ".py",
   "mimetype": "text/x-python",
   "name": "python",
   "nbconvert_exporter": "python",
   "pygments_lexer": "ipython3",
   "version": "3.7.3"
  }
 },
 "nbformat": 4,
 "nbformat_minor": 2
}
