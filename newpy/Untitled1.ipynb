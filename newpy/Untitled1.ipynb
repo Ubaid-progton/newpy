{
 "cells": [
  {
   "cell_type": "code",
   "execution_count": 24,
   "metadata": {},
   "outputs": [
    {
     "name": "stdout",
     "output_type": "stream",
     "text": [
      "['Rank', 'Sport', 'Estimated Global Following', 'Sphere of Influence']\n",
      "['1', 'Association football (Soccer)', '4 billion', 'Globally']\n",
      "['2', 'Cricket', '2.5 billion', 'primarily UK and Commonwealth, South Asia (Indian subcontinent)']\n",
      "['3', 'Hockey (Ice and Field)', '2 billion', 'Europe, North America, Africa, Asia and Australia']\n",
      "['4', 'Tennis', '1 billion', 'Globally']\n",
      "['5', 'Volleyball (along with Beach Volleyball)', '900 million', 'Americas, Europe, Asia, Oceania']\n",
      "['6', 'Table tennis', '875 million', 'Mainly East Asia']\n",
      "['7', 'Basketball', '825 million', 'Globally']\n",
      "['8', 'Baseball', '500 million', 'primarily United States, Caribbean and East Asia']\n",
      "['9', 'Rugby (League and Union)', '475 million', 'primarily UK, Ireland, France, Italy, Oceania, South Africa, Argentina, and Japan.']\n",
      "['10', 'Golf', '450 million', 'primarily Western Europe, East Asia and North America']\n"
     ]
    }
   ],
   "source": [
    "import requests\n",
    "from bs4 import BeautifulSoup\n",
    "f=  []\n",
    "url = \"https://en.wikipedia.org/wiki/Sport\"\n",
    "r = requests.get(url)\n",
    "soup = BeautifulSoup(r.content,\"lxml\")\n",
    "table =soup.find('table',class_=\"wikitable\").tbody\n",
    "rows = table.find_all('tr')\n",
    "columns = [i.text.replace('\\n','') for i in rows[0].find_all('th')]\n",
    "for i in rows:\n",
    "    row = []\n",
    "    sr =i.text.split(\"\\n\")\n",
    "    row = [i for i in sr if len(i)>0]\n",
    "    f.append(row)\n",
    "    print(row)\n",
    "\n"
   ]
  },
  {
   "cell_type": "code",
   "execution_count": null,
   "metadata": {},
   "outputs": [],
   "source": [
    "for j in range(1, len(rows)):\n",
    "    \n",
    "    tds = rows[j].find_all('td')\n",
    "    if len(tds)==4:\n",
    "        values = [tds[0].text,tds[1].text,tds[2].text,tds[3].text.replace('\\n','')]\n",
    "    else:\n",
    "        values = [td.text.replace('\\n','') for td in tds]\n",
    "    print(values)\n",
    "\n",
    "    for rank in rows:\n",
    "        tt = rank.find('th')\n",
    "        s = tt.text\n",
    "#             print(s)"
   ]
  },
  {
   "cell_type": "code",
   "execution_count": 17,
   "metadata": {},
   "outputs": [
    {
     "name": "stdout",
     "output_type": "stream",
     "text": [
      "['Association football (Soccer)', '4 billion', 'Globally']\n",
      "['Cricket', '2.5 billion', 'primarily UK and Commonwealth, South Asia (Indian subcontinent)']\n",
      "['Hockey (Ice and Field)', '2 billion', 'Europe, North America, Africa, Asia and Australia']\n",
      "['Tennis', '1 billion', 'Globally']\n",
      "['Volleyball (along with Beach Volleyball)', '900 million', 'Americas, Europe, Asia, Oceania']\n",
      "['Table tennis', '875 million', 'Mainly East Asia']\n",
      "['Basketball', '825 million', 'Globally']\n",
      "['Baseball', '500 million', 'primarily United States, Caribbean and East Asia']\n",
      "['Rugby (League and Union)', '475 million', 'primarily UK, Ireland, France, Italy, Oceania, South Africa, Argentina, and Japan.']\n",
      "['Golf', '450 million', 'primarily Western Europe, East Asia and North America']\n"
     ]
    }
   ],
   "source": [
    "# print(columns)\n",
    "# for i in table:\n",
    "#     print(i.text)"
   ]
  },
  {
   "cell_type": "code",
   "execution_count": null,
   "metadata": {},
   "outputs": [],
   "source": []
  }
 ],
 "metadata": {
  "kernelspec": {
   "display_name": "Python 3",
   "language": "python",
   "name": "python3"
  },
  "language_info": {
   "codemirror_mode": {
    "name": "ipython",
    "version": 3
   },
   "file_extension": ".py",
   "mimetype": "text/x-python",
   "name": "python",
   "nbconvert_exporter": "python",
   "pygments_lexer": "ipython3",
   "version": "3.7.3"
  }
 },
 "nbformat": 4,
 "nbformat_minor": 2
}
