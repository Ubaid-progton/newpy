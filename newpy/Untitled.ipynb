{
 "cells": [
  {
   "cell_type": "code",
   "execution_count": 23,
   "metadata": {},
   "outputs": [
    {
     "name": "stdout",
     "output_type": "stream",
     "text": [
      "\n",
      "\n",
      "CAS Number: 102070-64-4\n",
      "HS Number: 3907 99\n",
      "\n",
      "\r\n",
      "                                Akestra™ is a remarkable thermoplastic with a sparkling glass-like appearance. It can be used as a polystyrene alternative for heat resistant thin wall containers, a polycarbonate alternative for durable “dishwasher proof” transparent products, and a glass alternative for hot-fill food containers.\r\n",
      "Akestra™ 100 is a medium Tg grade in the Akestra™ family. It is suitable for films, sheets, blow molding, foams and injection moulding\r\n",
      "Akestra™ is available in Europe.\r\n",
      "\r\n",
      "                            \n",
      "\n",
      "https://www.perstorp.com/-/media/files/perstorp/pb/akestra.pdf\n"
     ]
    }
   ],
   "source": [
    "import requests\n",
    "from bs4 import BeautifulSoup\n",
    "url = requests.get(\"https://www.perstorp.com/en/products/akestra_100\")\n",
    "html = url.content\n",
    "soup = BeautifulSoup(html,\"lxml\")\n",
    "h = soup.find('div', class_=\"u-grid__cell u-grid__cell--width-100 u-grid__cell--width-66@md\")\n",
    "print(h.text)\n",
    "link = soup.find('div', class_=\"o-product-downloads__column u-grid__cell u-grid__cell--width-100 u-grid__cell--width-50@sm u-grid__cell--width-25@md\")\n",
    "print(link.a['href'])"
   ]
  },
  {
   "cell_type": "code",
   "execution_count": 11,
   "metadata": {},
   "outputs": [
    {
     "name": "stdout",
     "output_type": "stream",
     "text": [
      "soap - 20 - 0.04\n",
      "shampoo - 103 - 0.05\n"
     ]
    }
   ],
   "source": [
    "class Supermarket:\n",
    "    def __init__(self,name,price,discount):\n",
    "        self.name = name\n",
    "        self.price= price\n",
    "        self.discount = discount\n",
    "        \n",
    "    def product_details(self):\n",
    "        return '{} - {} - {}'.format(self.name,self.price,self.discount)\n",
    "#         return self.name,self.price\n",
    "        \n",
    "product_1 = Supermarket('soap',20,0.04)\n",
    "product_2 = Supermarket('shampoo',103,0.05)\n",
    "\n",
    "# print(product_1)\n",
    "# print(product_2)\n",
    "\n",
    "# product_1.name = 'Soap'\n",
    "# product_1.price = 20\n",
    "# product_1.discount = 0.04\n",
    "\n",
    "# product_2.name = 'Shampoo'\n",
    "# product_2.price = 103\n",
    "# product_2.discount = 0.04\n",
    "\n",
    "print(product_1.product_details())\n",
    "print(product_2.product_details())\n",
    "# print(product_2.name)\n",
    "# print(product_2.price)"
   ]
  },
  {
   "cell_type": "code",
   "execution_count": 38,
   "metadata": {},
   "outputs": [
    {
     "ename": "AttributeError",
     "evalue": "'NoneType' object has no attribute 'text'",
     "output_type": "error",
     "traceback": [
      "\u001b[0;31m---------------------------------------------------------------------------\u001b[0m",
      "\u001b[0;31mAttributeError\u001b[0m                            Traceback (most recent call last)",
      "\u001b[0;32m<ipython-input-38-7505366b86f7>\u001b[0m in \u001b[0;36m<module>\u001b[0;34m\u001b[0m\n\u001b[1;32m      9\u001b[0m \u001b[0;32mfor\u001b[0m \u001b[0mi\u001b[0m \u001b[0;32min\u001b[0m \u001b[0mprod\u001b[0m\u001b[0;34m:\u001b[0m\u001b[0;34m\u001b[0m\u001b[0;34m\u001b[0m\u001b[0m\n\u001b[1;32m     10\u001b[0m     \u001b[0mname\u001b[0m \u001b[0;34m=\u001b[0m \u001b[0mi\u001b[0m\u001b[0;34m.\u001b[0m\u001b[0mtext\u001b[0m\u001b[0;34m.\u001b[0m\u001b[0mreplace\u001b[0m\u001b[0;34m(\u001b[0m\u001b[0;34m'\\n'\u001b[0m\u001b[0;34m,\u001b[0m\u001b[0;34m''\u001b[0m\u001b[0;34m)\u001b[0m\u001b[0;34m.\u001b[0m\u001b[0mreplace\u001b[0m\u001b[0;34m(\u001b[0m\u001b[0;34m'\\r'\u001b[0m\u001b[0;34m,\u001b[0m\u001b[0;34m''\u001b[0m\u001b[0;34m)\u001b[0m\u001b[0;34m\u001b[0m\u001b[0;34m\u001b[0m\u001b[0m\n\u001b[0;32m---> 11\u001b[0;31m     \u001b[0mfunc\u001b[0m \u001b[0;34m=\u001b[0m \u001b[0mi\u001b[0m\u001b[0;34m.\u001b[0m\u001b[0mfind\u001b[0m\u001b[0;34m(\u001b[0m\u001b[0;34m'span'\u001b[0m\u001b[0;34m,\u001b[0m\u001b[0;34m{\u001b[0m\u001b[0;34m\"class\"\u001b[0m\u001b[0;34m:\u001b[0m\u001b[0;34m\"summary-item__items ng-star-inserted\"\u001b[0m\u001b[0;34m}\u001b[0m\u001b[0;34m)\u001b[0m\u001b[0;34m.\u001b[0m\u001b[0mtext\u001b[0m\u001b[0;34m\u001b[0m\u001b[0;34m\u001b[0m\u001b[0m\n\u001b[0m\u001b[1;32m     12\u001b[0m     \u001b[0mprint\u001b[0m\u001b[0;34m(\u001b[0m\u001b[0;34m[\u001b[0m\u001b[0mname\u001b[0m\u001b[0;34m,\u001b[0m\u001b[0mfunc\u001b[0m\u001b[0;34m]\u001b[0m\u001b[0;34m)\u001b[0m\u001b[0;34m\u001b[0m\u001b[0;34m\u001b[0m\u001b[0m\n",
      "\u001b[0;31mAttributeError\u001b[0m: 'NoneType' object has no attribute 'text'"
     ]
    }
   ],
   "source": [
    "import requests\n",
    "from bs4 import BeautifulSoup\n",
    "url = \"https://www.knowde.com/b/markets-adhesives-sealants/building-construction/construction-adhesives/products\"\n",
    "def ds1(url_name):\n",
    "    r = requests.get(url_name)\n",
    "    return BeautifulSoup(r.content,\"lxml\")\n",
    "s = ds1(url)\n",
    "prod = s.find_all('div',{\"class\":\"css-1hws0tz ev4fpqn0\"})\n",
    "for i in prod:\n",
    "    name = i.text.replace('\\n','').replace('\\r','')\n",
    "    func = .find('span',{\"class\":\"summary-item__items ng-star-inserted\"}).text\n",
    "    print([name,func])"
   ]
  },
  {
   "cell_type": "code",
   "execution_count": 36,
   "metadata": {},
   "outputs": [
    {
     "data": {
      "text/plain": [
       "1"
      ]
     },
     "execution_count": 36,
     "metadata": {},
     "output_type": "execute_result"
    }
   ],
   "source": [
    "len(name[1])"
   ]
  },
  {
   "cell_type": "code",
   "execution_count": null,
   "metadata": {},
   "outputs": [],
   "source": []
  }
 ],
 "metadata": {
  "kernelspec": {
   "display_name": "Python 3",
   "language": "python",
   "name": "python3"
  },
  "language_info": {
   "codemirror_mode": {
    "name": "ipython",
    "version": 3
   },
   "file_extension": ".py",
   "mimetype": "text/x-python",
   "name": "python",
   "nbconvert_exporter": "python",
   "pygments_lexer": "ipython3",
   "version": "3.7.3"
  }
 },
 "nbformat": 4,
 "nbformat_minor": 2
}
