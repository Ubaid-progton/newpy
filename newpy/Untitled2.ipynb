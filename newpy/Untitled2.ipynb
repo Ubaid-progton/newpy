{
 "cells": [
  {
   "cell_type": "code",
   "execution_count": 13,
   "metadata": {},
   "outputs": [
    {
     "name": "stdout",
     "output_type": "stream",
     "text": [
      "[['AAK Personal Care', 'https://www.aston-chemicals.com/supplier?id=1', 'Related Functions\\nStructuring AgentVegetable Oil / ButterMoisturiserEmollientEmulsifierSurfactantActive IngredientAnti-InflammatorySkin Repair and Protection'], ['ActivON', 'https://www.aston-chemicals.com/supplier?id=32', 'Related Functions\\nEmollientPreservative BoostingMoisturiserConditioning AgentActive IngredientAnti-AcneAnti-Microbial Properties'], ['Alzo International', 'https://www.aston-chemicals.com/supplier?id=2', 'Related Functions\\nEmollientSilicone AlternativeConditioning AgentMoisturiserFilm FormerHair ShineEmulsifierRheology ModifierSurfactant'], ['AQIA Quimica Industrial', 'https://www.aston-chemicals.com/supplier?id=38', 'Related Functions\\nConditioning AgentHair ShineHair Repair and ProtectionActive IngredientPlant ExtractAnti-OxidantAnti-PollutionSkin Repair and ProtectionAnti-AcneHair StylingVegetable Oil / Butter'], ['Aromtech', 'https://www.aston-chemicals.com/supplier?id=3', 'Related Functions\\nPlant Extract'], ['BeadTech', 'https://www.aston-chemicals.com/supplier?id=14', 'Related Functions\\nActive IngredientAnti-AgeingAnti-InflammatoryWhiteningPeptide / ProteinHair Loss Reduction'], ['Biogenics', 'https://www.aston-chemicals.com/supplier?id=4', 'Related Functions\\nMoisturiserSiliconeAnti-AcneDelivery SystemExfoliantSlimmingAnti-AgeingAnti-OxidantWhiteningPigment - TreatedActive IngredientAnti-InflammatoryRadianceCoolingHair Loss ReductionHair ShineHair Repair and ProtectionVolumisingPigment - Untreated'], ['Covestro', 'https://www.aston-chemicals.com/supplier?id=39', 'Related Functions\\nFilm FormerHair StylingHair Repair and ProtectionAnti-Pollution'], ['CX Pharma', 'https://www.aston-chemicals.com/supplier?id=29', 'Related Functions\\nActive IngredientAnti-AgeingRadianceWhiteningMoisturiserSkin Repair and Protection'], ['Eckart', 'https://www.aston-chemicals.com/supplier?id=7', 'Related Functions\\nPearlescent PigmentPigment - DispersionBulking AgentRheology ModifierMicrosphereSebum ControlSoft Focus'], ['EPC', 'https://www.aston-chemicals.com/supplier?id=37', 'Related Functions\\nPlant Extract'], ['Gale & Cosm', 'https://www.aston-chemicals.com/supplier?id=31', 'Related Functions\\nEmulsifierEmollientSurfactant'], ['Imerys', 'https://www.aston-chemicals.com/supplier?id=9', 'Related Functions\\nMineral PowderSebum ControlRheology ModifierBulking AgentExfoliantMicrosphereSoft Focus'], ['Jland Biotech', 'https://www.aston-chemicals.com/supplier?id=35', 'Related Functions\\nActive IngredientAnti-AgeingAnti-Inflammatory'], ['Kincera', 'https://www.aston-chemicals.com/supplier?id=11', 'Related Functions\\nBulking AgentMineral Powder'], ['Kobo Products', 'https://www.aston-chemicals.com/supplier?id=12', 'Related Functions\\nMicrosphereSebum ControlSoft FocusDelivery SystemBulking AgentMineral PowderPigment - TreatedUV FilterPigment - DispersionPearlescent PigmentVolumisingRheology ModifierFilm FormerStructuring AgentActive IngredientSPF BoosterIR BlockerExfoliantPlant Extract'], ['Kraton', 'https://www.aston-chemicals.com/supplier?id=41', 'Related Functions\\nRheology Modifier'], ['Kupanda', 'https://www.aston-chemicals.com/supplier?id=40', 'Related Functions\\nVegetable Oil / Butter'], ['Lipotrue', 'https://www.aston-chemicals.com/supplier?id=34', 'Related Functions\\nActive IngredientAnti-AgeingAnti-OxidantRadianceMoisturiserHair Loss ReductionPeptide / ProteinAnti-InflammatoryPlant ExtractSlimmingOdour RemovalPore ReductionSebum ControlSkin Repair and ProtectionSmoothing'], ['MFCI', 'https://www.aston-chemicals.com/supplier?id=26', 'Related Functions\\nUV Filter'], ['NuCera Solutions', 'https://www.aston-chemicals.com/supplier?id=15', 'Related Functions\\nStructuring AgentRheology ModifierEmollientFilm FormerEmulsifier'], ['OnScent', 'https://www.aston-chemicals.com/supplier?id=16', 'Related Functions\\nPigment - UntreatedPlant ExtractExfoliantAnti-Microbial PropertiesVegetable Oil / ButterActive IngredientAnti-AgeingAnti-InflammatoryAnti-Oxidant'], ['Shin-Etsu', 'https://www.aston-chemicals.com/supplier?id=18', 'Related Functions\\nRheology ModifierSiliconeSoft FocusEmollientEmulsifierFilm FormerMicrosphereSebum ControlPigment - Treated'], ['Solabia Group', 'https://www.aston-chemicals.com/supplier?id=19', 'Related Functions\\nAnti-AgeingAnti-InflammatoryMoisturiserSilicone AlternativePlant ExtractActive IngredientEmollientCoolingSebum ControlAnti-Microbial PropertiesHair Loss ReductionHair ShineSlimmingWhiteningPeptide / ProteinSkin EnergisingMineral PowderVegetable Oil / ButterSkin Repair and ProtectionAnti-PollutionExfoliantRheology ModifierAnti-AcneAnti-OxidantRadiance'], ['Sunjin Beauty Science', 'https://www.aston-chemicals.com/supplier?id=21', 'Related Functions\\nMicrosphereSebum ControlSoft FocusWhiteningVolumisingDelivery SystemBulking AgentUV FilterPigment - TreatedEmulsifierRheology ModifierEmollientActive IngredientStructuring Agent'], ['Toyo Sugar Refining Co., Ltd.', 'https://www.aston-chemicals.com/supplier?id=42', 'Related Functions\\nMoisturiserAnti-AgeingAnti-InflammatoryActive IngredientAnti-Oxidant'], ['Venator', 'https://www.aston-chemicals.com/supplier?id=17', 'Related Functions\\nPigment - Untreated'], ['Vertellus', 'https://www.aston-chemicals.com/supplier?id=22', 'Related Functions\\nEmollientVegetable Oil / ButterRheology ModifierMoisturiserStructuring AgentHair StylingEmulsifierAnti-Acne']]\n"
     ]
    }
   ],
   "source": [
    "import requests\n",
    "from bs4 import BeautifulSoup\n",
    "\n",
    "url = \"https://www.aston-chemicals.com/products-overview/suppliers\"\n",
    "base = \"https://www.aston-chemicals.com/\"\n",
    "def soup(url_link):\n",
    "    r = requests.get(url_link)\n",
    "    html = r.content\n",
    "    return BeautifulSoup(html,'lxml')\n",
    "s1 = soup(url)\n",
    "div = s1.find_all(\"div\",{\"class\":\"listAllBlock listAllBlockSupplier\"})\n",
    "det=[]\n",
    "for i in div:\n",
    "    name  = i.text.strip()\n",
    "    link = base + i.find(\"a\")[\"href\"]\n",
    "    s2 = soup(link)\n",
    "    gb= \"\"\n",
    "    if s2.find(\"div\",class_=\"right-column singleProductColumn\"):\n",
    "        gb = s2.find(\"div\",{\"class\":\"right-column singleProductColumn\"}).text.strip()\n",
    "    \n",
    "    det.append([name,link,gb])\n",
    "    \n",
    "print(det)\n",
    "    "
   ]
  },
  {
   "cell_type": "code",
   "execution_count": 12,
   "metadata": {},
   "outputs": [
    {
     "data": {
      "text/plain": [
       "[['AAK Personal Care',\n",
       "  'https://www.aston-chemicals.com/supplier?id=1',\n",
       "  'Related Functions\\nStructuring AgentVegetable Oil / ButterMoisturiserEmollientEmulsifierSurfactantActive IngredientAnti-InflammatorySkin Repair and Protection'],\n",
       " ['ActivON',\n",
       "  'https://www.aston-chemicals.com/supplier?id=32',\n",
       "  'Related Functions\\nEmollientPreservative BoostingMoisturiserConditioning AgentActive IngredientAnti-AcneAnti-Microbial Properties'],\n",
       " ['Alzo International',\n",
       "  'https://www.aston-chemicals.com/supplier?id=2',\n",
       "  'Related Functions\\nEmollientSilicone AlternativeConditioning AgentMoisturiserFilm FormerHair ShineEmulsifierRheology ModifierSurfactant'],\n",
       " ['AQIA Quimica Industrial',\n",
       "  'https://www.aston-chemicals.com/supplier?id=38',\n",
       "  'Related Functions\\nConditioning AgentHair ShineHair Repair and ProtectionActive IngredientPlant ExtractAnti-OxidantAnti-PollutionSkin Repair and ProtectionAnti-AcneHair StylingVegetable Oil / Butter'],\n",
       " ['Aromtech',\n",
       "  'https://www.aston-chemicals.com/supplier?id=3',\n",
       "  'Related Functions\\nPlant Extract'],\n",
       " ['BeadTech',\n",
       "  'https://www.aston-chemicals.com/supplier?id=14',\n",
       "  'Related Functions\\nActive IngredientAnti-AgeingAnti-InflammatoryWhiteningPeptide / ProteinHair Loss Reduction'],\n",
       " ['Biogenics',\n",
       "  'https://www.aston-chemicals.com/supplier?id=4',\n",
       "  'Related Functions\\nMoisturiserSiliconeAnti-AcneDelivery SystemExfoliantSlimmingAnti-AgeingAnti-OxidantWhiteningPigment - TreatedActive IngredientAnti-InflammatoryRadianceCoolingHair Loss ReductionHair ShineHair Repair and ProtectionVolumisingPigment - Untreated'],\n",
       " ['Covestro',\n",
       "  'https://www.aston-chemicals.com/supplier?id=39',\n",
       "  'Related Functions\\nFilm FormerHair StylingHair Repair and ProtectionAnti-Pollution'],\n",
       " ['CX Pharma',\n",
       "  'https://www.aston-chemicals.com/supplier?id=29',\n",
       "  'Related Functions\\nActive IngredientAnti-AgeingRadianceWhiteningMoisturiserSkin Repair and Protection'],\n",
       " ['Eckart',\n",
       "  'https://www.aston-chemicals.com/supplier?id=7',\n",
       "  'Related Functions\\nPearlescent PigmentPigment - DispersionBulking AgentRheology ModifierMicrosphereSebum ControlSoft Focus'],\n",
       " ['EPC',\n",
       "  'https://www.aston-chemicals.com/supplier?id=37',\n",
       "  'Related Functions\\nPlant Extract'],\n",
       " ['Gale & Cosm',\n",
       "  'https://www.aston-chemicals.com/supplier?id=31',\n",
       "  'Related Functions\\nEmulsifierEmollientSurfactant'],\n",
       " ['Imerys',\n",
       "  'https://www.aston-chemicals.com/supplier?id=9',\n",
       "  'Related Functions\\nMineral PowderSebum ControlRheology ModifierBulking AgentExfoliantMicrosphereSoft Focus'],\n",
       " ['Jland Biotech',\n",
       "  'https://www.aston-chemicals.com/supplier?id=35',\n",
       "  'Related Functions\\nActive IngredientAnti-AgeingAnti-Inflammatory'],\n",
       " ['Kincera',\n",
       "  'https://www.aston-chemicals.com/supplier?id=11',\n",
       "  'Related Functions\\nBulking AgentMineral Powder'],\n",
       " ['Kobo Products',\n",
       "  'https://www.aston-chemicals.com/supplier?id=12',\n",
       "  'Related Functions\\nMicrosphereSebum ControlSoft FocusDelivery SystemBulking AgentMineral PowderPigment - TreatedUV FilterPigment - DispersionPearlescent PigmentVolumisingRheology ModifierFilm FormerStructuring AgentActive IngredientSPF BoosterIR BlockerExfoliantPlant Extract'],\n",
       " ['Kraton',\n",
       "  'https://www.aston-chemicals.com/supplier?id=41',\n",
       "  'Related Functions\\nRheology Modifier'],\n",
       " ['Kupanda',\n",
       "  'https://www.aston-chemicals.com/supplier?id=40',\n",
       "  'Related Functions\\nVegetable Oil / Butter'],\n",
       " ['Lipotrue',\n",
       "  'https://www.aston-chemicals.com/supplier?id=34',\n",
       "  'Related Functions\\nActive IngredientAnti-AgeingAnti-OxidantRadianceMoisturiserHair Loss ReductionPeptide / ProteinAnti-InflammatoryPlant ExtractSlimmingOdour RemovalPore ReductionSebum ControlSkin Repair and ProtectionSmoothing'],\n",
       " ['MFCI',\n",
       "  'https://www.aston-chemicals.com/supplier?id=26',\n",
       "  'Related Functions\\nUV Filter'],\n",
       " ['NuCera Solutions',\n",
       "  'https://www.aston-chemicals.com/supplier?id=15',\n",
       "  'Related Functions\\nStructuring AgentRheology ModifierEmollientFilm FormerEmulsifier'],\n",
       " ['OnScent',\n",
       "  'https://www.aston-chemicals.com/supplier?id=16',\n",
       "  'Related Functions\\nPigment - UntreatedPlant ExtractExfoliantAnti-Microbial PropertiesVegetable Oil / ButterActive IngredientAnti-AgeingAnti-InflammatoryAnti-Oxidant'],\n",
       " ['Shin-Etsu',\n",
       "  'https://www.aston-chemicals.com/supplier?id=18',\n",
       "  'Related Functions\\nRheology ModifierSiliconeSoft FocusEmollientEmulsifierFilm FormerMicrosphereSebum ControlPigment - Treated'],\n",
       " ['Solabia Group',\n",
       "  'https://www.aston-chemicals.com/supplier?id=19',\n",
       "  'Related Functions\\nAnti-AgeingAnti-InflammatoryMoisturiserSilicone AlternativePlant ExtractActive IngredientEmollientCoolingSebum ControlAnti-Microbial PropertiesHair Loss ReductionHair ShineSlimmingWhiteningPeptide / ProteinSkin EnergisingMineral PowderVegetable Oil / ButterSkin Repair and ProtectionAnti-PollutionExfoliantRheology ModifierAnti-AcneAnti-OxidantRadiance'],\n",
       " ['Sunjin Beauty Science',\n",
       "  'https://www.aston-chemicals.com/supplier?id=21',\n",
       "  'Related Functions\\nMicrosphereSebum ControlSoft FocusWhiteningVolumisingDelivery SystemBulking AgentUV FilterPigment - TreatedEmulsifierRheology ModifierEmollientActive IngredientStructuring Agent'],\n",
       " ['Toyo Sugar Refining Co., Ltd.',\n",
       "  'https://www.aston-chemicals.com/supplier?id=42',\n",
       "  'Related Functions\\nMoisturiserAnti-AgeingAnti-InflammatoryActive IngredientAnti-Oxidant'],\n",
       " ['Venator',\n",
       "  'https://www.aston-chemicals.com/supplier?id=17',\n",
       "  'Related Functions\\nPigment - Untreated'],\n",
       " ['Vertellus',\n",
       "  'https://www.aston-chemicals.com/supplier?id=22',\n",
       "  'Related Functions\\nEmollientVegetable Oil / ButterRheology ModifierMoisturiserStructuring AgentHair StylingEmulsifierAnti-Acne']]"
      ]
     },
     "execution_count": 12,
     "metadata": {},
     "output_type": "execute_result"
    }
   ],
   "source": [
    "det"
   ]
  },
  {
   "cell_type": "code",
   "execution_count": null,
   "metadata": {},
   "outputs": [],
   "source": []
  }
 ],
 "metadata": {
  "kernelspec": {
   "display_name": "Python 3",
   "language": "python",
   "name": "python3"
  },
  "language_info": {
   "codemirror_mode": {
    "name": "ipython",
    "version": 3
   },
   "file_extension": ".py",
   "mimetype": "text/x-python",
   "name": "python",
   "nbconvert_exporter": "python",
   "pygments_lexer": "ipython3",
   "version": "3.7.3"
  }
 },
 "nbformat": 4,
 "nbformat_minor": 2
}
