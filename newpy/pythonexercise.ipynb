{
 "cells": [
  {
   "cell_type": "code",
   "execution_count": 2,
   "metadata": {},
   "outputs": [
    {
     "name": "stdout",
     "output_type": "stream",
     "text": [
      "Number of Even Number:  4\n",
      "Number of Odd Number:  5\n"
     ]
    }
   ],
   "source": [
    "s = (1,2,3,4,5,6,7,8,9)\n",
    "even_count, odd_count = 0, 0\n",
    "\n",
    "for i in s:\n",
    "    if i % 2 == 0:\n",
    "        even_count+=1\n",
    "    else:\n",
    "        odd_count+=1\n",
    "print(\"Number of Even Number: \",even_count)\n",
    "print(\"Number of Odd Number: \",odd_count)"
   ]
  },
  {
   "cell_type": "code",
   "execution_count": 6,
   "metadata": {},
   "outputs": [
    {
     "name": "stdout",
     "output_type": "stream",
     "text": [
      "1505,1540,1575,1610,1645,1680,1715,1750,1785,1820,1855,1890,1925,1960,1995,2030,2065,2100,2135,2170,2205,2240,2275,2310,2345,2380,2415,2450,2485,2520,2555,2590,2625,2660,2695\n"
     ]
    }
   ],
   "source": [
    "s1 = []\n",
    "for num in range(1500,2701):\n",
    "    if (num%5==0) and (num%7==0):\n",
    "        s1.append(str(num))\n",
    "print(','.join(s1))"
   ]
  },
  {
   "cell_type": "code",
   "execution_count": 16,
   "metadata": {},
   "outputs": [
    {
     "name": "stdout",
     "output_type": "stream",
     "text": [
      "1\n",
      "2\n",
      "fiz\n",
      "4\n",
      "5\n",
      "fiz\n",
      "7\n",
      "8\n",
      "fiz\n",
      "10\n",
      "11\n",
      "fiz\n",
      "13\n",
      "14\n",
      "fizbuzz\n",
      "16\n",
      "17\n",
      "fiz\n",
      "19\n",
      "20\n",
      "fiz\n",
      "22\n",
      "23\n",
      "fiz\n",
      "25\n",
      "26\n",
      "fiz\n",
      "28\n",
      "29\n",
      "fizbuzz\n",
      "31\n",
      "32\n",
      "fiz\n",
      "34\n",
      "35\n",
      "fiz\n",
      "37\n",
      "38\n",
      "fiz\n",
      "40\n",
      "41\n",
      "fiz\n",
      "43\n",
      "44\n",
      "fizbuzz\n",
      "46\n",
      "47\n",
      "fiz\n",
      "49\n",
      "50\n"
     ]
    }
   ],
   "source": [
    "\n",
    "for num in range(1,51):\n",
    "    s = []\n",
    "    if num%3==0 and num%5==0:\n",
    "        print(\"fizbuzz\")\n",
    "        continue\n",
    "    elif num%3==0:\n",
    "        print(\"fiz\")\n",
    "        continue\n",
    "    elif num%3==0:\n",
    "        print(\"buzz\")\n",
    "        continue\n",
    "    \n",
    "    print(num)"
   ]
  },
  {
   "cell_type": "code",
   "execution_count": 24,
   "metadata": {},
   "outputs": [
    {
     "name": "stdout",
     "output_type": "stream",
     "text": [
      "Enter the number to calculate sum & average: 55\n",
      "sum of 55 number is:  1540\n",
      "Average of 55 number is:  28.0\n"
     ]
    }
   ],
   "source": [
    "n = input(\"Enter the number to calculate sum & average: \")\n",
    "n = int(n)\n",
    "sum = 0\n",
    "for num in range(0 ,n+1, 1):\n",
    "    sum = sum + num\n",
    "average = sum/n\n",
    "print(\"sum of\", n, \"number is: \",sum)\n",
    "print(\"Average of\", n, \"number is: \",average)"
   ]
  },
  {
   "cell_type": "code",
   "execution_count": 3,
   "metadata": {},
   "outputs": [
    {
     "name": "stdout",
     "output_type": "stream",
     "text": [
      "Enter the Number: 4\n",
      "24\n"
     ]
    }
   ],
   "source": [
    "n = int(input(\"Enter the Number: \"))\n",
    "result = 1\n",
    "for i in range(n,0,-1):\n",
    "    result = result * i\n",
    "print(result)\n",
    " "
   ]
  },
  {
   "cell_type": "code",
   "execution_count": 8,
   "metadata": {},
   "outputs": [
    {
     "name": "stdout",
     "output_type": "stream",
     "text": [
      "[2, 4, 6, 8]\n"
     ]
    }
   ],
   "source": [
    "s = [1,2,3,4,5,6,7,8,9]\n",
    "s2 = [i for i in s if i%2==0]\n",
    "print(s2)"
   ]
  },
  {
   "cell_type": "code",
   "execution_count": 9,
   "metadata": {},
   "outputs": [
    {
     "name": "stdout",
     "output_type": "stream",
     "text": [
      "[('rajnish', 9), ('ravi', 10), ('sanjeev', 15), ('suraj', 32), ('yash', 2)]\n"
     ]
    }
   ],
   "source": [
    "key_value = {\"ravi\":10,\"rajnish\":9,\"sanjeev\":15,\"yash\":2,\"suraj\":32}\n",
    "print(list(sorted(key_value.items())))"
   ]
  },
  {
   "cell_type": "code",
   "execution_count": 4,
   "metadata": {},
   "outputs": [
    {
     "name": "stdout",
     "output_type": "stream",
     "text": [
      "{'i': 1, \"'\": 1, 'a': 3, 'm': 3, 'p': 1, 'r': 3, 'o': 1, 'g': 1, 'e': 1}\n"
     ]
    }
   ],
   "source": [
    "string = \"i'am a programmer\"\n",
    "string1= string.replace(' ','')\n",
    "dict = {}\n",
    "\n",
    "for i in string1:\n",
    "    if i in dict:\n",
    "       dict[i] += 1\n",
    "    else :\n",
    "       dict[i] = 1\n",
    "print(dict)"
   ]
  },
  {
   "cell_type": "code",
   "execution_count": 11,
   "metadata": {},
   "outputs": [
    {
     "name": "stdout",
     "output_type": "stream",
     "text": [
      "i = 1\n",
      "a = 3\n",
      "m = 3\n",
      "p = 1\n",
      "r = 3\n",
      "o = 1\n",
      "g = 1\n",
      "e = 1\n"
     ]
    }
   ],
   "source": [
    "string = 'i am a programmer'\n",
    "string = string.replace(' ', '')\n",
    "\n",
    "temp = ''\n",
    "\n",
    "for s in string:\n",
    "    if s not in temp:\n",
    "        temp = temp + s\n",
    "        \n",
    "for t in temp:\n",
    "    count = 0\n",
    "    for s in string:\n",
    "        if s == t:\n",
    "            count += 1\n",
    "    print(t, '=', count)"
   ]
  },
  {
   "cell_type": "code",
   "execution_count": 3,
   "metadata": {},
   "outputs": [
    {
     "name": "stdout",
     "output_type": "stream",
     "text": [
      "('123', 11.090536506409418)\n",
      "('456', 21.354156504062622)\n",
      "('789', 28.089143810376278)\n",
      "('009', 3.0)\n",
      "('876', 29.597297173897484)\n",
      "('512', 22.627416997969522)\n",
      "('345', 18.57417562100671)\n"
     ]
    }
   ],
   "source": [
    "n = 123456789009876512345\n",
    "n1 = str(n)\n",
    "Pair = 3\n",
    "\n",
    "\n",
    "for i in range(0, len(n1),Pair):\n",
    "   n2 = n1[i:i+Pair]\n",
    "   result = (int(n2)**(0.5))\n",
    "   print((n2,result))"
   ]
  },
  {
   "cell_type": "code",
   "execution_count": null,
   "metadata": {},
   "outputs": [],
   "source": []
  }
 ],
 "metadata": {
  "kernelspec": {
   "display_name": "Python 3",
   "language": "python",
   "name": "python3"
  },
  "language_info": {
   "codemirror_mode": {
    "name": "ipython",
    "version": 3
   },
   "file_extension": ".py",
   "mimetype": "text/x-python",
   "name": "python",
   "nbconvert_exporter": "python",
   "pygments_lexer": "ipython3",
   "version": "3.7.3"
  }
 },
 "nbformat": 4,
 "nbformat_minor": 2
}
