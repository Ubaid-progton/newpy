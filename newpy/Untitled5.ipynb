{
 "cells": [
  {
   "cell_type": "code",
   "execution_count": 21,
   "metadata": {},
   "outputs": [
    {
     "name": "stdout",
     "output_type": "stream",
     "text": [
      "['Metamorphosis Partners', '/company-profile/overview/474309']\n",
      "['One Cell Foods, Inc.', '/company-profile/overview/517609']\n",
      "['Rooster Farms', '/company-profile/overview/503652']\n",
      "['Snubbies, LLC', '/company-profile/overview/519346']\n",
      "['Vgarden', '/company-profile/overview/513764']\n",
      "['Albany Food Industries Pte Ltd', '/company-profile/overview/2279']\n",
      "['Ashna Foods', '/company-profile/overview/3978']\n",
      "[\"Bella's Cookies\", '/company-profile/overview/4813']\n",
      "['Brooks Pepperfire Foods Inc.', '/company-profile/overview/3045']\n",
      "['ChangshaOrganic Herb Inc', '/company-profile/overview/1675']\n",
      "['China Xiamen Mingren Tea Co. LTD', '/company-profile/overview/4282']\n",
      "['Clubhouse Foods Inc', '/company-profile/overview/6883']\n",
      "['Cohveca Coffee', '/company-profile/overview/2456']\n",
      "['Coldani Olive Ranch', '/company-profile/overview/305283']\n",
      "['Colorlight Creative', '/company-profile/overview/118648']\n",
      "['Conte Luna Foods', '/company-profile/overview/3047']\n",
      "['Divina Desserts USA', '/company-profile/overview/1839']\n",
      "['Expedition Tea Company', '/company-profile/overview/26494']\n",
      "['Fairytale Brownies', '/company-profile/overview/1100']\n",
      "['FIGS Market', '/company-profile/overview/2646']\n",
      "['Fortitech, Inc.', '/company-profile/overview/3925']\n",
      "['früute', '/company-profile/overview/183282']\n",
      "['Gnu Foods, LLC', '/company-profile/overview/4826']\n",
      "['Healthy Food for Pets', '/company-profile/overview/2137']\n",
      "['Heartsong Herbal Brewing Company', '/company-profile/overview/1146']\n",
      "['Karnataka Plantation Coffee', '/company-profile/overview/3156']\n",
      "['Khushal Genetics (Food Division)', '/company-profile/overview/4439']\n",
      "['Mama Vega*s Products', '/company-profile/overview/4812']\n",
      "['McPugs Grub Rubs', '/company-profile/overview/1430']\n",
      "['Merdeka Coffee', '/company-profile/overview/3846']\n",
      "['Miracle Muffins', '/company-profile/overview/6121']\n",
      "[\"Nanny's Jamaican Kitchen, Inc.\", '/company-profile/overview/4385']\n",
      "['Neco Foods, LLC', '/company-profile/overview/154188']\n",
      "['NewBoy FZCO', '/company-profile/overview/70987']\n",
      "['NIngbo Tiangong Fazenda Fruit Juice & Fruit Wine Co., Ltd', '/company-profile/overview/3882']\n",
      "['Nutritional Institute', '/company-profile/overview/3469']\n",
      "['Old Meeting House Homemade Ice Cream', '/company-profile/overview/1297']\n",
      "['Peacock Moon', '/company-profile/overview/4626']\n",
      "['Revive Energy Mints Franchise - Revive Franchising, LLC', '/company-profile/overview/104856']\n",
      "['Source-Omega', '/company-profile/overview/72407']\n",
      "[\"Tai'an Zhonghui Plant Biochemical Co.,Ltd.\", '/company-profile/overview/2577']\n",
      "['Terra Ken Herbal Remedies Shoppe', '/company-profile/overview/2069']\n",
      "['Tiba Expo', '/company-profile/overview/4131']\n",
      "['Unit Brazil', '/company-profile/overview/17038']\n",
      "['Vital Essentials', '/company-profile/overview/454727']\n",
      "['With Gratitude, Inc.', '/company-profile/overview/1359']\n",
      "['XanGo, LLC', '/company-profile/overview/14110']\n",
      "['XTREME Performance', '/company-profile/overview/2769']\n",
      "['Xuancheng Baicao Plants Industry And Trade Co., Ltd.', '/company-profile/overview/4599']\n",
      "['Z International NY, Inc', '/company-profile/overview/5304']\n"
     ]
    }
   ],
   "source": [
    "import requests\n",
    "from bs4 import BeautifulSoup\n",
    "\n",
    "base_url = \"https://www.pr.com/business-directory/266\"\n",
    "\n",
    "def ds(url_name):\n",
    "    r = requests.get(url_name)\n",
    "    return BeautifulSoup(r.content,\"lxml\")\n",
    "soup = ds(url)\n",
    "prod = soup.find_all('h3',class_=\"listing__title\")\n",
    "c = []\n",
    "# print(prod.text)\n",
    "for i in prod:\n",
    "    name = i.text\n",
    "    link = i.find('a')['href']\n",
    "    print([name,link])\n",
    "    s2 = ds(link)\n",
    "    print(s2)\n",
    "    \n",
    "#     s2 = ds(link)\n",
    "    \n",
    "    \n",
    "    \n",
    "    \n",
    "\n"
   ]
  },
  {
   "cell_type": "code",
   "execution_count": 22,
   "metadata": {},
   "outputs": [
    {
     "name": "stdout",
     "output_type": "stream",
     "text": [
      "2002,2009,2016,2023,2037,2044,2051,2058,2072,2079,2086,2093,2107,2114,2121,2128,2142,2149,2156,2163,2177,2184,2191,2198,2212,2219,2226,2233,2247,2254,2261,2268,2282,2289,2296,2303,2317,2324,2331,2338,2352,2359,2366,2373,2387,2394,2401,2408,2422,2429,2436,2443,2457,2464,2471,2478,2492,2499,2506,2513,2527,2534,2541,2548,2562,2569,2576,2583,2597,2604,2611,2618,2632,2639,2646,2653,2667,2674,2681,2688,2702,2709,2716,2723,2737,2744,2751,2758,2772,2779,2786,2793,2807,2814,2821,2828,2842,2849,2856,2863,2877,2884,2891,2898,2912,2919,2926,2933,2947,2954,2961,2968,2982,2989,2996,3003,3017,3024,3031,3038,3052,3059,3066,3073,3087,3094,3101,3108,3122,3129,3136,3143,3157,3164,3171,3178,3192,3199\n"
     ]
    }
   ],
   "source": [
    "s1 = []\n",
    "for num in range(2000,3201):\n",
    "    if (num%5!=0) and (num%7==0):\n",
    "        s1.append(str(num))\n",
    "print(','.join(s1))"
   ]
  },
  {
   "cell_type": "code",
   "execution_count": 24,
   "metadata": {},
   "outputs": [
    {
     "name": "stdout",
     "output_type": "stream",
     "text": [
      "Enter the number: 8\n",
      "[{1: 1, 2: 4, 3: 9, 4: 16, 5: 25, 6: 36, 7: 49, 8: 64}]\n"
     ]
    }
   ],
   "source": [
    "n = int(input(\"Enter the number: \"))\n",
    "squares=[{i:i*i for i in range(1,n+1)}]\n",
    "\n",
    "print(squares)\n",
    "\n",
    "    "
   ]
  },
  {
   "cell_type": "code",
   "execution_count": null,
   "metadata": {},
   "outputs": [],
   "source": []
  }
 ],
 "metadata": {
  "kernelspec": {
   "display_name": "Python 3",
   "language": "python",
   "name": "python3"
  },
  "language_info": {
   "codemirror_mode": {
    "name": "ipython",
    "version": 3
   },
   "file_extension": ".py",
   "mimetype": "text/x-python",
   "name": "python",
   "nbconvert_exporter": "python",
   "pygments_lexer": "ipython3",
   "version": "3.7.3"
  }
 },
 "nbformat": 4,
 "nbformat_minor": 2
}
