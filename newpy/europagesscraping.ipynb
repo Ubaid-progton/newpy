{
 "cells": [
  {
   "cell_type": "code",
   "execution_count": 7,
   "metadata": {},
   "outputs": [
    {
     "name": "stdout",
     "output_type": "stream",
     "text": [
      "[['MARUDERM BEAUTY AND COSMETICS', 'https://www.europages.co.uk/MARUDERM-BEAUTY-AND-COSMETICS/00000005479898-001.html', ' Turkey', 'Yeni Bahcekoy Mah. Orta Selvi Sok. No 2B Sariyer 34473 Istanbul'], ['LABORATOIRE COSMÉTIQUE DÔM LABS', 'https://www.europages.co.uk/LABORATOIRE-COSMETIQUE-DOM-LABS/00000005478163-001.html', ' France', '26 rue Bois le Vent 75016 Paris'], ['LISINE EPSTEIN COSMETICS BV', 'https://www.europages.co.uk/LISINE-EPSTEIN-COSMETICS-BV/00000005489559-001.html', ' Belgium', 'Evolis 100 8500 Kortrijk'], ['MCH COSMETIC', 'https://www.europages.co.uk/MCH-COSMETIC/00000005422422-001.html', ' Turkey', 'Cinardere Mh. Oba Sk.No:2 34896 Pendik/ Istanbul'], ['ESSENCIA AG', 'https://www.europages.co.uk/ESSENCIA-AG/CHE007204-00101.html', ' Switzerland', 'Stäffelistrasse 8 8409 Winterthur'], ['WACHSFABRIK SEGEBERG GMBH', 'https://www.europages.co.uk/WACHSFABRIK-SEGEBERG-GMBH/00000005316847-001.html', ' Germany', 'Asternweg 11 23795 Bad Segeberg'], ['JÜSTRICH COSMETICS AG', 'https://www.europages.co.uk/JUSTRICH-COSMETICS-AG/00000005286141-001.html', ' Switzerland', 'Auerstrasse 39 9442 Berneck'], ['LOUISE PLEGÉ COSMETICS', 'https://www.europages.co.uk/LOUISE-PLEGE-COSMETICS/00000005313776-001.html', ' Austria', 'Heizhausgasse 11 5500 Bischofshofen'], ['AYCAN COSMETICS TR', 'https://www.europages.co.uk/AYCAN-COSMETICS-TR/00000005466081-837889001.html', ' Turkey', 'B.O.S.B. Birlik Sanayi Sitesi 3.Cadde 87 A Beylikduzu Istanbul 34524 Istanbul'], ['NORTEMPRESA PERFUME & COSMETICS MANUFACTURER', 'https://www.europages.co.uk/NORTEMPRESA-PERFUME-COSMETICS-MANUFACTURER/00000003914907-198463001.html', ' Portugal', 'Rua Parque Bouça das Mouras, Nº 56 4715-216 Braga'], ['FÉRET PARFUMEUR', 'https://www.europages.co.uk/FERET-PARFUMEUR/00000005474134-001.html', ' France', 'Chez Genin - 5 Chemin du Maine Gaillard 16200 Bourg-Charente'], ['JSB TRADING LTD_', 'https://www.europages.co.uk/JSB-TRADING-LTD/00000005460646-828319001.html', ' Cyprus', 'Peiraios 30 Strovolos 2023 Nicosia'], ['PHARMALTITUDE', 'https://www.europages.co.uk/PHARMALTITUDE/00000004732165-001.html', ' France', 'ROMESAC  36110 Levroux'], ['RBG PARIS - ROSE OF BULGARIA', 'https://www.europages.co.uk/RBG-PARIS-ROSE-OF-BULGARIA/00000003747081-000017952001.html', ' France', 'Chemin du Hallot 27630 Vexin Sur Epte'], ['LABORATORIOS MAGRIÑA', 'https://www.europages.co.uk/LABORATORIOS-MAGRINA/ESP188473-000020625001.html', ' Spain', 'Pereda, 1 - Polígono Monsolís 08930 Sant Adrià De Besòs-Barcelona'], ['TECNOCOSMETICA - PRIVATE LABEL & CONTRACT SERVICES COSMETICS COMPANY', 'https://www.europages.co.uk/TECNOCOSMETICA-PRIVATE-LABEL-CONTRACT-SERVICES-COSMETICS-COMPANY/00000003988209-255928001.html', ' Portugal', 'Rua do Sol Nascente, n.º 7 Bl.1 Fr.C 2660-009 Loures'], ['AMELIA COSMETICS', 'https://www.europages.co.uk/AMELIA-COSMETICS/00000005295468-605654001.html', ' Spain', 'Plaza Sueve, 92 33192 Silvota-Llanera (asturias)'], [\"LABO'T COSMETIQUES\", 'https://www.europages.co.uk/LABOT-COSMETIQUES/00000005480465-001.html', ' France', \"29 Rue de Paris 95500 Vaud'herland\"], ['MFALME HHC WHOLESALER', 'https://www.europages.co.uk/MFALME-HHC-WHOLESALER/00000005453934-005.html', ' France', '111 Grande Rue 01700 Miribel'], ['INTERDERMA - COSMETIC PRODUCTS MANUFACTURER -GMP- MEDITOPIC INTERNATIONAL DISTRIBUTORS WANTED', 'https://www.europages.co.uk/INTERDERMA-COSMETIC-PRODUCTS-MANUFACTURER-GMP-MEDITOPIC-INTERNATIONAL-DISTRIBUTORS-WANTED/00000005450937-792994001.html', ' Spain', 'Av. Mare Nostrum 7 46120 Valencia'], ['ROBIS', 'https://www.europages.co.uk/ROBIS/00000004666451-467568001.html', ' Spain', 'Calle Colomera, parcela R-172 - Pol. Ind. Juncaril 18220 Albolote-Granada'], ['VIVIPHARMA S.P.A.', 'https://www.europages.co.uk/VIVIPHARMA-SPA/00000004636202-444729001.html', ' San Marino', 'Via Guardia del Consiglio 15 47891 Galazzano'], ['UZER PHARMA', 'https://www.europages.co.uk/UZER-PHARMA/00000005459044-825239001.html', ' Turkey', 'Bati Sitesi Mah 2305/1 Cad. No 25/C Yenimahalle/Ankara 06370 Ankara'], ['A&T COSMETICS KFT', 'https://www.europages.co.uk/AT-COSMETICS-KFT/00000005269550-583422001.html', ' Hungary', 'Ulaszlo utca 38 6/5, 1114 Budapest'], ['AY GROUP', 'https://www.europages.co.uk/AY-GROUP/00000005468485-841061001.html', ' Turkey', '42 Maslak Sariyer Istanbul 34485 Istanbul'], ['HENI COSMETICS CHEMICAL INDUSTRY', 'https://www.europages.co.uk/HENI-COSMETICS-CHEMICAL-INDUSTRY/00000005477608-001.html', ' Turkey', 'Yakuplu Mahallesi Hurriyet Bulvari 34000 Istanbul'], [\"L'ORIGINE S.A.L COSMETICS & TOILETRIES MANUFACTURING\", 'https://www.europages.co.uk/LORIGINE-SAL-COSMETICS-TOILETRIES-MANUFACTURING/00000005242120-559484001.html', ' Lebanon', 'Lebanon - Bekaa - Taanayel ins. Plot 261, P.O.Box: 62 Shtura - Lebanon 1802 Chtaura'], ['BELITA-VITEX', 'https://www.europages.co.uk/BELITAVITEX/00000005267233-580651001.html', ' Belarus', 'Smirnova Street 2 220089 Minsk'], ['MAMAAURA DERMO COSMETICS GMBH', 'https://www.europages.co.uk/MAMAAURA-DERMO-COSMETICS-GMBH/00000005452977-796597001.html', ' Germany', 'Munchener str 18, 85774 Unterfohring'], ['DAKIMO1 HUILERIE COSMÉTIQUE', 'https://www.europages.co.uk/DAKIMO1-HUILERIE-COSMETIQUE/00000005325030-621902001.html', ' Benin', 'PK  14 route de ouidah 00229 Abomey-Calavi']]\n"
     ]
    }
   ],
   "source": [
    "import requests\n",
    "from bs4 import BeautifulSoup\n",
    "# import pandas as pd\n",
    "f = []\n",
    "for x in range(1,16):\n",
    "    base_url=\"https://www.europages.co.uk\"\n",
    "    url =f\"https://www.europages.co.uk/companies/manufacturer%20producer/pg-{x}/cosmetics%20manufacturing.html\"\n",
    "    def ds(url_name):\n",
    "        r = requests.get(url_name)\n",
    "        return BeautifulSoup(r.content,\"lxml\")\n",
    "    soup = ds(url)\n",
    "    company = soup.find_all('header',{\"class\":\"ep-ecard__top-actions\"})\n",
    "#     print(url)\n",
    "\n",
    "\n",
    "    for i in company:\n",
    "        name = i.find('p').text.strip().replace('\\n','')\n",
    "        links = base_url + i.a['href']\n",
    "        s2 = ds(links)\n",
    "        country = s2.find('p',class_=\"ma-0\").text\n",
    "        add = s2.find('div',class_=\"v-card__text\").find('p',class_=\"ma-0\").text\n",
    "        sub = s2.find('div',class_=\"v-card__text\").find_all('p',class_=\"ma-0\")[2].text\n",
    "        address = add + ' ' + sub\n",
    "        f.append([name,links,country,address])\n",
    "    print(f)\n",
    "    break\n",
    "# # df = pd.DataFrame(f,columns=[\"Company Name\",\"Website\",\"Country\",\"Address\"])\n",
    "# # # print(df)\n",
    "# # df.to_csv(\"euro.csv\")\n",
    "        \n",
    "    \n"
   ]
  },
  {
   "cell_type": "code",
   "execution_count": 23,
   "metadata": {},
   "outputs": [
    {
     "ename": "AttributeError",
     "evalue": "'NoneType' object has no attribute 'find'",
     "output_type": "error",
     "traceback": [
      "\u001b[0;31m---------------------------------------------------------------------------\u001b[0m",
      "\u001b[0;31mAttributeError\u001b[0m                            Traceback (most recent call last)",
      "\u001b[0;32m<ipython-input-23-00c64745d3aa>\u001b[0m in \u001b[0;36m<module>\u001b[0;34m\u001b[0m\n\u001b[1;32m      7\u001b[0m     \u001b[0;32mreturn\u001b[0m \u001b[0mBeautifulSoup\u001b[0m\u001b[0;34m(\u001b[0m\u001b[0mr\u001b[0m\u001b[0;34m.\u001b[0m\u001b[0mcontent\u001b[0m\u001b[0;34m,\u001b[0m\u001b[0;34m\"lxml\"\u001b[0m\u001b[0;34m)\u001b[0m\u001b[0;34m\u001b[0m\u001b[0;34m\u001b[0m\u001b[0m\n\u001b[1;32m      8\u001b[0m \u001b[0ms1\u001b[0m \u001b[0;34m=\u001b[0m \u001b[0mbs\u001b[0m\u001b[0;34m(\u001b[0m\u001b[0murl_2\u001b[0m\u001b[0;34m)\u001b[0m\u001b[0;34m\u001b[0m\u001b[0;34m\u001b[0m\u001b[0m\n\u001b[0;32m----> 9\u001b[0;31m \u001b[0mname\u001b[0m \u001b[0;34m=\u001b[0m \u001b[0ms1\u001b[0m\u001b[0;34m.\u001b[0m\u001b[0mfind\u001b[0m\u001b[0;34m(\u001b[0m\u001b[0;34m'div'\u001b[0m\u001b[0;34m,\u001b[0m\u001b[0;34m{\u001b[0m\u001b[0;34m\"class\"\u001b[0m\u001b[0;34m:\u001b[0m\u001b[0;34m\"card-content-container css-1a8w37c\"\u001b[0m\u001b[0;34m}\u001b[0m\u001b[0;34m)\u001b[0m\u001b[0;34m.\u001b[0m\u001b[0mfind\u001b[0m\u001b[0;34m(\u001b[0m\u001b[0;34m'h6'\u001b[0m\u001b[0;34m,\u001b[0m\u001b[0;34m{\u001b[0m\u001b[0;34m\"class\"\u001b[0m\u001b[0;34m:\u001b[0m\u001b[0;34m\"MuiTypography-root MuiTypography-h6 css-qy7evr-MuiTypography-root\"\u001b[0m\u001b[0;34m}\u001b[0m\u001b[0;34m)\u001b[0m\u001b[0;34m\u001b[0m\u001b[0;34m\u001b[0m\u001b[0m\n\u001b[0m\u001b[1;32m     10\u001b[0m \u001b[0mprint\u001b[0m\u001b[0;34m(\u001b[0m\u001b[0mname\u001b[0m\u001b[0;34m)\u001b[0m\u001b[0;34m\u001b[0m\u001b[0;34m\u001b[0m\u001b[0m\n",
      "\u001b[0;31mAttributeError\u001b[0m: 'NoneType' object has no attribute 'find'"
     ]
    }
   ],
   "source": [
    "import requests\n",
    "from bs4 import BeautifulSoup\n",
    "\n",
    "url_2 =\"https://employee.zimyo.work/dashboard/my-dashboard\"\n",
    "def bs(url_n):\n",
    "    r = requests.get(url_n)\n",
    "    return BeautifulSoup(r.content,\"lxml\")\n",
    "s1 = bs(url_2)\n",
    "name = s1.find('div',{\"class\":\"card-content-container css-1a8w37c\"}).find('h6',{\"class\":\"MuiTypography-root MuiTypography-h6 css-qy7evr-MuiTypography-root\"})\n",
    "print(name)"
   ]
  },
  {
   "cell_type": "code",
   "execution_count": null,
   "metadata": {},
   "outputs": [],
   "source": []
  }
 ],
 "metadata": {
  "kernelspec": {
   "display_name": "Python 3",
   "language": "python",
   "name": "python3"
  },
  "language_info": {
   "codemirror_mode": {
    "name": "ipython",
    "version": 3
   },
   "file_extension": ".py",
   "mimetype": "text/x-python",
   "name": "python",
   "nbconvert_exporter": "python",
   "pygments_lexer": "ipython3",
   "version": "3.7.3"
  }
 },
 "nbformat": 4,
 "nbformat_minor": 2
}
