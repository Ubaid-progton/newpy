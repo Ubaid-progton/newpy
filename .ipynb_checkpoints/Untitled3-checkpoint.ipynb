{
 "cells": [
  {
   "cell_type": "code",
   "execution_count": null,
   "metadata": {},
   "outputs": [],
   "source": [
    "import requests\n",
    "from bs4 import BeautifulSoup\n",
    "\n",
    "url = \"https://www.aston-chemicals.com/formulations\"\n",
    "base_url = \"https://www.aston-chemicals.com/\"\n",
    "def cs(url_l):\n",
    "    r = requests.get(url_l)\n",
    "    return BeautifulSoup(r.content,\"lxml\")\n",
    "s1 = cs(url)\n",
    "formu = s1.find_all('div',{\"class\":\"listAllBlock listAllBlockFormulation\"})\n",
    "l = []\n",
    "for i in formu:\n",
    "    name = i.text.strip()\n",
    "    link = base_url + i.find(\"a\")[\"href\"]\n",
    "    l.append([name,link])\n",
    "    s2 = cs(link)\n",
    "    des = s2.find_all('div',class_=\"left-column leftColumnStandard\")\n",
    "    for j in des:\n",
    "        dess = j.text.strip()\n",
    "        links = j.find('a')\n",
    "        if link2:\n",
    "            l.append(links['href'])\n",
    "        else:\n",
    "            l.append(\"\")\n",
    "    print(l)\n",
    "        \n",
    "    \n",
    "# print(l)\n",
    "    \n",
    "    "
   ]
  },
  {
   "cell_type": "code",
   "execution_count": null,
   "metadata": {},
   "outputs": [],
   "source": []
  }
 ],
 "metadata": {
  "kernelspec": {
   "display_name": "Python 3",
   "language": "python",
   "name": "python3"
  },
  "language_info": {
   "codemirror_mode": {
    "name": "ipython",
    "version": 3
   },
   "file_extension": ".py",
   "mimetype": "text/x-python",
   "name": "python",
   "nbconvert_exporter": "python",
   "pygments_lexer": "ipython3",
   "version": "3.7.3"
  }
 },
 "nbformat": 4,
 "nbformat_minor": 2
}
