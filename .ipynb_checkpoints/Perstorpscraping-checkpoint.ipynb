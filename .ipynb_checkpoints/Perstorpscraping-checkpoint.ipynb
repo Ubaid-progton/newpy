{
 "cells": [
  {
   "cell_type": "code",
   "execution_count": 1,
   "metadata": {},
   "outputs": [
    {
     "name": "stdout",
     "output_type": "stream",
     "text": [
      "Akestra™ is a remarkable thermoplastic with a sparkling glass-like appearance. It can be used as a polystyrene alternative for heat resistant thin wall containers, a polycarbonate alternative for durable “dishwasher proof” transparent products, and a glass alternative for hot-fill food containers.\r\n",
      "Akestra™ 100 is a medium Tg grade in the Akestra™ family. It is suitable for films, sheets, blow molding, foams and injection moulding\r\n",
      "Akestra™ is available in Europe.\n"
     ]
    }
   ],
   "source": [
    "import requests\n",
    "from bs4 import BeautifulSoup\n",
    "url = requests.get(\"https://www.perstorp.com/en/products/akestra_100\")\n",
    "html = url.content\n",
    "soup = BeautifulSoup(html,\"lxml\")\n",
    "h = soup.find('div', class_=\"u-grid__cell u-grid__cell--width-100 u-grid__cell--width-66@md\")\n",
    "link = soup.find('div', class_=\"o-product-downloads__column u-grid__cell u-grid__cell--width-100 u-grid__cell--width-50@sm u-grid__cell--width-25@md\")\n",
    "p = h.find('div',class_=\"m-rich-text o-product__rte\").text.strip()\n",
    "num2 = h.find('p',class_=\"o-product__identifier\").find_all(\"span\",{\"style\":\"font-weight:500\"})\n",
    "\n",
    "h2 = [i.text for i in num2]\n",
    "h2.append(link.a['href'].strip())\n",
    "# h2.append()\n",
    "print(p)\n",
    "h2.append(p)"
   ]
  },
  {
   "cell_type": "code",
   "execution_count": 2,
   "metadata": {},
   "outputs": [
    {
     "data": {
      "text/plain": [
       "['102070-64-4',\n",
       " '3907 99',\n",
       " 'https://www.perstorp.com/-/media/files/perstorp/pb/akestra.pdf',\n",
       " 'Akestra™ is a remarkable thermoplastic with a sparkling glass-like appearance. It can be used as a polystyrene alternative for heat resistant thin wall containers, a polycarbonate alternative for durable “dishwasher proof” transparent products, and a glass alternative for hot-fill food containers.\\r\\nAkestra™ 100 is a medium Tg grade in the Akestra™ family. It is suitable for films, sheets, blow molding, foams and injection moulding\\r\\nAkestra™ is available in Europe.']"
      ]
     },
     "execution_count": 2,
     "metadata": {},
     "output_type": "execute_result"
    }
   ],
   "source": [
    "h2"
   ]
  },
  {
   "cell_type": "code",
   "execution_count": null,
   "metadata": {},
   "outputs": [],
   "source": []
  },
  {
   "cell_type": "code",
   "execution_count": null,
   "metadata": {},
   "outputs": [],
   "source": []
  }
 ],
 "metadata": {
  "kernelspec": {
   "display_name": "Python 3",
   "language": "python",
   "name": "python3"
  },
  "language_info": {
   "codemirror_mode": {
    "name": "ipython",
    "version": 3
   },
   "file_extension": ".py",
   "mimetype": "text/x-python",
   "name": "python",
   "nbconvert_exporter": "python",
   "pygments_lexer": "ipython3",
   "version": "3.7.3"
  }
 },
 "nbformat": 4,
 "nbformat_minor": 2
}
